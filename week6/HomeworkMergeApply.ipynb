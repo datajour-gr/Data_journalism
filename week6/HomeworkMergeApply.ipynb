{
 "cells": [
  {
   "cell_type": "markdown",
   "metadata": {},
   "source": [
    "# # Συνδυάζοντας πολλά Dataframes με τη χρήση κλειδιών"
   ]
  },
  {
   "cell_type": "markdown",
   "metadata": {
    "collapsed": true
   },
   "source": [
    "Χρησιμοποιούμε ένα  σύνολο δεδομένων για τα επιδόματα ανεργίας και τους μισθούς στην Ευρώπη.\n",
    "\n",
    "## Data from https://data.oecd.org/"
   ]
  },
  {
   "cell_type": "markdown",
   "metadata": {},
   "source": [
    "## Ας κάνουμε τη συνήθη προετοιμασία και την εισαγωγή των δεδομένων μας"
   ]
  },
  {
   "cell_type": "code",
   "execution_count": 17,
   "metadata": {
    "collapsed": true
   },
   "outputs": [],
   "source": [
    "import pandas as pd\n",
    "%matplotlib inline"
   ]
  },
  {
   "cell_type": "markdown",
   "metadata": {},
   "source": [
    "This indicator measures the proportion of previous in-work household income maintained after 2, 6, 12, 24 and 60 months of unemployment. Calculations refer to a single person without children whose previous in-work earnings were 67% of the average wage.\n"
   ]
  },
  {
   "cell_type": "code",
   "execution_count": 18,
   "metadata": {
    "collapsed": true
   },
   "outputs": [],
   "source": [
    "df_uninc = pd.read_csv(\"https://stats.oecd.org/sdmx-json/data/DP_LIVE/AUT+BEL+BGR+CYP+CZE+DEU+DNK+ESP+EST+EU27_2020+FIN+FRA+GRC+HRV+HUN+IRL+ITA+LTU+LUX+LVA+MLT+NLD+OECD+POL+PRT+ROU+SVK+SVN+SWE.BENUNEMPPC.2MTH+6MTH+1YEAR+5YEAR.PC_PWI.A/OECD?contentType=csv&detail=code&separator=comma&csv-lang=en&startPeriod=2021\")"
   ]
  },
  {
   "cell_type": "code",
   "execution_count": 19,
   "metadata": {},
   "outputs": [
    {
     "data": {
      "text/plain": [
       "(108, 8)"
      ]
     },
     "execution_count": 19,
     "metadata": {},
     "output_type": "execute_result"
    }
   ],
   "source": [
    "df_uninc.shape"
   ]
  },
  {
   "cell_type": "markdown",
   "metadata": {},
   "source": [
    "Παρακάτω έχετε τις Ετήσιες Μέσες Αποδοχές (Average wages) σε δολάρια για τα έτη 2017-2020 για τις χώρες της Ευρώπης."
   ]
  },
  {
   "cell_type": "code",
   "execution_count": 20,
   "metadata": {
    "collapsed": true
   },
   "outputs": [],
   "source": [
    "df_wages = pd.read_csv(\"https://stats.oecd.org/sdmx-json/data/DP_LIVE/AUT+BEL+BGR+CYP+CZE+DEU+DNK+ESP+EST+EU27_2020+FIN+FRA+GRC+HRV+HUN+IRL+ITA+LTU+LUX+LVA+MLT+NLD+OECD+POL+PRT+ROU+SVK+SVN+SWE.AVWAGE.TOT.USD.A/OECD?contentType=csv&detail=code&separator=comma&csv-lang=en&startPeriod=2017\")"
   ]
  },
  {
   "cell_type": "code",
   "execution_count": 21,
   "metadata": {},
   "outputs": [
    {
     "data": {
      "text/plain": [
       "(92, 8)"
      ]
     },
     "execution_count": 21,
     "metadata": {},
     "output_type": "execute_result"
    }
   ],
   "source": [
    "df_wages.shape\n"
   ]
  },
  {
   "cell_type": "code",
   "execution_count": 22,
   "metadata": {},
   "outputs": [
    {
     "data": {
      "text/plain": [
       "LOCATION       object\n",
       "INDICATOR      object\n",
       "SUBJECT        object\n",
       "MEASURE        object\n",
       "FREQUENCY      object\n",
       "TIME            int64\n",
       "Value         float64\n",
       "Flag Codes    float64\n",
       "dtype: object"
      ]
     },
     "execution_count": 22,
     "metadata": {},
     "output_type": "execute_result"
    }
   ],
   "source": [
    "df_wages.dtypes"
   ]
  },
  {
   "cell_type": "markdown",
   "metadata": {},
   "source": [
    "## Ζητείται αξιοποιώντας τα ποσοστά που υπάρχουν στο 1ο dataframe να υπολογίσετε τα πραγματικά μηνιαία επιδόματα  (σε ευρώ) σύμφωνα με το μέσο ετήσιο μισθό των ετών 2017 -2020 όπως αυτοί  περιγράφονται  στο 2ο dataframe (df_wages). Για τον υπολογισμό του επιδόματος να κατασκευάσετε μια καινούργια συνάρτηση στην Python μέσω def και να την χρησιμοποιήσετε  μέσω του .apply()\n",
    "\n",
    "## Χρησιμοποιήστε την εντολή merge και διαβάστε λίγα περισσότερα γι αυτήν στο άρθρο :\n",
    "https://sparkbyexamples.com/pandas/pandas-merge-two-dataframes-on-multiple-columns/"
   ]
  },
  {
   "cell_type": "code",
   "execution_count": null,
   "metadata": {
    "collapsed": true
   },
   "outputs": [],
   "source": []
  },
  {
   "cell_type": "markdown",
   "metadata": {},
   "source": [
    "## Δημιουργήστε γραφήματα που δείχνουν για ένα συγκεκριμένο έτος τα επιδόματα που δίνονται σε ευρώ μετά από 12, 24 και 60 μήνες σε καθεστώς ανεργίας ενός εργαζόμενου για τις χώρες τις Ευρώπης"
   ]
  },
  {
   "cell_type": "code",
   "execution_count": null,
   "metadata": {
    "collapsed": true
   },
   "outputs": [],
   "source": []
  },
  {
   "cell_type": "markdown",
   "metadata": {},
   "source": [
    "## Αξιοποιήστε τα data sets που υπάρχουν στον ιστοχώρο  https://data.oecd.org/ . Συγκεκριμένα, χρησιμοποιήστε (όπως πχ είδατε παραπάνω) δύο dataframes από  διαφορετικά data sets, τα οποία έχουν ένα κοινό χαρακτηριστικό (key), κάντε ένα κατάλληλο merge και απαντήστε πιο σύνθετες ερωτήσεις κάνοντας τα αντίστοιχα διαγράμματα."
   ]
  },
  {
   "cell_type": "code",
   "execution_count": null,
   "metadata": {
    "collapsed": true
   },
   "outputs": [],
   "source": []
  },
  {
   "cell_type": "code",
   "execution_count": null,
   "metadata": {
    "collapsed": true
   },
   "outputs": [],
   "source": []
  }
 ],
 "metadata": {
  "kernelspec": {
   "display_name": "Python 3",
   "language": "python",
   "name": "python3"
  },
  "language_info": {
   "codemirror_mode": {
    "name": "ipython",
    "version": 3
   },
   "file_extension": ".py",
   "mimetype": "text/x-python",
   "name": "python",
   "nbconvert_exporter": "python",
   "pygments_lexer": "ipython3",
   "version": "3.6.4"
  }
 },
 "nbformat": 4,
 "nbformat_minor": 2
}
