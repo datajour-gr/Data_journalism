{
 "cells": [
  {
   "cell_type": "markdown",
   "metadata": {
    "collapsed": true
   },
   "source": [
    "##  Εβδομάδα 1 - Εισαγωγή στην Python\n",
    "\n",
    "**Θεωρία**\n",
    "\n",
    "Η **Python** είναι γλώσσα προγραμματισμού υψηλού επιπέδου, ανοικτού πηγαίου κώδικα (open source) και γενικής χρήσης. Είναι\n",
    "εύκολη στην εκμάθηση (απλούστερη από τις C, C++, Java) και παρέχει ισχυρές δυνατότητες σε αρχάριους και έμπειρους προγραμματιστές.\n",
    "\n",
    "\n",
    "**Τιμές και τύποι**\n",
    "\n",
    "Η έννοια της τιμής αναφέρεται σε μεταβλητές αλλά και σε σταθερές τιμές. Επίσης, τιμές μπορεί να είναι οι αριθμοί αλλά και οι αριθμητικές εκφράσεις, όπως αν γράψετε 1+1. Ωστόσο, τιμή είναι και η έκφραση ‘hello world’. \n",
    "\n",
    "Κάθε τιμή ανήκει σε κάποιον τύπο (ακέραιοι αριθμοί, ομάδες χαρακτήρων ή strings, κλπ.). Η ομάδα χαρακτήρων είναι ένας από τους θεμελιώδεις τύπους της Python και σταθερές του τύπου ομάδα χαρακτήρων (ή συμβολοσειρά) τις οποίες περικλείουμε με εισαγωγικά (μονά (‘) ή διπλά (‘‘)) αρχής και τέλους. \n",
    "\n",
    "Η εντολή εκτύπωσης δουλεύει, βεβαίως, με ακέραιους αριθμούς και με πολλούς άλλους τύπους, όπως θα δούμε αργότερα.\n",
    "Με τον όρο κυριολεκτικές σταθερές (literal constants) αναφερόμαστε σε προκαθορισμένες τιμές που παραμένουν αμετάβλητες σε όλη τη διάρκεια εκτέλεσης ενός προγράμματος.\n",
    "\n",
    "Παραδείγματα τιμών:\n",
    "• 3,\n",
    "• 2.5,\n",
    "• ‘Hello, World!’\n",
    "\n",
    "Αυτές οι τιμές ανήκουν σε διαφορετικούς τύπους (types):\n",
    "\n",
    "• 3 είναι ένας ακέραιος αριθμός (integer).\n",
    "\n",
    "• 2.5 είναι ένας αριθμός κινητής υποδιαστολής (float).\n",
    "\n",
    "• ‘Hello, World!’ είναι μια συμβολοσειρά (string). Πρόκειται για μια ακολουθία από χαρακτήρες οι οποίοι περικλείονται σε μονά ή διπλά εισαγωγικά.\n",
    "\n",
    "• Εκτύπωση με χρήση της εντολής print."
   ]
  },
  {
   "cell_type": "code",
   "execution_count": null,
   "metadata": {},
   "outputs": [],
   "source": [
    "a = 12344\n",
    "c = 55\n",
    "a"
   ]
  },
  {
   "cell_type": "code",
   "execution_count": null,
   "metadata": {},
   "outputs": [],
   "source": [
    "b =\"sdfbdsjfhd\"\n",
    "print(b)"
   ]
  },
  {
   "cell_type": "markdown",
   "metadata": {},
   "source": [
    "Τύπος `int`  ακέραιοι αριθμοί\n",
    "\n",
    "Τύπος `float`  αριθμοί κινητής υποδιαστολής (δεκαδικοί αριθμοί)\n",
    "\n",
    "Τύπος `str`  συμβολοσειρές (ακολουθίες χαρακτήρων)"
   ]
  },
  {
   "cell_type": "code",
   "execution_count": null,
   "metadata": {},
   "outputs": [],
   "source": [
    "# Συμβολοσειρές'str' \n",
    "print (str(3) + \"3\")\n",
    "# Μετατρέψτε το 3 σε STRING\n",
    "print (\"3\" + \"3\")\n",
    "# Μετατρέψτε το 3 σε INTEGER\n",
    "print(int(\"134\") + 3)\n",
    "print(3/4)"
   ]
  },
  {
   "cell_type": "markdown",
   "metadata": {},
   "source": [
    "## Μεταβλητές"
   ]
  },
  {
   "cell_type": "markdown",
   "metadata": {},
   "source": [
    "Τώρα, λοιπόν, γνωρίζουμε ότι έχουμε σταθερές τιμές, αλλά έχουμε και μεταβλητές\n",
    "τιμές. Από τα πιο δυνατά χαρακτηριστικά μιας γλώσσας προγραμματισμού είναι\n",
    "η δυνατότητα διαχείρισης μεταβλητών. Η **μεταβλητή (variable)** είναι ένα όνομα\n",
    "που αναφέρεται σε μια τιμή."
   ]
  },
  {
   "cell_type": "markdown",
   "metadata": {},
   "source": [
    "Τα ονόματα μεταβλητών μπορούν να περιέχουν αριθμούς και γράμματα, αλλά\n",
    "πρέπει να ξεκινούν με ένα γράμμα.\n",
    "\n",
    "Τα πεζά διακρίνονται από τα κεφαλαία:\n",
    "    \n",
    "• **Course** και **course** είναι διαφορετικές μεταβλητές.\n",
    "\n",
    "• **myname** και **myName** είναι διαφορετικές μεταβλητές."
   ]
  },
  {
   "cell_type": "code",
   "execution_count": null,
   "metadata": {},
   "outputs": [],
   "source": [
    "name= \"Helen\" \n",
    "print ('Hello', name)"
   ]
  },
  {
   "cell_type": "code",
   "execution_count": null,
   "metadata": {},
   "outputs": [],
   "source": [
    "age= input(\"Πόσο χρονών είσαι?\")\n",
    "print(int(age))"
   ]
  },
  {
   "cell_type": "code",
   "execution_count": null,
   "metadata": {},
   "outputs": [],
   "source": [
    "age =55\n",
    "print('Hello world')\n",
    "print (\"Hello world\")\n",
    "print (2+2)\n",
    "print('Hello world')"
   ]
  },
  {
   "cell_type": "code",
   "execution_count": null,
   "metadata": {},
   "outputs": [],
   "source": [
    "print(\"age\", age)\n",
    "arithos  = 5\n",
    "A = 200\n",
    "print(arithos +A)\n",
    "print(A,name,\"Γεια σου\")"
   ]
  },
  {
   "cell_type": "markdown",
   "metadata": {},
   "source": [
    "## Πολλαπλές εκχωρήσεις\n",
    "Όπως ίσως θα έχετε διαπιστώσει, είναι νόμιμο να γίνουν παραπάνω από μία εκχωρήσεις σε μια μεταβλητή. \n",
    "\n",
    "Μια νέα εκχώρηση κάνει μια μεταβλητή να αναφέρεται σε μία **νέα τιμή** και να σταματήσει να αναφέρεται στην παλιά τιμή"
   ]
  },
  {
   "cell_type": "code",
   "execution_count": null,
   "metadata": {},
   "outputs": [],
   "source": [
    "value = 1\n",
    "print(value)\n",
    "print (\"xaxaxa\")"
   ]
  },
  {
   "cell_type": "code",
   "execution_count": null,
   "metadata": {},
   "outputs": [],
   "source": [
    "value = 2\n",
    "print(value)"
   ]
  },
  {
   "cell_type": "markdown",
   "metadata": {},
   "source": [
    "## Υπό συνθήκη (Conditional)"
   ]
  },
  {
   "cell_type": "markdown",
   "metadata": {},
   "source": [
    "## Εντολές\n",
    "\n",
    "Έχουμε δει, ήδη, δύο είδη εντολών: print (εκτύπωση) και assignment (εκχώρηση).\n",
    "\n",
    "Οι εντολές γενικότερα εκτελούνται από το διερμηνευτή της Python. Όταν γράφετε μια εντολή στη γραμμή εντολών (command line), ο διερμηνευτής την εκτελεί και δείχνει στην οθόνη το αποτέλεσμα, αν η εντολή είναι εντολή εξόδου. Στην περίπτωση του print είναι, ενώ στην περίπτωση της εκχώρησης δεν είναι. Ένα πρόγραμμα ή ένα σενάριο (script) όπως ονομάζεται στην Python, συνήθως περιέχει\n",
    "περισσότερες της μίας εντολές. "
   ]
  },
  {
   "cell_type": "code",
   "execution_count": null,
   "metadata": {},
   "outputs": [],
   "source": [
    "#Αν η μεταβλητή'age' είναι μικρότερη του 18,\n",
    "#τότε τύπωσε αυτό που πρέπει\n",
    "\n",
    "if int(age) <18:\n",
    " print(\"Απαγορεύεται να αγοράσεις αλκοόλ\")\n",
    " print(\"Συγγνώμη\")\n",
    "else:\n",
    "  print (\"Αγόρασε σε παρακαλώ 20 μπύρες\")\n",
    "  print ( \"Θα σε πληρώσω αργότερα\")\n",
    "  print(\"Ας κάνουμε ένα πάρτυ!\")"
   ]
  },
  {
   "cell_type": "markdown",
   "metadata": {},
   "source": [
    "Στο παρακάτω παράδειγμα στο οποίο ελέγχουμε για ισότητα της μεταβλητής x με το 2 (η σύγκριση για ισότητα εκφράζεται με δύο ίσον (==)\n",
    "σε αντίθεση με την εκχώρηση (=)). \n",
    "\n",
    "Αν το 3 είναι ίσον με το 2, ακολουθεί η άνω-κάτω-τελεία (:), που σημαίνει ότι τελείωσε το κομμάτι της συνθήκης και τώρα πάμε να εκτελέσουμε αν ισχύει η συνθήκη. \n",
    "\n",
    "Αν το 3 ήταν ίσο με 2, που δεν είναι, τότε θα εκτυπώναμε την τιμή του x, διαφορετικά (κάτι που ισχύει εδώ) το x παίρνει την τιμή 3 και μετά τυπώνουμε το x."
   ]
  },
  {
   "cell_type": "code",
   "execution_count": null,
   "metadata": {},
   "outputs": [],
   "source": [
    "x = 3\n",
    "\n",
    "if x == 3:\n",
    "    print(x)\n",
    "else:\n",
    "    x = 3\n",
    "    \n",
    "print(x)"
   ]
  },
  {
   "cell_type": "markdown",
   "metadata": {},
   "source": [
    "## Λάθη\n",
    "\n",
    "Αν κάνουμε κάποιο συντακτικό λάθος (π.χ. παραλείψουμε το :) η λειτουργία check module («έλεγξε το πρόγραμμα») θα μας πει ότι δεν είναι σωστή η σύνταξη και θα κοκκινίσει το μέρος όπου βλέπει κάποιο λάθος. \n",
    "Έτσι θα το διορθώσουμε, θα το ξανατρέξουμε και εφόσον δεν υπάρχει συντακτικό λάθος στο πρόγραμμα,θα τυπώσει 3, όπως αναμένουμε.\n",
    "\n",
    "\n",
    "Αν υποθέσουμε ότι για κάποιο λόγο είχαμε βάλει print y, το οποίο δεν είναι ορισμένο, αυτό δεν είναι συντακτικό λάθος.\n",
    "\n"
   ]
  },
  {
   "cell_type": "code",
   "execution_count": null,
   "metadata": {},
   "outputs": [],
   "source": [
    "x = 3\n",
    "\n",
    "if y == 3:\n",
    "    print(y)\n",
    "else:\n",
    "    y = 3\n",
    "    \n",
    "print(y)"
   ]
  },
  {
   "cell_type": "markdown",
   "metadata": {},
   "source": [
    "Οι μεταβλητές δηλώνονται την πρώτη φορά που τις χρησιμοποιούμε. Αλλά αν προσπαθήσουμε να το τρέξουμε, τότε βλέπετε ότι έχουμε το λεγόμενο run time error, λάθος κατά το χρόνο εκτέλεσης γιατί, προφανώς, δεν ήταν ορισμένο, επομένως δεν μπορεί να τυπωθεί κάτι, αφού δεν ξέρει την τιμή.\n",
    "\n",
    "Είδαμε, λοιπόν, δύο διαφορετικές πολύ μεγάλες κατηγορίες λαθών, τα πρώτα, σχετικά πιο εύκολα, τα λεγόμενα συντακτικά λάθη, δηλαδή, στη σύνταξη της γλώσσας και τα άλλα πιο δύσκολα να αντιληφθεί κανείς, τα λεγόμενα λάθη εκτέλεσης, run time error. \n",
    "\n",
    "Είναι πολύ σημαντικό να γίνει κατανοητή αυτή η σημαντική διαφορά μεταξύ αυτών των δύο κατηγοριών λαθών."
   ]
  },
  {
   "cell_type": "markdown",
   "metadata": {},
   "source": [
    "## Συμβολοσειρές, λίστες, λεξικά, μέθοδοι\n",
    "\n",
    "**Θεωρία**\n",
    "\n",
    "Σήμερα θα δούμε επίσης, τις βασικές δομές δεδομένων, όπως οι συμβολοσειρές (strings), οι λίστες (lists), οι πλειάδες (tuples)\n",
    "και τα λεξικά (dictionaries), καθώς και της διαχείρισής τους."
   ]
  },
  {
   "cell_type": "markdown",
   "metadata": {},
   "source": [
    "**Συμβολοσειρές**\n",
    "\n",
    "\n",
    "Μια συμβολοσειρά είναι μια ακολουθία από χαρακτήρες. Οι συμβολοσειρές ανήκουν στον τύπο δεδομένων `str`. Μπορείτε να ορίσετε συμβολοσειρές με μονά (‘) ή διπλά (‘‘) εισαγωγικά:"
   ]
  },
  {
   "cell_type": "code",
   "execution_count": null,
   "metadata": {},
   "outputs": [],
   "source": [
    "name = 'Vasilis'\n",
    "name"
   ]
  },
  {
   "cell_type": "code",
   "execution_count": null,
   "metadata": {},
   "outputs": [],
   "source": [
    "name = \"Vasilis\"\n",
    "name"
   ]
  },
  {
   "cell_type": "markdown",
   "metadata": {},
   "source": [
    "Τα μονά εισαγωγικά (‘) μπορείτε να τα χρησιμοποιείτε ελεύθερα μέσα σε διπλά εισαγωγικά (‘‘)"
   ]
  },
  {
   "cell_type": "code",
   "execution_count": null,
   "metadata": {},
   "outputs": [],
   "source": [
    "print(\"Let's party!\")"
   ]
  },
  {
   "cell_type": "code",
   "execution_count": null,
   "metadata": {},
   "outputs": [],
   "source": [
    "c = '''Μπορείτε να ορίσετε συμβολοσειρές πολλαπλών γραμμών με τριπλά εισαγωγικά (τρία διπλά ‘‘‘‘‘‘ ή τρία μονά ‘‘‘). \n",
    "Βλέπετε ότι με τα τριπλά εισαγωγικά μπορούμε να αλλάξουμε και γραμμή, \n",
    "χωρίς να χρειάζεται να βάλουμε την ακολουθία διαφυγής'''\n",
    "\n",
    "print(c)"
   ]
  },
  {
   "cell_type": "markdown",
   "metadata": {},
   "source": [
    "## Λίστες\n",
    "\n",
    "Η λίστα είναι ο δεύτερος σύνθετος τύπος (μετά τις συμβολοσειρές) στον οποίο αναφερόμαστε στην Python. Οι λίστες (`lists`), δηλώνουν πράγματα καθώς και διατεταγμένα σύνολα τιμών. Οι τιμές (μέλη μιας λίστας) λέγονται στοιχεία (`elements`).\n",
    "\n",
    "Ο όρος «διατεταγμένα» σημαίνει ότι μπορούμε να ορίσουμε ότι αυτό είναι το πρώτο, αυτό είναι δεύτερο, αυτό τρίτο κλπ. Οι λίστες είναι παρόμοιες με τις συμβολοσειρές, οι οποίες είναι διατεταγμένα σύνολα χαρακτήρων, ωστόσο τα στοιχεία μιας λίστας μπορεί να είναι οποιουδήποτε τύπου. \n",
    "\n",
    "Μπορεί να είναι νούμερα, ακέραιοι, πραγματικοί, μπορεί να είναι άλλες λίστες. Μπορεί να περιέχουν στοιχεία οποιουδήποτε τύπου της Python και όλα αυτά να τα βάζουμε μαζί γιατί πιστεύουμε ότι πρέπει να είναι μαζί. "
   ]
  },
  {
   "cell_type": "markdown",
   "metadata": {},
   "source": [
    "Ο απλούστερος τρόπος να δημιουργήσει κανείς μια λίστα, είναι να βάλει τα στοιχεία της μέσα σε [ ]. "
   ]
  },
  {
   "cell_type": "code",
   "execution_count": null,
   "metadata": {},
   "outputs": [],
   "source": [
    "L = [\"Dimitris\", \"Sotiris\", \"Katerina\", \"Christos\", \"Eleni\"]"
   ]
  },
  {
   "cell_type": "code",
   "execution_count": null,
   "metadata": {},
   "outputs": [],
   "source": [
    "L[0]"
   ]
  },
  {
   "cell_type": "code",
   "execution_count": null,
   "metadata": {},
   "outputs": [],
   "source": [
    "print(L[0])"
   ]
  },
  {
   "cell_type": "code",
   "execution_count": null,
   "metadata": {},
   "outputs": [],
   "source": [
    "print(L[1])"
   ]
  },
  {
   "cell_type": "code",
   "execution_count": null,
   "metadata": {},
   "outputs": [],
   "source": [
    "print(L[2])"
   ]
  },
  {
   "cell_type": "markdown",
   "metadata": {},
   "source": [
    "## Λειτουργίες & Μέθοδοι"
   ]
  },
  {
   "cell_type": "markdown",
   "metadata": {},
   "source": [
    "## Μήκος λίστας\n",
    "Όπως είχαμε δει και με τις συμβολοσειρές, έτσι και στις λίστες έχουμε μια συνάρτηση len, η οποία επιστρέφει το μήκος μιας λίστας. "
   ]
  },
  {
   "cell_type": "code",
   "execution_count": null,
   "metadata": {},
   "outputs": [],
   "source": [
    "M = [1,3,4,5,5,6,6,6,77,87,8,88,8,8,88,8,8,8,8,88,8]"
   ]
  },
  {
   "cell_type": "code",
   "execution_count": null,
   "metadata": {},
   "outputs": [],
   "source": [
    "len(M)"
   ]
  },
  {
   "cell_type": "code",
   "execution_count": null,
   "metadata": {},
   "outputs": [],
   "source": [
    "sum(M)"
   ]
  },
  {
   "cell_type": "markdown",
   "metadata": {},
   "source": [
    "**Φέτες από λίστες**\n",
    "\n",
    "Όπως και στις συμβολοσειρές, ο τελεστής φέτας (`slice`) δουλεύει επίσης και με τις λίστες. "
   ]
  },
  {
   "cell_type": "code",
   "execution_count": null,
   "metadata": {},
   "outputs": [],
   "source": [
    "M[2:3]"
   ]
  },
  {
   "cell_type": "markdown",
   "metadata": {},
   "source": [
    "**Έλεγχος του “ανήκειν”**\n",
    "\n",
    "Ο `in` είναι λογικός τελεστής ο οποίος ελέγχει αν μια τιμή ανήκει σε μια λίστα (επιστρέφοντας true ή false) και δουλεύει όπως και στις συμβολοσειρές. \n",
    "Μπορούμε, επίσης, να χρησιμοποιήσουμε την έκφραση `not in`. "
   ]
  },
  {
   "cell_type": "code",
   "execution_count": null,
   "metadata": {},
   "outputs": [],
   "source": [
    "for patates in L: \n",
    "    print(patates) \n",
    "\n",
    "\n",
    "\n",
    "len(L)"
   ]
  },
  {
   "cell_type": "markdown",
   "metadata": {},
   "source": [
    "Η συνάρτηση `range` έχει ως ορίσματα δύο ακεραίους και επιστρέφει την ακολουθία των ακέραιων αριθμών στο διάστημα από το πρώτο έως \n",
    "το δεύτερό της όρισμα, συμπεριλαμβάνοντας το πρώτο όρισμα, αλλά αποκλείοντας το δεύτερο. "
   ]
  },
  {
   "cell_type": "code",
   "execution_count": null,
   "metadata": {},
   "outputs": [],
   "source": [
    "for ntomates in range(0,len(L)):\n",
    "     print(ntomates, L[ntomates].upper())"
   ]
  },
  {
   "cell_type": "markdown",
   "metadata": {},
   "source": [
    "**Κεφαλαία**"
   ]
  },
  {
   "cell_type": "markdown",
   "metadata": {},
   "source": [
    "Μέθοδος για κεφαλαία συμβολοσειρά"
   ]
  },
  {
   "cell_type": "code",
   "execution_count": null,
   "metadata": {},
   "outputs": [],
   "source": [
    "\"Γεια σου\".upper()"
   ]
  },
  {
   "cell_type": "markdown",
   "metadata": {},
   "source": [
    "Λειτουργία για να βρούμε τον αριθμό των χαρακτήρων σε μια συμβολοσειρά"
   ]
  },
  {
   "cell_type": "code",
   "execution_count": null,
   "metadata": {},
   "outputs": [],
   "source": [
    "len(\"καλημέρα\") "
   ]
  },
  {
   "cell_type": "markdown",
   "metadata": {},
   "source": [
    "Λειτουργία για να ιεραρχήσουμε μια λίστα με αριθμούς "
   ]
  },
  {
   "cell_type": "code",
   "execution_count": null,
   "metadata": {},
   "outputs": [],
   "source": [
    "sorted([0, 5, 4, 2, 3, 1]) "
   ]
  },
  {
   "cell_type": "code",
   "execution_count": null,
   "metadata": {},
   "outputs": [],
   "source": [
    "M = [\"Giannis\", \"Kostas\", \"Dimitris\", \"Paris\"]\n",
    "sorted(M)"
   ]
  },
  {
   "cell_type": "markdown",
   "metadata": {},
   "source": [
    "Μέθοδος για αντικατάσταση κειμένου με κείμενο "
   ]
  },
  {
   "cell_type": "code",
   "execution_count": null,
   "metadata": {},
   "outputs": [],
   "source": [
    "\"123123123\".replace(\"12\", \"_\") "
   ]
  },
  {
   "cell_type": "code",
   "execution_count": null,
   "metadata": {},
   "outputs": [],
   "source": [
    "\"Maria\".replace(\"a\",\"i\")"
   ]
  },
  {
   "cell_type": "markdown",
   "metadata": {
    "collapsed": true
   },
   "source": [
    "Οι λειτουργίες δίνουν αποτέλεσμα έξω από τις μεταβλητές, ενώ οι μέθοδοι επηρεάζουν τις ίδιες τις μεταβλητές.\n",
    "\n",
    "Μην ξεχνάτε το σύμβολο () γιατί διαφορετικά οι λειτουργίες και οι μέθοδοί σας δεν θα δουλέψουν."
   ]
  },
  {
   "cell_type": "markdown",
   "metadata": {},
   "source": [
    "# Λειτουργίες & Μέθοδοι για αριθμούς"
   ]
  },
  {
   "cell_type": "markdown",
   "metadata": {},
   "source": [
    "**Στρογγυλοποίηση δεκαδικών**"
   ]
  },
  {
   "cell_type": "code",
   "execution_count": null,
   "metadata": {},
   "outputs": [],
   "source": [
    "L = [1.34546, 23.5666, 6.566646]\n",
    "for number in L:\n",
    "     print(round(number, 1))"
   ]
  },
  {
   "cell_type": "markdown",
   "metadata": {},
   "source": [
    "Στρογγυλοποίηση προς τα πάνω και προς τα κάτω.\n",
    "\n",
    "Απαιτούνται εξωτερικές βιβλιοθήκες - κώδικας που έγραψε κάποιος άλλος και που.\n",
    "\n",
    "δεν συμπεριλαμβάνεται αυτόματα στην Python."
   ]
  },
  {
   "cell_type": "code",
   "execution_count": null,
   "metadata": {},
   "outputs": [],
   "source": [
    "import math\n",
    "math.ceil(3.14159)\n",
    "math.floor(3.14159)"
   ]
  },
  {
   "cell_type": "markdown",
   "metadata": {},
   "source": [
    "# Συναρτήσεις & Μέθοδοι για συμβολοσειρές"
   ]
  },
  {
   "cell_type": "markdown",
   "metadata": {},
   "source": [
    " Μάκρος συμβολοσειράς"
   ]
  },
  {
   "cell_type": "code",
   "execution_count": null,
   "metadata": {},
   "outputs": [],
   "source": [
    "len(\"yourstring\")"
   ]
  },
  {
   "cell_type": "markdown",
   "metadata": {},
   "source": [
    "Αντικατάσταση περιεχομένου στη συμβολοσειρά"
   ]
  },
  {
   "cell_type": "code",
   "execution_count": null,
   "metadata": {},
   "outputs": [],
   "source": [
    "\"yourstring\".replace(\"your\", \"my\")"
   ]
  },
  {
   "cell_type": "markdown",
   "metadata": {},
   "source": [
    "Αλλαγή στους χαρακτήρες της συμβολοσειράς"
   ]
  },
  {
   "cell_type": "code",
   "execution_count": null,
   "metadata": {},
   "outputs": [],
   "source": [
    "\"Your String\".upper()\n",
    "#\"Your String\".lower()\n",
    "#\"Your String\".title()\n",
    "#\"Your String\".swapcase()"
   ]
  },
  {
   "cell_type": "markdown",
   "metadata": {},
   "source": [
    "Μέτρηση του αριθμού κάποιυ χαρακτήρα ή χαρακτήρων εντός συμβολοσειράς"
   ]
  },
  {
   "cell_type": "code",
   "execution_count": null,
   "metadata": {},
   "outputs": [],
   "source": [
    "\"Your String\".count(\"r\")"
   ]
  },
  {
   "cell_type": "markdown",
   "metadata": {},
   "source": [
    "Έλεγχος για το εάν η συμβολοσειρά τελειώνει με κάτι συγκεκριμένο"
   ]
  },
  {
   "cell_type": "code",
   "execution_count": null,
   "metadata": {},
   "outputs": [],
   "source": [
    "\"Your String\".endswith(\"ng\")"
   ]
  },
  {
   "cell_type": "markdown",
   "metadata": {},
   "source": [
    "Διαχωρισμός σε λίστα με βάση κάποιους χαρακτήρες "
   ]
  },
  {
   "cell_type": "code",
   "execution_count": null,
   "metadata": {},
   "outputs": [],
   "source": [
    "\"mourlas@media.uoa.gr\".replace(\"@\",'$').replace(\".\", \"$\").upper().split(\"$\")\n",
    "\n",
    "#\"Your String\".split(\" \") #kovei ta kena kai dinei oles tis lexeis se mia lista"
   ]
  },
  {
   "cell_type": "markdown",
   "metadata": {},
   "source": [
    "Ένωση λίστας μέσα σε συμβολοσειρά στη βάση κάποιων χαρακτήρων "
   ]
  },
  {
   "cell_type": "code",
   "execution_count": null,
   "metadata": {},
   "outputs": [],
   "source": [
    "\" \".join([\"Your\", \"String\"]) #enwnei se string ola ta stoixeia tis listas me to keno\n",
    "\n",
    "#\"ou\".join([\"Your\", \"String\"])"
   ]
  },
  {
   "cell_type": "code",
   "execution_count": null,
   "metadata": {},
   "outputs": [],
   "source": []
  },
  {
   "cell_type": "markdown",
   "metadata": {},
   "source": [
    "## <span style=\"color:red\">*Άσκηση 1*</span>\n",
    "\n",
    "<span style=\"color:red\">\n",
    "    Αλλάξτε το όνομα του notebook βάζωντας το όνομά σας και homework-1-part1-lastname\n",
    "    \n",
    "Ακριβώς κάτω από αυτό το κελί προσθέστε νέα κελιά στα οποία θα:\n",
    "    \n",
    "   1. Θα φτιάξετε μια λίστα με τους παρακάτω αριθμούς: 23, 91, 0, -11, 4, 23 και 49.\n",
    "   2. Βρείτε τον αριθμό των αντικειμένων της λίστας.\n",
    "   3. Βρείτε το 4ο στοιχείο της λίστας. \n",
    "   4. Βρείτε το άθροισμα του 2ου και του 4ου στοιχείου της λίστας. \n",
    "   5. Βρείτε το 2ο μεγαλύτερο στοιχείο της λίστας.\n",
    "   6. Βρείτε το τελευταίο αντικείμενο της αρχικής λίστας (χωρίς σορτάρισμα).\n",
    "   7. Για κάθε αριθμό να εμφανίσετε έναν αριθμό: αν ο αρχικός αριθμός είναι μεγαλύτερος του 10, πολλαπλασιάστε με το 30.\n",
    "   Αν επίσης είναι ζυγός αριθμός, προσθέστε 6. Αν είναι μεγαλύτερος του 50, αφαιρέστε 10. Αν δεν είναι ίσος με -11, αφαιρέστε 1.\n",
    "   (Για παράδειγμα το 2 είναι μικρότερο του 10, άρα πολλαπλασιάζουμε 2 * 30 = 60, είναι επίσης ζυγός αριθμός, άρα 60 + 6 = 66,\n",
    "   δεν είναι ίσο με -11, άρα 66-1=65.)\n",
    "   \n",
    "   8. Βρείτε το σύνολο των αριθμών διαιρεμένων με το 2.\n",
    "   \n",
    "    \n",
    "  </span>"
   ]
  },
  {
   "cell_type": "code",
   "execution_count": null,
   "metadata": {},
   "outputs": [],
   "source": [
    "#1\n",
    "L = [23,91,0,-11,4,23,49]"
   ]
  },
  {
   "cell_type": "code",
   "execution_count": null,
   "metadata": {},
   "outputs": [],
   "source": [
    "#2\n",
    "print (len(L))\n"
   ]
  },
  {
   "cell_type": "code",
   "execution_count": null,
   "metadata": {},
   "outputs": [],
   "source": [
    "#3\n",
    "tetarto=L[3]\n",
    "print(tetarto)"
   ]
  },
  {
   "cell_type": "code",
   "execution_count": null,
   "metadata": {},
   "outputs": [],
   "source": [
    "#4\n",
    "sum1 = L[1] + L[3]\n",
    "print(sum1)"
   ]
  },
  {
   "cell_type": "code",
   "execution_count": null,
   "metadata": {},
   "outputs": [],
   "source": [
    "#5\n",
    "L1 = sorted (L)\n",
    "print (L1[len(L1)-2])"
   ]
  },
  {
   "cell_type": "code",
   "execution_count": null,
   "metadata": {},
   "outputs": [],
   "source": [
    "#6\n",
    "sorted (L)[-2]"
   ]
  },
  {
   "cell_type": "code",
   "execution_count": null,
   "metadata": {},
   "outputs": [],
   "source": [
    "#6 2os tropos\n",
    "print (L[len(L)-1])"
   ]
  },
  {
   "cell_type": "code",
   "execution_count": null,
   "metadata": {},
   "outputs": [],
   "source": [
    "#7\n",
    "\n",
    "for number in L:\n",
    "    number2=number\n",
    "    if(number2>10):\n",
    "        number2=number2*30\n",
    "        if(number%2 ==0 ):\n",
    "            number2=number2+6\n",
    "    if(number>50):\n",
    "        number2 =number2-10\n",
    "    if(number!=- 11):\n",
    "        number2 = number2-1\n",
    "    \n",
    "    print (\"First number: \", number,\" Second number:\", number2)"
   ]
  },
  {
   "cell_type": "code",
   "execution_count": null,
   "metadata": {},
   "outputs": [],
   "source": [
    "#8\n",
    "print(sum(L)/2)"
   ]
  },
  {
   "cell_type": "code",
   "execution_count": null,
   "metadata": {},
   "outputs": [],
   "source": []
  }
 ],
 "metadata": {
  "kernelspec": {
   "display_name": "Python 3",
   "language": "python",
   "name": "python3"
  },
  "language_info": {
   "codemirror_mode": {
    "name": "ipython",
    "version": 3
   },
   "file_extension": ".py",
   "mimetype": "text/x-python",
   "name": "python",
   "nbconvert_exporter": "python",
   "pygments_lexer": "ipython3",
   "version": "3.7.2"
  }
 },
 "nbformat": 4,
 "nbformat_minor": 2
}
