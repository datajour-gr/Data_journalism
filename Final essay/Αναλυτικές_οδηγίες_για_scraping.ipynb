{
  "nbformat": 4,
  "nbformat_minor": 0,
  "metadata": {
    "colab": {
      "provenance": []
    },
    "kernelspec": {
      "name": "python3",
      "display_name": "Python 3"
    },
    "language_info": {
      "name": "python"
    }
  },
  "cells": [
    {
      "cell_type": "markdown",
      "source": [
        "## **Εργασία για το lesson 8**\n",
        "\n",
        "Σκοπός αυτής της εργασίας είναι να προετοιμαστείτε για τη μικρή εργασία που θα ακολουθήσει.\n",
        "\n",
        "Στην εργασία αυτή:\n",
        "\n",
        "1. Θα μαζέψετε από ένα ειδησεογραφικό site, ολόκληρο το περιεχόμενο των άρθρων τουλάχιστον 2 ημερών, από μια κατηγορία ειδήσεων \n",
        "\n",
        "2) θα φτιάξετε ένα γράφημα για το πλήθος των άρθρων ανά ημέρα και για το πλήθος των άρθρων ανά ώρα\n",
        "\n",
        "3) θα φτιάξετε ένα wordcloud για κάθε ημέρα (από το πλήρες κείμενο των άρθρων)\n",
        "\n",
        "4) θα γράψετε ένα πολύ σύντομο κείμενο με τα ευρήματά σας"
      ],
      "metadata": {
        "id": "1Tpz5m5DDscL"
      }
    },
    {
      "cell_type": "markdown",
      "source": [
        "\n",
        "\n",
        "---\n",
        "\n"
      ],
      "metadata": {
        "id": "1hYqqdw2w1rQ"
      }
    },
    {
      "cell_type": "markdown",
      "source": [
        "## **Όσοι/ες δυσκολευτήκατε να κάνετε την προηγούμενη άσκηση, διαβάστε τα παρακάτω και ακολουθήστε τα βήματα**"
      ],
      "metadata": {
        "id": "zTLLPtWIw6nL"
      }
    },
    {
      "cell_type": "markdown",
      "source": [
        "\n",
        "\n",
        "---\n",
        "\n"
      ],
      "metadata": {
        "id": "DXO3ucDdw4ee"
      }
    },
    {
      "cell_type": "markdown",
      "source": [
        "## **Αναλυτικές οδηγίες:**\n",
        "\n",
        "1. Στον browser, βρείτε ένα ειδησεογραφικό site όπου τα teasers των άρθρων εμφανίζονται σε σελίδες με pagination, δηλαδή στο τέλος των teaser άρθρων να υπάρχουν \"κουμπιά\" ή αριθμοί που οδηγούν στις επόμενες σελίδες των teaser άρθρων. Όταν πατήσετε κάποιο απ' αυτά θα πρέπει στο τέλος του url να εμφανίζεται ο αριθμός της σελίδας (συνήθως μετά τη λέξη page). **Επιλέξτε μια κατηγορία ειδήσεων που σας ενδιαφέρει**.\n",
        "\n",
        "**ΣΗΜ**. Αν στην προηγούμενη άσκηση έχετε φτιάξει έναν επιτυχημένο scraper των teaser άρθρων από κάποιο site, μπορείτε να πάρετε άρθρα από αυτό το site αν θέλετε. ΑΛΛΑ, **τα άρθρα πρέπει να είναι από μια κατηγορία και όχι από όλες τις ειδήσεις**. Θυμηθείτε ότι η δομή των σελίδων με τα teaser άρθρα ενός site είναι η ίδια για όλες τις κατηγορίες (δηλαδή ο scraper που έχετε φτιάξει π.χ. για τα teaser άρθρα από το \"όλες οι ειδήσεις\", δουλεύει και την κατηγορία \"κοινωνία\" και για τον \"πολιτική\" κ.ο.κ. του ίδιου site - το μόνο που πρέπει να αλλάξετε είναι το αρχικό url ).\n",
        "\n",
        "2. Εντοπίστε από ποια εως ποια σελίδα υπάρχουν τα άρθρα διάφορων ημερών.\n",
        "\n",
        "3. Κατεβάστε τα links όλων των teaser άρθρων **τουλάχιστον 2** ολόκληρων ημερών και αποθηκεύστε τα σε ένα csv στο drive σας. Για παράδειγμα, μπορείτε να κατεβάσετε όλα τα teaser άρθρα της κατηγορίας \"Εκλογές\" από τώρα έως και 2 μέρες πίσω.\n",
        "\n",
        "**ΣΗΜ**. Είναι καλή πρακτική να αποθηκεύουμε σε csv τα άρθρα που μαζεύουμε, αμέσως μόλις τα κατεβάσουμε και φτιάξουμε το dataframe, για να μη χρειάζεται να τα κατεβάζουμε ξανά και ξανά. Στο όνομα του csv καλό είναι να βάζετε και την ημερομηνία των άρθρων (π.χ. efsyn_teasers_28-30_5_2023.csv).\n",
        "\n",
        "4. Μπείτε στον browser, σε ένα από αυτά τα άρθρα (στη σελίδα του άρθρου). Βρείτε σε ποια html tags και με ποια classes βρίσκονται τα διάφορα στοιχεία του άρθρου που θα πάρετε στη συνέχεια (π.χ. ```<div>, <h1>, <p>,, <time>``` κλπ.)\n",
        "\n",
        "5. Φτιάξτε έναν scraper για τη σελίδα ενός άρθρου και τσεκάρετε ότι δουλεύει καλά. Ο scraper θα πρέπει να μαζεύει: **το url του άρθρου, τον τίτλο, την ημερομηνία, τον συντάκτη, την κατηγορία και το πλήρες κείμενο**. \n",
        "\n",
        "6. Φέρτε σε ένα dataframe το csv των teaser άρθρων που αποθηκεύσατε προηγουμένως.\n",
        "\n",
        "7. Φτιάξτε μια for loop που θα λουπάρει σε όλα τα links των teaser άρθρων, και θα τρέχει για κάθε link, τον scraper της σελίδας του άρθρου. Φτιάξτε το dataframe με τα full-articles και αποθηκεύστε το σαν csv στο gdrive σας (π.χ. efsyn_full_articles_28-30_5_2023.csv).\n",
        "\n",
        "8. Δείτε τα δεδομένα σας και καθαρίστε τα (με replace) αν χρειάζεται.\n",
        "\n",
        "9. Μετατρέψτε την ημερομηνία σε datetime.\n",
        "\n",
        "10. Φτιάξτε ένα γράφημα για το πλήθος των άρθρων ανά ημέρα και ένα γράφημα με το πλήθος των άρθρων ανά ώρα της ημέρας.\n",
        "\n",
        "11. Φτιάξτε ένα wordcloud για κάθε ημέρα.\n",
        "\n",
        "12. Γράψτε ένα πολύ σύντομο κείμενο για τα ευρήματά σας."
      ],
      "metadata": {
        "id": "do8SVL_y3DCv"
      }
    },
    {
      "cell_type": "markdown",
      "source": [
        "## **Αναλυτικότερες οδηγίες για κάθε βήμα**"
      ],
      "metadata": {
        "id": "RwEUyEqgJDCY"
      }
    },
    {
      "cell_type": "markdown",
      "source": [
        "## **ΒΗΜΑ 0**: Δημιουργία του notebook που θα δουλέψουμε την άσκηση\n",
        "\n",
        "Πάμε στο https://colab.research.google.com και φτιάχνουμε ένα Νέο notebook:\n",
        "\n",
        "File > New notebook\n",
        "\n",
        "Στο νέο notebook που ανοίγει στο διπλανό tab, στο πρώτο κελί, εισάγουμε τις βιβλιοθήκες που θα χρειαστούμε\n"
      ],
      "metadata": {
        "id": "4EcZguOiYvr_"
      }
    },
    {
      "cell_type": "code",
      "source": [
        "# για το scraping\n",
        "import requests\n",
        "from bs4 import BeautifulSoup\n",
        "import pandas as pd\n",
        "import time\n",
        "\n",
        "# για τα nan values\n",
        "import numpy as np\n",
        "\n",
        "# για τα γραφήματα\n",
        "import matplotlib.pyplot as plt\n",
        "\n",
        "# για την επεξεργασία ελληνικών κειμένων\n",
        "import spacy"
      ],
      "metadata": {
        "id": "f9DaNo9AZ2EC"
      },
      "execution_count": null,
      "outputs": []
    },
    {
      "cell_type": "markdown",
      "source": [
        "Κατεβάζουμε και το μικρό ελληνικό λεξικό δημοσιογραφικών κειμένων από τη spacy"
      ],
      "metadata": {
        "id": "Q300pNPfdzs8"
      }
    },
    {
      "cell_type": "code",
      "source": [
        "!python -m spacy download el_core_news_sm"
      ],
      "metadata": {
        "id": "jsYFDjF0dX23"
      },
      "execution_count": null,
      "outputs": []
    },
    {
      "cell_type": "markdown",
      "source": [
        "Όταν τελειώσει το download μπορούμε να σβήσουμε το output του κελιού, κάνοντας κλικ στο X."
      ],
      "metadata": {
        "id": "fnz690nOXk0x"
      }
    },
    {
      "cell_type": "markdown",
      "source": [
        "![](https://drive.google.com/uc?export=view&id=12zVfLEGgJdiCWg3hVNdPn_0Wp1BFBE1y)"
      ],
      "metadata": {
        "id": "cQxNZZsCYkQI"
      }
    },
    {
      "cell_type": "markdown",
      "source": [
        "Επειδή στη συνέχεια θα χρειαστεί να αποθηκεύσουμε τα dataframes που θα φτιάξουμε σαν csv, κάνουμε κατευθείαν και **mount το gdrive**.\n",
        "\n",
        "1. Στην αριστερή εργαλειοθήκη του notebook, κάνουμε κλικ στο εικονίδιο \"Files\"\n",
        "2. Στο menu που ανοίγει κάνουμε κλικ στο εικονίδιο \"Mount Drive\""
      ],
      "metadata": {
        "id": "ei_SIO2RY1Bg"
      }
    },
    {
      "cell_type": "markdown",
      "source": [
        "\n",
        "\n",
        "![](https://drive.google.com/uc?export=view&id=1MYqY31mawsOyjLgfWSfZUkwtOOTcUpPK)\n",
        "\n"
      ],
      "metadata": {
        "id": "VnE8GJTEa_z6"
      }
    },
    {
      "cell_type": "markdown",
      "source": [
        "3. Στο παράθυρο που εμφανίζεται πατάμε: Connect to Google Drive\n",
        "\n",
        "![](https://drive.google.com/uc?export=view&id=1Erpu1CflmJkZvBBWZilhgQYMsB-VesJT)"
      ],
      "metadata": {
        "id": "sCZ7IXKJkXCn"
      }
    },
    {
      "cell_type": "markdown",
      "source": [
        "4. [Αν μας ζητήσει να επιλέξουμε λογαριασμό], επιλέγουμε τον λογαριασμό μας στη google και αποδεχόμαστε τη σύνδεση.\n",
        "\n",
        "5. Αφού γίνει mount το gdrive, στο πλαϊνό menu εμφανίζεται ο φάκελος του drive.\n",
        "\n",
        "![](https://drive.google.com/uc?export=view&id=1KrX6Bm0GmTSzTqpFPmo1lwbnZ0qaQuOP)\n",
        "\n",
        "6. Κάνουμε κλικ στο φάκελο του drive και στο MyDrive που εμφανίζεται μέσα του και βλέπουμε όλους τους φακέλους που έχουμε στο drive μας.\n",
        "\n",
        ">Από εκεί θα βρίσκουμε το path του φακέλου που θέλουμε για να αποθηκεύουμε τα csvs των dataframes στο drive, καθώς και το path των αποθηκευμένων csvs για να τα φέρνουμε στην python σαν dataframes. \n",
        "\n",
        ">![](https://drive.google.com/uc?export=view&id=1v04gizSio0WDfy-2d3_H4FVrZNXher3J)\n",
        "\n",
        "7. Πατάμε το Χ στο πλαϊνό μενού για να το κλείσουμε. Όταν το χρειαστούμε μπορούμε να το ξανανοίξουμε πατώντας στο εικονίδιο \"Files\".\n",
        "\n"
      ],
      "metadata": {
        "id": "gX_pQTuXk39D"
      }
    },
    {
      "cell_type": "markdown",
      "source": [
        "\n",
        "\n",
        "---\n",
        "\n"
      ],
      "metadata": {
        "id": "SFbgfqvRqAxR"
      }
    },
    {
      "cell_type": "markdown",
      "source": [
        "## **ΒΗΜΑ 1**: Αναζήτηση site που να μπορούμε να κάνουμε scrape με το requests\n",
        "\n",
        "Ανοίγουμε ένα νέο tab στον browser για να βρούμε ένα ειδησεογραφικό site και να διαλέξουμε μια κατηγορία ειδησεων (π.χ. ```efsyn.gr``` και \"εκλογές 2023\").\n",
        "\n",
        "Τσεκάρουμε αν στο κάτω μέρος της σελίδας με τις περιλήψεις των άρθρων (teaser articles) της κατηγορίας υπάρχει pagination.\n"
      ],
      "metadata": {
        "id": "2lsMr8_aSX5c"
      }
    },
    {
      "cell_type": "markdown",
      "source": [
        "![](https://drive.google.com/uc?export=view&id=1vkunS7KBtjDLbUz66letM9y_GaaTjwyh)\n",
        "\n"
      ],
      "metadata": {
        "id": "0GGeMzHEJPyh"
      }
    },
    {
      "cell_type": "markdown",
      "source": [
        "\n",
        "\n",
        "---\n",
        "\n",
        "\n",
        "### **Note**:\n",
        "\n",
        "Αν δεν υπάρχει pagination ψάχνουμε για **άλλο site**.\n",
        "\n",
        "\n",
        "---\n",
        "\n"
      ],
      "metadata": {
        "id": "iLUG_2z0Vbxi"
      }
    },
    {
      "cell_type": "markdown",
      "source": [
        "## **ΒΗΜΑ 2**: Εντοπίστε από ποια εως ποια σελίδα υπάρχουν τα άρθρα διάφορων ημερών.\n"
      ],
      "metadata": {
        "id": "5tWeKREaUgPi"
      }
    },
    {
      "cell_type": "markdown",
      "source": [
        "**Στο pagination πατάμε να πάει στην αμέσως επόμενη σελίδα** και τσεκάρουμε ότι στο url υπάρχει ο αριθμός της σελίδας (π.χ. ```https://www.efsyn.gr/ekloges-2023?page=1```)\n"
      ],
      "metadata": {
        "id": "7AvmJKGgSgGb"
      }
    },
    {
      "cell_type": "markdown",
      "source": [
        "![](https://drive.google.com/uc?export=view&id=104uogfAw6xRUwiSyOf3RTAswnWOVqf1q)\n"
      ],
      "metadata": {
        "id": "bjow_sbyQJ_P"
      }
    },
    {
      "cell_type": "markdown",
      "source": [
        "Έστω ότι εμείς θέλουμε να πάρουμε τις ειδήσεις από 29/5/2023 έως 30/05/2023.\n",
        "\n",
        "Θέλουμε να εντοπίσουμε στο url τον αριθμό της πρώτης και της τελευταίας σελίδας που περιέχουν άρθρα μέσα στο εύρος που θέλουμε.\n",
        "\n",
        "Αλλάζουμε στο address bar τον αριθμό του page και κοιτάμε τις ημερομηνίες των άρθρων κάθε σελίδας. Στο παράδειγμα, βρήκα ότι οι σελίδες που θέλω είναι από page=2 έως page=7."
      ],
      "metadata": {
        "id": "NsMZpDjk1mHm"
      }
    },
    {
      "cell_type": "markdown",
      "source": [
        "Κάνουμε copy το url της πρώτης σελίδας που θέλουμε (στο παράδειγμα το ```https://www.efsyn.gr/ekloges-2023?page=2``` και επιστρέφουμε στο notebook.\n",
        "\n",
        "Σε ένα νέο κελί θέτουμε τους αριθμούς της πρώτης και της τελευταίας σελίδας που θέλουμε, σαν τιμές σε δύο μεταβλητές.\n",
        "\n",
        "Aποθηκεύουμε το url (το κάνουμε paste) σε μια μεταβλητή start_url. **Σβήνουμε τον αριθμό του page**. Αυτή τη μεταβλητή θα χρησιμοποιήσουμε μετά στη λούπα που θα παράγει δυναμικά τον αριθμό της εκάστοτε σελίδας για να φέρει όλες τις επιθυμητές σελίδες. \n",
        "\n",
        "Φτιάχνουμε και μια μεταβλητή test_url, με τιμή το start_url συν τον αριθμό της πρώτης σελίδας που θέλουμε σαν string, για να κάνουμε τις δοκιμές μας από την πρώτη σελίδα και να βρούμε τα tags που θέλουμε να πάρουμε."
      ],
      "metadata": {
        "id": "ApDeCI-NVQsW"
      }
    },
    {
      "cell_type": "code",
      "execution_count": null,
      "metadata": {
        "id": "Jh9H_-Bc2-0r"
      },
      "outputs": [],
      "source": [
        "start_page = 2\n",
        "end_page = 7\n",
        "\n",
        "start_url = 'https://www.efsyn.gr/ekloges-2023?page='\n",
        "\n",
        "test_url = start_url + str(start_page)"
      ]
    },
    {
      "cell_type": "markdown",
      "source": [
        "\n",
        "\n",
        "---\n",
        "\n"
      ],
      "metadata": {
        "id": "0AM98M9Y6Sgd"
      }
    },
    {
      "cell_type": "markdown",
      "source": [
        "## **ΒΗΜΑ 3**: Κατεβάστε τα links όλων των teaser άρθρων τουλάχιστον 2 ολόκληρων ημερών και αποθηκεύστε τα σε ένα csv στο drive σας."
      ],
      "metadata": {
        "id": "RvVe7xE2xP_Q"
      }
    },
    {
      "cell_type": "markdown",
      "source": [
        "Ετοιμαζόμαστε για να βρούμε τα html tags που περιέχουν τις πληροφορίες που θέλουμε να πάρουμε από τις σελίδες που θα κατεβάσουμε.\n",
        "\n",
        "Εισάγουμε τον κώδικα για να κατεβάσουμε τη σελίδα που θέσαμε προηγουμένως σαν test_url και να κάνουμε τις δοκιμές μας."
      ],
      "metadata": {
        "id": "vo5F_H7vwmuS"
      }
    },
    {
      "cell_type": "code",
      "source": [
        "# κατεβάζουμε τη δοκιμαστική σελίδα \n",
        "response = requests.get(test_url)\n",
        "doc = BeautifulSoup(response.text, 'html.parser')"
      ],
      "metadata": {
        "id": "k157-Ou9ycdi"
      },
      "execution_count": null,
      "outputs": []
    },
    {
      "cell_type": "markdown",
      "source": [
        "Επιστρέφουμε στο tab του site και ανοίγουμε τον inspector. Κάνουμε **δεξί κλικ στο πρώτο άρθρο** και πατάμε ```inspect```."
      ],
      "metadata": {
        "id": "0LbiQcSPIpXG"
      }
    },
    {
      "cell_type": "markdown",
      "source": [
        "\n",
        "\n",
        "![](https://drive.google.com/uc?export=view&id=1w-sJ33lHplOpO2T0J2FjXzNd9xHTHlny)"
      ],
      "metadata": {
        "id": "7SudYO5UIWY0"
      }
    },
    {
      "cell_type": "markdown",
      "source": [
        "Ανοίγει ο inspector (στο παράδειγμα φαίνεται δεξιά, αλλά σε εσάς μπορεί να ανοίγει κάτω) και βλέπουμε την html της σελίδας. "
      ],
      "metadata": {
        "id": "Jxtht1fHItIH"
      }
    },
    {
      "cell_type": "markdown",
      "source": [
        "\n",
        "\n",
        "![](https://drive.google.com/uc?export=view&id=1tRqrpyJUtXLKCh8Mr3dwfzzUFi9TNVIE)\n",
        "\n"
      ],
      "metadata": {
        "id": "1VMhcCIHIaku"
      }
    },
    {
      "cell_type": "markdown",
      "source": [
        "Στον html κώδικα, είναι μπλε το σημείο της σελίδας πάνω στο οποίο κάναμε δεξί κλικ. Είναι σημαντικό για διευκόλυνσή μας, να κάνουμε δεξί κλικ στο **πρώτο** άρθρο."
      ],
      "metadata": {
        "id": "qSFheh7iIyFc"
      }
    },
    {
      "cell_type": "markdown",
      "source": [
        "\n",
        "Στην html ψάχνουμε πάνω από το tag που είναι μπλε, να δούμε το πρώτο html tag το οποίο εξέχει προς τα αριστερά (στο παράδειγμα είναι ```<article>```, αλλά σε άλλα sites μπορεί να είναι ```<div>``` (συνήθως είναι ένα από τα δύο). Πατάμε στο τριγωνάκι του και το κλείνουμε."
      ],
      "metadata": {
        "id": "xLz6hYlLI20F"
      }
    },
    {
      "cell_type": "markdown",
      "source": [
        "\n",
        "![](https://drive.google.com/uc?export=view&id=1M7FrN-wj9YYx7YdZt7iL0bJS27X0U6L7)\n",
        "\n"
      ],
      "metadata": {
        "id": "hnfn_UVB94AU"
      }
    },
    {
      "cell_type": "markdown",
      "source": [
        "Βλέπουμε ότι εμφανίζεται ένα κατεβατό από ίδια html tags."
      ],
      "metadata": {
        "id": "NE0rtKoGMkns"
      }
    },
    {
      "cell_type": "markdown",
      "source": [
        "**Αυτό που επιδιώκουμε** είναι να δούμε μια σειρά από ίδια tags, όπου το καθένα αντιστοιχεί σε ένα άρθρο. \n",
        "\n",
        "Για να βεβαιωθούμε ότι το καθένα από αυτά αντιστοιχεί σε ένα άρθρο, περνάμε στoν inspector το ποντίκι πάνω από αυτά τα tags και βλέπουμε ότι μπλεδίζει το αντίστοιχο άρθρο.\n",
        "\n",
        "\n"
      ],
      "metadata": {
        "id": "XnnKxQE8I7H_"
      }
    },
    {
      "cell_type": "markdown",
      "source": [
        "![](https://drive.google.com/uc?export=view&id=16f7WEzLadghVFxkyGSrc99EiwiCGW5Ae)"
      ],
      "metadata": {
        "id": "4bZSiHiZI-Ng"
      }
    },
    {
      "cell_type": "markdown",
      "source": [
        "Έτσι βρήκαμε ότι το κάθε άρθρο βρίσκεται σε ένα html tag ```<article>```. \n",
        "\n",
        "**Note**: επειδή το html tag ```<article>``` χρησιμοποιείται μόνο σε τέτοιες περιπτώσεις, δεν χρειάζεται να καταγράψουμε το class.\n",
        "\n",
        "**Αν όμως σε κάποιο site** τα άρθρα είναι μέσα σε ```<div>```, επειδή το ```<div>``` χρησιμοποιείται και αλλού, **πρέπει να καταγράψουμε και το class** των divs."
      ],
      "metadata": {
        "id": "GLf1hY4T9yyp"
      }
    },
    {
      "cell_type": "markdown",
      "source": [
        "Το επόμενο πράγμα που θέλουμε, είναι να δούμε ποιο είναι το μεγάλο \"κουτί\" που περιέχει όλα αυτά τα άρθρα. Δηλαδή **ποιο είναι το html tag που είναι πάνω από το tag του πρώτου άρθρου και εξέχει αριστερά**."
      ],
      "metadata": {
        "id": "zRMSh1vyLBzI"
      }
    },
    {
      "cell_type": "markdown",
      "source": [
        "![](https://drive.google.com/uc?export=view&id=1SyzeS-cugjlUkp5mNboKDpLI2AeGanHj)"
      ],
      "metadata": {
        "id": "-RoCJMzLLouB"
      }
    },
    {
      "cell_type": "markdown",
      "source": [
        "Στο παράδειγμα είναι ένα ```<div>``` με ```class=\"default-teaser triple\"```.\n",
        "\n",
        "**Άρα**: στην python θα ψάξουμε για ένα ```div``` με ```class=default-teaser triple``` και μέσα σ' αυτό, θα ψάξουμε όλα τα  ```article```."
      ],
      "metadata": {
        "id": "yfikdDPINuvA"
      }
    },
    {
      "cell_type": "markdown",
      "source": [
        "Ξαναγυρνάμε στο notebook και βάζουμε τα finds:"
      ],
      "metadata": {
        "id": "WhWRLsLZOs_Y"
      }
    },
    {
      "cell_type": "code",
      "source": [
        "# αποθηκεύω τη λίστα των άρθρων σε μια μεταβλητή\n",
        "teaser_articles_list = doc.find('div', {'class': 'default-teaser triple'}).find_all('article')"
      ],
      "metadata": {
        "id": "-zOGfHe8O2sW"
      },
      "execution_count": null,
      "outputs": []
    },
    {
      "cell_type": "markdown",
      "source": [
        "Για να μπορώ να δω το πρώτο άρθρο της λίστας πρέπει να βάλω μετά το όνομα της λίστας το ```[0]```."
      ],
      "metadata": {
        "id": "4HJ6EP7LpHYJ"
      }
    },
    {
      "cell_type": "code",
      "source": [
        "teaser_articles_list[0]"
      ],
      "metadata": {
        "colab": {
          "base_uri": "https://localhost:8080/"
        },
        "id": "35qKQUGnqAVp",
        "outputId": "6f7956d1-e694-444d-d4a3-2820fc069d65"
      },
      "execution_count": null,
      "outputs": [
        {
          "output_type": "execute_result",
          "data": {
            "text/plain": [
              "<article class=\"default-teaser__article default-teaser__article\"> <figure> <img alt=\"\" height=\"160\" loading=\"lazy\" src=\"/sites/default/files/styles/default_teaser/public/2023-05/rafale_39.jpg?itok=N4wRcSHQ\" typeof=\"foaf:Image\" width=\"320\"> </img></figure> <a class=\"default-teaser__cat\" href=\"/stiles/apopseis\">ΑΠΟΨΕΙΣ</a> <time class=\"default-teaser__date default-date\">31.05.2023, <strong>16:00</strong></time><div class=\"default-teaser__title\">Ο εξατομικευμένος φόβος</div><div class=\"default-teaser__summary\"> Καθοριστική εξηγητική συνισταμένη είναι «ο φόβος» που, ως γνωστόν, εξουδετερώνει και την οργή. Φόβος που πηγάζει από αντίστοιχες καταστάσεις επιδείνωσης των υλικών συνθηκών επι- και δια-βίωσης των πολλών...</div> <a class=\"full-link\" href=\"/stiles/apopseis/392002_o-exatomikeymenos-fobos\">Ο εξατομικευμένος φόβος</a> </article>"
            ]
          },
          "metadata": {},
          "execution_count": 6
        }
      ]
    },
    {
      "cell_type": "markdown",
      "source": [
        "Εφόσον, όλα είναι εντάξει, δηλαδή βλέπουμε την html του άρθρου, μπορούμε να εντοπίσουμε το πώς θα πάρουμε το link του κάθε άρθρου.\n",
        "\n",
        "Με το print και το pretify μπορώ να δω το αποτέλεσμα του προηγούμενου κελιού σε πολύ καλύτερη μορφή, ώστε να μη χρειάζεται να ξαναγυρίσω στo site και στον inspector:"
      ],
      "metadata": {
        "id": "rAqI7DSHT4Db"
      }
    },
    {
      "cell_type": "code",
      "source": [
        "# με το print και το prettify, μπορώ να δω το ίδιο πράγμα σε καλυτερη μορφή, ώστε να μη χρειάζεται να ξαναδώ την html στον inspector\n",
        "print(teaser_articles_list[0].prettify())"
      ],
      "metadata": {
        "colab": {
          "base_uri": "https://localhost:8080/"
        },
        "id": "tBgXhHwLT2vK",
        "outputId": "02bf6d2b-daa2-46e3-d0ab-aafb2011001a"
      },
      "execution_count": null,
      "outputs": [
        {
          "output_type": "stream",
          "name": "stdout",
          "text": [
            "<article class=\"default-teaser__article default-teaser__article\">\n",
            " <figure>\n",
            "  <img alt=\"\" height=\"160\" loading=\"lazy\" src=\"/sites/default/files/styles/default_teaser/public/2023-05/rafale_39.jpg?itok=N4wRcSHQ\" typeof=\"foaf:Image\" width=\"320\">\n",
            "  </img>\n",
            " </figure>\n",
            " <a class=\"default-teaser__cat\" href=\"/stiles/apopseis\">\n",
            "  ΑΠΟΨΕΙΣ\n",
            " </a>\n",
            " <time class=\"default-teaser__date default-date\">\n",
            "  31.05.2023,\n",
            "  <strong>\n",
            "   16:00\n",
            "  </strong>\n",
            " </time>\n",
            " <div class=\"default-teaser__title\">\n",
            "  Ο εξατομικευμένος φόβος\n",
            " </div>\n",
            " <div class=\"default-teaser__summary\">\n",
            "  Καθοριστική εξηγητική συνισταμένη είναι «ο φόβος» που, ως γνωστόν, εξουδετερώνει και την οργή. Φόβος που πηγάζει από αντίστοιχες καταστάσεις επιδείνωσης των υλικών συνθηκών επι- και δια-βίωσης των πολλών...\n",
            " </div>\n",
            " <a class=\"full-link\" href=\"/stiles/apopseis/392002_o-exatomikeymenos-fobos\">\n",
            "  Ο εξατομικευμένος φόβος\n",
            " </a>\n",
            "</article>\n",
            "\n"
          ]
        }
      ]
    },
    {
      "cell_type": "markdown",
      "source": [
        "Το link του άρθρου είναι πάντα στο ```href=``` ενός ```<a>``` tag. Κοιτάμε στο προηγούμενο output (του κελιού με το pretify) και ψάχνουμε για το url του άρθρου που συνήθως έχει το όνομα του άρθρου. Στο παράδειγμα είναι το ```<a>``` με ```class=\"full-link\"```. \n",
        "\n",
        "Σε άλλα sites θα είναι άλλο το class. Πρέπει να εντοπίσετε το ```<a>``` tag που αναφέρεται στο άρθρο (όχι στο section, στη φωτογραφία ή κάτι άλλο).\n",
        "\n",
        "Στη συνέχεια, ζητάμε το link:"
      ],
      "metadata": {
        "id": "vUnUZVIjV7sv"
      }
    },
    {
      "cell_type": "code",
      "source": [
        "link = teaser_articles_list[0].find('a', {'class': 'full-link'})['href']\n",
        "print(link) # το κάνουμε print για να μας δώσει clicable link ώστε να το πατήσουμε και να βεβαιωθούμε ότι δουλεύει σωστά."
      ],
      "metadata": {
        "colab": {
          "base_uri": "https://localhost:8080/"
        },
        "id": "mpBYR5U2ajnq",
        "outputId": "68cc4fb9-6e77-4208-9ca3-4290a29ceeb1"
      },
      "execution_count": null,
      "outputs": [
        {
          "output_type": "stream",
          "name": "stdout",
          "text": [
            "/stiles/apopseis/392002_o-exatomikeymenos-fobos\n"
          ]
        }
      ]
    },
    {
      "cell_type": "markdown",
      "source": [
        "Στη συγκεκριμένη περίπτωση, το url δεν είναι ολόκληρο, οπότε θα προσθέτουμε στην αρχή του το main_url που είναι: ```https://www.efsyn.gr```. \n",
        "\n",
        "Σε άλλα sites, μπορεί να είναι εντάξει το link.\n",
        "\n",
        "**Επειδή στη συνέχεια θέλουμε να μπούμε σε καθένα από τα links των άρθρων για να φέρουμε το πλήρες κείμενο, πρέπει να είμαστε βέβαιοι ότι τα links που σώζουμε είναι σωστά**."
      ],
      "metadata": {
        "id": "pGrfmF9pa47A"
      }
    },
    {
      "cell_type": "code",
      "source": [
        "main_url = 'https://www.efsyn.gr'\n",
        "article_link = main_url + link\n",
        "print(article_link) "
      ],
      "metadata": {
        "colab": {
          "base_uri": "https://localhost:8080/"
        },
        "id": "BjAFlN-yfs2k",
        "outputId": "341c27e8-79eb-41d8-d666-8e7d337593a6"
      },
      "execution_count": null,
      "outputs": [
        {
          "output_type": "stream",
          "name": "stdout",
          "text": [
            "https://www.efsyn.gr/stiles/apopseis/392002_o-exatomikeymenos-fobos\n"
          ]
        }
      ]
    },
    {
      "cell_type": "markdown",
      "source": [
        "Τώρα είμαστε έτοιμοι να φτιάξουμε τη λούπα που θα μπαίνει σε όλες τις σελίδες των teaser articles που θέλουμε και να πάρουμε τα urls όλων των άρθρων."
      ],
      "metadata": {
        "id": "eR7FusfFgQBR"
      }
    },
    {
      "cell_type": "markdown",
      "source": [
        "## **Note**:\n",
        "\n",
        "**Αν ακολουθείτε πιστά αυτά τα βήματα και χρησιμοποιείτε αυτόν τον κώδικα με τα ίδια ονόματα μεταβλητών και απλώς αλλάζετε το url του site, τον αριθμό σελίδων, και τα tags και τα classes στα find και τα find_all...** \n",
        "\n",
        "...στον παρακάτω κώδικα, αντικαταστήστε τις τιμές των παρακάτω μεταβλητών με τις τιμές που δώσατε εσείς σ' αυτές τις μεταβλητές:\n",
        "\n",
        "- teaser_articles_list\n",
        "- link\n",
        "\n",
        "Όλα τα υπόλοιπα μένουν όπως είναι:"
      ],
      "metadata": {
        "id": "kcMIntUAysJi"
      }
    },
    {
      "cell_type": "code",
      "source": [
        "teasers_list = []\n",
        "\n",
        "for page_num in range(start_page, end_page+1):\n",
        "  page_url = start_url + str(page_num)\n",
        "  response = requests.get(page_url)\n",
        "  doc = BeautifulSoup(response.text, 'html.parser')\n",
        "\n",
        "  #*** ΔΩΣΤΕ ΤΗ ΔΙΚΗ ΣΑΣ ΤΙΜΗ στo teaser_articles_list***\n",
        "  teaser_articles_list = doc.find('div', {'class': 'default-teaser triple'}).find_all('article')\n",
        "\n",
        "\n",
        "  for teaser in teaser_articles_list:\n",
        "      story_dict = {}\n",
        "      try:\n",
        "        \n",
        "        #*** ΔΩΣΤΕ ΤΗ ΔΙΚΗ ΣΑΣ ΤΙΜΗ στο link, ΜΕΤΑ το teaser\n",
        "        link = teaser.find('a', {'class': 'full-link'})['href'] \n",
        "        \n",
        "\n",
        "        if link.startswith(\"http\"):\n",
        "          story_dict['url'] = link\n",
        "        else:\n",
        "          story_dict['url'] = main_url + link\n",
        "      except:\n",
        "        story_dict['url'] = ''\n",
        "        pass\n",
        "      teasers_list.append(story_dict)\n",
        "  time.sleep(1)"
      ],
      "metadata": {
        "id": "nieERTaKgoXi"
      },
      "execution_count": null,
      "outputs": []
    },
    {
      "cell_type": "code",
      "source": [
        "# Δημιουργούμε dataframe από τη λίστα με τα dictionaries\n",
        "efsyn_teasers_df = pd.DataFrame(teasers_list)\n",
        "efsyn_teasers_df"
      ],
      "metadata": {
        "colab": {
          "base_uri": "https://localhost:8080/",
          "height": 424
        },
        "id": "qq7Q_CWQ3g69",
        "outputId": "f15c603e-2df6-4aa5-fe98-d6afd30f2854"
      },
      "execution_count": null,
      "outputs": [
        {
          "output_type": "execute_result",
          "data": {
            "text/plain": [
              "                                                  url\n",
              "0   https://www.efsyn.gr/stiles/apopseis/392002_o-...\n",
              "1   https://www.efsyn.gr/stiles/apopseis/392005_om...\n",
              "2   https://www.efsyn.gr/politiki/kybernisi/391977...\n",
              "3   https://www.efsyn.gr/politiki/kybernisi/391970...\n",
              "4   https://www.efsyn.gr/politiki/antipoliteysi/39...\n",
              "..                                                ...\n",
              "67  https://www.efsyn.gr/politiki/antipoliteysi/39...\n",
              "68  https://www.efsyn.gr/politiki/antipoliteysi/39...\n",
              "69  https://www.efsyn.gr/politiki/antipoliteysi/39...\n",
              "70  https://www.efsyn.gr/politiki/391587_tetraetia...\n",
              "71  https://www.efsyn.gr/politiki/boyli/391585_liv...\n",
              "\n",
              "[72 rows x 1 columns]"
            ],
            "text/html": [
              "\n",
              "  <div id=\"df-9d3609e7-703f-45fc-9a13-d00ed3405ba9\">\n",
              "    <div class=\"colab-df-container\">\n",
              "      <div>\n",
              "<style scoped>\n",
              "    .dataframe tbody tr th:only-of-type {\n",
              "        vertical-align: middle;\n",
              "    }\n",
              "\n",
              "    .dataframe tbody tr th {\n",
              "        vertical-align: top;\n",
              "    }\n",
              "\n",
              "    .dataframe thead th {\n",
              "        text-align: right;\n",
              "    }\n",
              "</style>\n",
              "<table border=\"1\" class=\"dataframe\">\n",
              "  <thead>\n",
              "    <tr style=\"text-align: right;\">\n",
              "      <th></th>\n",
              "      <th>url</th>\n",
              "    </tr>\n",
              "  </thead>\n",
              "  <tbody>\n",
              "    <tr>\n",
              "      <th>0</th>\n",
              "      <td>https://www.efsyn.gr/stiles/apopseis/392002_o-...</td>\n",
              "    </tr>\n",
              "    <tr>\n",
              "      <th>1</th>\n",
              "      <td>https://www.efsyn.gr/stiles/apopseis/392005_om...</td>\n",
              "    </tr>\n",
              "    <tr>\n",
              "      <th>2</th>\n",
              "      <td>https://www.efsyn.gr/politiki/kybernisi/391977...</td>\n",
              "    </tr>\n",
              "    <tr>\n",
              "      <th>3</th>\n",
              "      <td>https://www.efsyn.gr/politiki/kybernisi/391970...</td>\n",
              "    </tr>\n",
              "    <tr>\n",
              "      <th>4</th>\n",
              "      <td>https://www.efsyn.gr/politiki/antipoliteysi/39...</td>\n",
              "    </tr>\n",
              "    <tr>\n",
              "      <th>...</th>\n",
              "      <td>...</td>\n",
              "    </tr>\n",
              "    <tr>\n",
              "      <th>67</th>\n",
              "      <td>https://www.efsyn.gr/politiki/antipoliteysi/39...</td>\n",
              "    </tr>\n",
              "    <tr>\n",
              "      <th>68</th>\n",
              "      <td>https://www.efsyn.gr/politiki/antipoliteysi/39...</td>\n",
              "    </tr>\n",
              "    <tr>\n",
              "      <th>69</th>\n",
              "      <td>https://www.efsyn.gr/politiki/antipoliteysi/39...</td>\n",
              "    </tr>\n",
              "    <tr>\n",
              "      <th>70</th>\n",
              "      <td>https://www.efsyn.gr/politiki/391587_tetraetia...</td>\n",
              "    </tr>\n",
              "    <tr>\n",
              "      <th>71</th>\n",
              "      <td>https://www.efsyn.gr/politiki/boyli/391585_liv...</td>\n",
              "    </tr>\n",
              "  </tbody>\n",
              "</table>\n",
              "<p>72 rows × 1 columns</p>\n",
              "</div>\n",
              "      <button class=\"colab-df-convert\" onclick=\"convertToInteractive('df-9d3609e7-703f-45fc-9a13-d00ed3405ba9')\"\n",
              "              title=\"Convert this dataframe to an interactive table.\"\n",
              "              style=\"display:none;\">\n",
              "        \n",
              "  <svg xmlns=\"http://www.w3.org/2000/svg\" height=\"24px\"viewBox=\"0 0 24 24\"\n",
              "       width=\"24px\">\n",
              "    <path d=\"M0 0h24v24H0V0z\" fill=\"none\"/>\n",
              "    <path d=\"M18.56 5.44l.94 2.06.94-2.06 2.06-.94-2.06-.94-.94-2.06-.94 2.06-2.06.94zm-11 1L8.5 8.5l.94-2.06 2.06-.94-2.06-.94L8.5 2.5l-.94 2.06-2.06.94zm10 10l.94 2.06.94-2.06 2.06-.94-2.06-.94-.94-2.06-.94 2.06-2.06.94z\"/><path d=\"M17.41 7.96l-1.37-1.37c-.4-.4-.92-.59-1.43-.59-.52 0-1.04.2-1.43.59L10.3 9.45l-7.72 7.72c-.78.78-.78 2.05 0 2.83L4 21.41c.39.39.9.59 1.41.59.51 0 1.02-.2 1.41-.59l7.78-7.78 2.81-2.81c.8-.78.8-2.07 0-2.86zM5.41 20L4 18.59l7.72-7.72 1.47 1.35L5.41 20z\"/>\n",
              "  </svg>\n",
              "      </button>\n",
              "      \n",
              "  <style>\n",
              "    .colab-df-container {\n",
              "      display:flex;\n",
              "      flex-wrap:wrap;\n",
              "      gap: 12px;\n",
              "    }\n",
              "\n",
              "    .colab-df-convert {\n",
              "      background-color: #E8F0FE;\n",
              "      border: none;\n",
              "      border-radius: 50%;\n",
              "      cursor: pointer;\n",
              "      display: none;\n",
              "      fill: #1967D2;\n",
              "      height: 32px;\n",
              "      padding: 0 0 0 0;\n",
              "      width: 32px;\n",
              "    }\n",
              "\n",
              "    .colab-df-convert:hover {\n",
              "      background-color: #E2EBFA;\n",
              "      box-shadow: 0px 1px 2px rgba(60, 64, 67, 0.3), 0px 1px 3px 1px rgba(60, 64, 67, 0.15);\n",
              "      fill: #174EA6;\n",
              "    }\n",
              "\n",
              "    [theme=dark] .colab-df-convert {\n",
              "      background-color: #3B4455;\n",
              "      fill: #D2E3FC;\n",
              "    }\n",
              "\n",
              "    [theme=dark] .colab-df-convert:hover {\n",
              "      background-color: #434B5C;\n",
              "      box-shadow: 0px 1px 3px 1px rgba(0, 0, 0, 0.15);\n",
              "      filter: drop-shadow(0px 1px 2px rgba(0, 0, 0, 0.3));\n",
              "      fill: #FFFFFF;\n",
              "    }\n",
              "  </style>\n",
              "\n",
              "      <script>\n",
              "        const buttonEl =\n",
              "          document.querySelector('#df-9d3609e7-703f-45fc-9a13-d00ed3405ba9 button.colab-df-convert');\n",
              "        buttonEl.style.display =\n",
              "          google.colab.kernel.accessAllowed ? 'block' : 'none';\n",
              "\n",
              "        async function convertToInteractive(key) {\n",
              "          const element = document.querySelector('#df-9d3609e7-703f-45fc-9a13-d00ed3405ba9');\n",
              "          const dataTable =\n",
              "            await google.colab.kernel.invokeFunction('convertToInteractive',\n",
              "                                                     [key], {});\n",
              "          if (!dataTable) return;\n",
              "\n",
              "          const docLinkHtml = 'Like what you see? Visit the ' +\n",
              "            '<a target=\"_blank\" href=https://colab.research.google.com/notebooks/data_table.ipynb>data table notebook</a>'\n",
              "            + ' to learn more about interactive tables.';\n",
              "          element.innerHTML = '';\n",
              "          dataTable['output_type'] = 'display_data';\n",
              "          await google.colab.output.renderOutput(dataTable, element);\n",
              "          const docLink = document.createElement('div');\n",
              "          docLink.innerHTML = docLinkHtml;\n",
              "          element.appendChild(docLink);\n",
              "        }\n",
              "      </script>\n",
              "    </div>\n",
              "  </div>\n",
              "  "
            ]
          },
          "metadata": {},
          "execution_count": 11
        }
      ]
    },
    {
      "cell_type": "markdown",
      "source": [
        "Αποθηκεύουμε το dataframe σαν csv στο drive μας. \n",
        "\n",
        "Ανοίγουμε το πλαϊνό menu πατώντας στο εικονίδιο του φάκελου (Files) και κάνοντας δεξί κλικ πάνω στο φάκελο που θέλουμε να το σώσουμε κάνουμε copy path.\n",
        "\n",
        "Μέσα στην παρένθεση της εντολής to_csv() κάνουμε paste το path, βάζουμε slash (/) και δίνουμε το όνομα που θέλουμε να έχει το αρχείο μας (βάζουμε και την κατάληχη csv)."
      ],
      "metadata": {
        "id": "mnjDHvt-7wPx"
      }
    },
    {
      "cell_type": "code",
      "source": [
        "efsyn_teasers_df.to_csv('/content/drive/MyDrive/2023/teaching python/Lesson 8/efsyn_teasers_ekloges_2023_28-29_5_2023.csv', index=False)"
      ],
      "metadata": {
        "id": "oQD8Y_4e50ZE"
      },
      "execution_count": null,
      "outputs": []
    },
    {
      "cell_type": "markdown",
      "source": [
        "\n",
        "\n",
        "---\n",
        "\n"
      ],
      "metadata": {
        "id": "d4xraMQz-AD4"
      }
    },
    {
      "cell_type": "markdown",
      "source": [
        "## **ΒΗΜΑ 4**: Μπείτε στον browser, σε ένα από αυτά τα άρθρα (στη σελίδα του άρθρου) και βρείτε σε ποια html tags και με ποια classes βρίσκονται τα διάφορα στοιχεία του άρθρου που θα πάρετε στη συνέχεια (π.χ.``` <div>, <h1>, <p>, <time>``` κλπ.)"
      ],
      "metadata": {
        "id": "aoIqT2Ql9SOH"
      }
    },
    {
      "cell_type": "markdown",
      "source": [
        "Επιστρέφουμε στο site και ανοίγουμε ένα άρθρο. (π.χ. το https://www.efsyn.gr/stiles/apopseis/391986_anagki-bathias-ermineias-tis-syntribis-toy-syriza)"
      ],
      "metadata": {
        "id": "H-KyIIlq-FGm"
      }
    },
    {
      "cell_type": "markdown",
      "source": [
        "Κάνουμε δεξί κλικ σε ένα κενό σημείο μέσα στο άρθρο (ο κέρσορας να είναι βελάκι) και επιλέγουμε inspect.\n",
        "\n",
        "Κοιτάμε στον inspector την html της σελίδας. Όπως και στη σελίδα με τα teasers, θέλουμε να βρούμε το μεγάλο κουτί που περιέχει όλα τα στοιχεία του άρθρου μας.\n",
        "\n",
        "Στην περίπτωση της efsyn αυτό είναι το ```<section>``` με ```class=\"article__main\"```."
      ],
      "metadata": {
        "id": "yKvgHKTi_P-G"
      }
    },
    {
      "cell_type": "markdown",
      "source": [
        "![](https://drive.google.com/uc?export=view&id=1LrjPdPDnE5LZIUhdCV3LlD-jVFPGUWCK)"
      ],
      "metadata": {
        "id": "dIUQRSOkAZfP"
      }
    },
    {
      "cell_type": "markdown",
      "source": [
        "Επομένως εκεί μέσα θα ζητήσουμε τα επιμέρους στοιχεία."
      ],
      "metadata": {
        "id": "kRyE12R9BT3T"
      }
    },
    {
      "cell_type": "markdown",
      "source": [
        "Παρατηρούμε επίσης ότι η κατηγορία του άρθρου είναι \"ΑΠΟΨΕΙΣ\" και βρίσκεται σε ένα ```<a>``` tag με ```class=\"article__category\"```, εκτός του ```<section>``` με ```class=\"article__main\"``` που περικλύει όλο το άρθρο (είναι από πάνω ακριβώς)."
      ],
      "metadata": {
        "id": "GoiRlSFsNs7A"
      }
    },
    {
      "cell_type": "markdown",
      "source": [
        "\n",
        "\n",
        "---\n",
        "\n"
      ],
      "metadata": {
        "id": "xiUK7yFnsFUs"
      }
    },
    {
      "cell_type": "markdown",
      "source": [
        "## **ΒΗΜΑ 5**: Φτιάξτε έναν scraper για τη σελίδα ενός άρθρου και τσεκάρετε ότι δουλεύει καλά. Ο scraper θα πρέπει να μαζεύει: **τον τίτλο, την ημερομηνία, τον συντάκτη, την κατηγορία και το πλήρες κείμενο**. "
      ],
      "metadata": {
        "id": "TI5WMZTikJ3y"
      }
    },
    {
      "cell_type": "markdown",
      "source": [
        "Πάμε πίσω στο notebook και προσθέτουμε τα κελιά:"
      ],
      "metadata": {
        "id": "x0jDNvtsBj9P"
      }
    },
    {
      "cell_type": "code",
      "source": [
        "article_url = 'https://www.efsyn.gr/stiles/apopseis/391986_anagki-bathias-ermineias-tis-syntribis-toy-syriza'"
      ],
      "metadata": {
        "id": "K1qDhCP57uau"
      },
      "execution_count": null,
      "outputs": []
    },
    {
      "cell_type": "code",
      "source": [
        "response = requests.get(article_url)\n",
        "doc = BeautifulSoup(response.text, 'html.parser')"
      ],
      "metadata": {
        "id": "v3n4eRGSB5BV"
      },
      "execution_count": null,
      "outputs": []
    },
    {
      "cell_type": "code",
      "source": [
        "article = doc.find('section', {'class': 'article__main'})\n",
        "print(article.prettify())"
      ],
      "metadata": {
        "id": "iMQDp36eCGjh"
      },
      "execution_count": null,
      "outputs": []
    },
    {
      "cell_type": "markdown",
      "source": [
        "Κοιτάζουμε την html και βρίσκουμε πού είναι τα στοιχεία που θέλουμε:"
      ],
      "metadata": {
        "id": "z8ZIutyjCque"
      }
    },
    {
      "cell_type": "markdown",
      "source": [
        "**Κατηγορία**\n",
        "\n",
        "Είδαμε ότι η κατηγορία είναι έξω από το container του άρθρου, οπότε την παίρνουμε κατευθείαν από το doc."
      ],
      "metadata": {
        "id": "_z3x6fvcOqAm"
      }
    },
    {
      "cell_type": "code",
      "source": [
        "section = doc.find('a', {'class': 'article__category'}).text\n",
        "section"
      ],
      "metadata": {
        "colab": {
          "base_uri": "https://localhost:8080/",
          "height": 35
        },
        "id": "o-E4wNpsOxdz",
        "outputId": "b8d50268-e071-4b0d-bbf9-8ab8e45eb83e"
      },
      "execution_count": null,
      "outputs": [
        {
          "output_type": "execute_result",
          "data": {
            "text/plain": [
              "'ΑΠΟΨΕΙΣ'"
            ],
            "application/vnd.google.colaboratory.intrinsic+json": {
              "type": "string"
            }
          },
          "metadata": {},
          "execution_count": 15
        }
      ]
    },
    {
      "cell_type": "markdown",
      "source": [
        "**Τίτλος**"
      ],
      "metadata": {
        "id": "tnbGsKNIHjrs"
      }
    },
    {
      "cell_type": "code",
      "source": [
        "# ο τίτλος συνήθως είναι σε <h1> html yag\n",
        "title = article.find('h1').text\n",
        "title"
      ],
      "metadata": {
        "colab": {
          "base_uri": "https://localhost:8080/",
          "height": 35
        },
        "id": "8oTniTM2C0G3",
        "outputId": "9f3076ee-5cbd-494a-ea06-b620f66a3fb9"
      },
      "execution_count": null,
      "outputs": [
        {
          "output_type": "execute_result",
          "data": {
            "text/plain": [
              "'Ανάγκη βαθιάς ερμηνείας της συντριβής του ΣΥΡΙΖΑ'"
            ],
            "application/vnd.google.colaboratory.intrinsic+json": {
              "type": "string"
            }
          },
          "metadata": {},
          "execution_count": 16
        }
      ]
    },
    {
      "cell_type": "markdown",
      "source": [
        "**Ημερομηνία**"
      ],
      "metadata": {
        "id": "MoiMxGTDHnZ-"
      }
    },
    {
      "cell_type": "markdown",
      "source": [
        "Εάν στο time υπάρχει ```daytime=``` προτιμάμε να παίρνουμε αυτό αντί για το text γιατί είναι πολύ εύκολο να το μετατρέψουμε μετά σε  ```datetime``` dtype."
      ],
      "metadata": {
        "id": "cYszxUYREMvs"
      }
    },
    {
      "cell_type": "markdown",
      "source": [
        "### **Note**:\n",
        "\n",
        "Επειδή έχουμε φορτώσει τη βιβλιοθήκη time για να κάνουμε τον κώδικα να σταματάει ανάμεσα στα συνεχή requests, **ΜΗΝ** δώσετε όνομα μεταβλητής ```time```."
      ],
      "metadata": {
        "id": "lzr1gzYzfWZs"
      }
    },
    {
      "cell_type": "code",
      "source": [
        "# η ημερομηνία είναι συνήθως σε tag <time>\n",
        "date = article.find('time')['datetime']\n",
        "date"
      ],
      "metadata": {
        "colab": {
          "base_uri": "https://localhost:8080/",
          "height": 35
        },
        "id": "W96Xt8k5CVHk",
        "outputId": "c9310b40-3c35-4722-ef60-73404a54f46f"
      },
      "execution_count": null,
      "outputs": [
        {
          "output_type": "execute_result",
          "data": {
            "text/plain": [
              "'2023-05-31 16:00'"
            ],
            "application/vnd.google.colaboratory.intrinsic+json": {
              "type": "string"
            }
          },
          "metadata": {},
          "execution_count": 17
        }
      ]
    },
    {
      "cell_type": "markdown",
      "source": [
        "Αν δεν υπάρχει ```daytime=```, παίρνουμε το text (```date = article.find('time').text```).\n",
        "\n",
        "Συχνά όμως το text μπορεί να έχει και κενά ή/και new line characters (δηλαδή \\n).\n",
        "\n",
        "Π.χ. μπορεί να είναι κάτι σαν: ```'\\n      31/05/2023    18:45    \\n'```\n",
        "\n",
        "Σε αυτή την περίπτωση το παίρνουμε έτσι και θα το καθαρίσουμε μετά στο dataframe."
      ],
      "metadata": {
        "id": "nTIHdRpbFXQJ"
      }
    },
    {
      "cell_type": "markdown",
      "source": [
        "**Συντάκτης**"
      ],
      "metadata": {
        "id": "PcJhFHAoHsKs"
      }
    },
    {
      "cell_type": "code",
      "source": [
        "author = article.find('div', {'class', \"article__author\"}).span.text\n",
        "author"
      ],
      "metadata": {
        "colab": {
          "base_uri": "https://localhost:8080/",
          "height": 35
        },
        "id": "0EgmLHO1HfxE",
        "outputId": "a8c4b18b-79b0-4b93-8587-3ca11d75a7db"
      },
      "execution_count": null,
      "outputs": [
        {
          "output_type": "execute_result",
          "data": {
            "text/plain": [
              "' Δημήτρης Δεσύλλας* '"
            ],
            "application/vnd.google.colaboratory.intrinsic+json": {
              "type": "string"
            }
          },
          "metadata": {},
          "execution_count": 18
        }
      ]
    },
    {
      "cell_type": "markdown",
      "source": [
        "### **Note**:\n",
        "\n",
        "Μερικά site έχουν άλλο html tag/class αν ο author είναι επώνυμος και άλλο αν είναι η αίθουσα σύνταξης. Δείτε την html ενός άρθρου από την κάθε περίπτωση για να δείτε αν είναι το ίδιο. Αν δεν είναι χρησιμοποιήστε την τεχνική με το if... else που χρησιμοποιήσαμε στη λούπα των teasers για το url."
      ],
      "metadata": {
        "id": "riq9kfkTZtcL"
      }
    },
    {
      "cell_type": "markdown",
      "source": [
        "**Full text**"
      ],
      "metadata": {
        "id": "e-B0ehvVIgLM"
      }
    },
    {
      "cell_type": "markdown",
      "source": [
        "Πλην ελαχίστων εξαιρέσεων, το κείμενο βρίσκεται σε μια σειρά από ```<p>``` tags. Άρα, αφού είναι πολλά, τα παίρνουμε με find_all."
      ],
      "metadata": {
        "id": "Jv73l5ZrI42B"
      }
    },
    {
      "cell_type": "code",
      "source": [
        "paragraphs = article.find_all('p')\n",
        "paragraphs"
      ],
      "metadata": {
        "colab": {
          "base_uri": "https://localhost:8080/"
        },
        "id": "Bzi1bC0_Hfk_",
        "outputId": "818e7d32-c7e8-45e7-b9cf-4d4342574485"
      },
      "execution_count": null,
      "outputs": [
        {
          "output_type": "execute_result",
          "data": {
            "text/plain": [
              "[<p>Η πολιτικά ακριβής ερμηνεία γι’ αυτή τη συντριβή είναι απαραίτητος όρος για την ταξική ανασυγκρότηση του εργατικού κινήματος, το μέλλον της Aριστεράς και, κυρίως, για την ανεξαρτησία της Επαναστατικής Aριστεράς.</p>,\n",
              " <p title=\"Κείμενο (2)\">Τον Ιούλη του 2019, ο ΣΥΡΙΖΑ έχασε από τη Ν.Δ. με 8 μονάδες διαφορά, γιατί:</p>,\n",
              " <p title=\"Κείμενο (2)\"><strong>α)</strong> Δυσφήμησε κάθε έννοια Αριστεράς, μετατρέποντας το μεγάλο λαϊκό ΟΧΙ, στο δημοψήφισμα του 2015, σε κατάπτυστο ΝΑΙ στον Σόιμπλε και στην Ε.Ε.,</p>,\n",
              " <p title=\"Κείμενο (2)\"><strong>β)</strong> έφερε το 3ο χειρότερο Μνημόνιο μέχρι το 2060 (το ψήφισαν 5 κόμματα ΣΥΡΙΖΑ - ΑΝ.ΕΛΛ. - Ποτάμι - Ν.Δ. - ΠΑΣΟΚ και 222 βουλευτές) και το ξεπούλημα όλης της δημόσιας περιουσίας για 99 χρόνια, μέσω του κακόφημου Υπερταμείου (π.χ. πήγε να πουλήσει το αεροδρόμιο «Ελ. Βενιζέλος» με 700 εκατ. ευρώ, αλλά η Ε.Ε. τον υποχρέωσε να το πουλήσει στο διπλάσιο 1,4 δισ. ευρώ),</p>,\n",
              " <p title=\"Κείμενο (2)\"><strong>γ)</strong> με τη δεξιά κυβερνητική πολιτική του (2015-2019) κατήργησε στην πράξη τις διακρίσεις: μνημόνιο/αντιμνημόνιο, Δεξιά/Αριστερά, παλιό/νέο (μάζεψε όλη τη σαβούρα του παλιού - σάπιου ΠΑΣΟΚ), συλλογικό/ατομικό, εμείς/εγώ (έγινε κόμμα αστικό και αρχηγικό).</p>,\n",
              " <p title=\"Κείμενο (4)\">Κατήργησε το λεγόμενο «ηθικό πλεονέκτημα» της Αριστεράς (έβγαλε ευρωβουλευτές τον γιο του Κόκκαλη και τον «εραστή» δυτικών και βελγικών προαστίων Αλέξη Γεωργούλη)! Παρ’ όλα αυτά, στις εκλογές του Ιούλη 2019, λεηλάτησε εκλογικά όλη την Αριστερά και τη μισή ΑΝΤΑΡΣΥΑ και, το κυριότερο, έφερε στην κυβέρνηση τον Μητσοτάκη με 40%! Γιατί τώρα, όμως, έχασε από τη Ν.Δ. με 21 μονάδες διαφορά; Γιατί σε όλα τα προηγούμενα, παρ’ όλο που μεσολάβησε μια 4ετία δολοφονικής πολιτικής της Ν.Δ. (αστυνομοκρατία, υποκλοπές, έγκλημα Τεμπών κ.ά.), προστέθηκαν λειτουργώντας πολλαπλασιαστικά και τα εξής:</p>,\n",
              " <p title=\"Κείμενο (5)\"><strong>1.</strong> Ασκησε συναινετική «μαϊμού» αντιπολίτευση στη Ν.Δ. (2019-2023). Στην πανδημία πρότεινε κοινή υπουργό Υγείας την κ. Α. Λινού, έλεγε «θα λογαριαστούμε μετά». Εβαλε στον «πάγο» τα κινήματα.</p>,\n",
              " <p title=\"Κείμενο (6)\"><strong>2.</strong> Εβαλε εκλογικό στόχο «να φύγει η Δεξιά», αλλά να μείνει η δεξιά πολιτική (Ε.Ε., ΝΑΤΟ, βάσεις, εξοπλισμοί κ.ά.).</p>,\n",
              " <p title=\"Κείμενο (7)\"><strong>3.</strong> Αποπολιτικοποίησε την αντιπαράθεση με το εκλογικό δίλημμα: Τσίπρας ή Μητσοτάκης.</p>,\n",
              " <p title=\"Κείμενο (8)\"><strong>4.</strong> Είχε αλλοπρόσαλλη εκλογική τακτική: από τη νίκη του ΣΥΡΙΖΑ, σε προοδευτική συγκυβέρνηση με ΠΑΣΟΚ, ΜέΡΑ25 και ανοχή ΚΚΕ, σε κυβέρνηση «ηττημένων» αν βγαίνουν τα κουκιά, κυβέρνηση ανοχής, κυβέρνηση ειδικού σκοπού (κάθαρσης για τις υποκλοπές).</p>,\n",
              " <p title=\"Κείμενο (9)\"><strong>5.</strong> Δυσφήμησε την έννοια της απλής αναλογικής με τον εκλογικό «κόφτη» του 3%, εκβιάζοντας τους ψηφοφόρους της Αριστεράς και γενικά των μικρών κομμάτων (θεώρησε ότι απλή αναλογική είναι μόνο η κατάργηση του μπόνους στη Ν.Δ.).</p>,\n",
              " <p title=\"Κείμενο (10)\"><strong>6.</strong> Εγινε κακέκτυπο - απομίμηση του παλιού παπανδρεϊκού ΠΑΣΟΚ.</p>,\n",
              " <p title=\"Κείμενο (11)\"><strong>7.</strong> Ξαναζέστανε τη σούπα της κακόφημης «αλλαγής» που έγινε αστική εναλλαγή, επί 40 χρόνια σε βάρος του λαού.</p>,\n",
              " <p title=\"Κείμενο (12)\"><strong>8.</strong> Βγήκε «από τα δεξιά» στο ΠΑΣΟΚ του Ν. Ανδρουλάκη, δίνοντας «συγχωροχάρτι» στους Καραμανλήδες και στην πολιτική τους (υποψηφιότητες τύπου Αντώναρου, Παχατουρίδη για δήμαρχο στο Περιστέρι, δηλώσεις Αρη Σπηλιωτόπουλου κ.ά.).</p>,\n",
              " <p title=\"Κείμενο (13)\"><strong>9.</strong> Αναζήτησε ψήφους από τα ορφανά της Χρυσής Αυγής, ήρθε έτσι σε αντίθεση με τα πλατιά αντιφασιστικά αισθήματα του λαού.</p>,\n",
              " <p title=\"Κείμενο (14)\"><strong>10.</strong> Εβαλε, την παραμονή των εκλογών, το τελευταίο «αυτογκόλ» με τον χειρισμό της υπόθεσης Κατρούγκαλου, χωρίς να πει κουβέντα για τις 59 φοροαπαλλαγές στους εφοπλιστές και το αφορολόγητο της Εκκλησίας. Οσο για την περιβόητη, μυθοποιημένη και πολυπληθή «μεσαία τάξη», αυτή ροκανίζει τα δισ. ευρώ των «μη επιστρεπτέων» επιδοτήσεων και του Ταμείου Ανάκαμψης της Ε.Ε., απολαμβάνει διακομματική φορολογική ασυλία (δηλώνει εισόδημα κάτω από 10.000 ευρώ) και, επιπλέον, σκούζει για φορομπηξία!</p>,\n",
              " <p title=\"Κείμενο (16)\">Γι’ αυτό ψηφίζει χειροπόδαρα Ν.Δ. (ποσοστό 55%, 40 μονάδες διαφορά από τον ΣΥΡΙΖΑ)! Ολους τους φόρους (έμμεσους και άμεσους) τους πληρώνουν η εργατική τάξη, οι εργαζόμενοι και οι συνταξιούχοι, που απαιτούν δίκαιη και προοδευτική φορολογική πολιτική και όχι επιδόματα εξευτελισμού και ελεημοσύνης!</p>,\n",
              " <p title=\"Κείμενο (17)\"><em><strong>* Μέλος της Π.Ε. του ΝΑΡ Για την Κομμουνιστική Απελευθέρωση</strong></em></p>]"
            ]
          },
          "metadata": {},
          "execution_count": 19
        }
      ]
    },
    {
      "cell_type": "markdown",
      "source": [
        "Εμείς θέλουμε να πάρουμε το text από κάθε ```<p>``` tag και μετά να συνενώσουμε τα texts όλων των παραγράφων σε ένα text. Αυτό το κάνουμε ως εξής:"
      ],
      "metadata": {
        "id": "1455jxh5JWi7"
      }
    },
    {
      "cell_type": "code",
      "source": [
        "p_texts_list = []                      # δημιουργία κενής λίστας για να αποθηκεύσουμε το text κάθε παραγράφου\n",
        "paragraphs = article.find_all('p')     # λίστα με όλες τις παραγράφους\n",
        "for p in paragraphs:                   # για κάθε μια από τις παραγράφους στη λίστα\n",
        "  p_texts_list.append(p.text)          # πάρε το .text και πρόσθεσέ το στη λίστα με τα texts των παραγράφων\n",
        "full_text = ' '.join(p_texts_list)     # συνένωση των texts των παραγράφων\n",
        "full_text = \"\".join(full_text.splitlines())\n",
        "full_text"
      ],
      "metadata": {
        "colab": {
          "base_uri": "https://localhost:8080/",
          "height": 108
        },
        "id": "t-mJXevNHfaR",
        "outputId": "e341b504-18e3-410a-8080-74170f7e0d99"
      },
      "execution_count": null,
      "outputs": [
        {
          "output_type": "execute_result",
          "data": {
            "text/plain": [
              "'Η πολιτικά ακριβής ερμηνεία γι’ αυτή τη συντριβή είναι απαραίτητος όρος για την ταξική ανασυγκρότηση του εργατικού κινήματος, το μέλλον της Aριστεράς και, κυρίως, για την ανεξαρτησία της Επαναστατικής Aριστεράς. Τον Ιούλη του 2019, ο ΣΥΡΙΖΑ έχασε από τη Ν.Δ. με 8 μονάδες διαφορά, γιατί: α) Δυσφήμησε κάθε έννοια Αριστεράς, μετατρέποντας το μεγάλο λαϊκό ΟΧΙ, στο δημοψήφισμα του 2015, σε κατάπτυστο ΝΑΙ στον Σόιμπλε και στην Ε.Ε., β) έφερε το 3ο χειρότερο Μνημόνιο μέχρι το 2060 (το ψήφισαν 5 κόμματα ΣΥΡΙΖΑ - ΑΝ.ΕΛΛ. - Ποτάμι - Ν.Δ. - ΠΑΣΟΚ και 222 βουλευτές) και το ξεπούλημα όλης της δημόσιας περιουσίας για 99 χρόνια, μέσω του κακόφημου Υπερταμείου (π.χ. πήγε να πουλήσει το αεροδρόμιο «Ελ. Βενιζέλος» με 700 εκατ. ευρώ, αλλά η Ε.Ε. τον υποχρέωσε να το πουλήσει στο διπλάσιο 1,4 δισ. ευρώ), γ) με τη δεξιά κυβερνητική πολιτική του (2015-2019) κατήργησε στην πράξη τις διακρίσεις: μνημόνιο/αντιμνημόνιο, Δεξιά/Αριστερά, παλιό/νέο (μάζεψε όλη τη σαβούρα του παλιού - σάπιου ΠΑΣΟΚ), συλλογικό/ατομικό, εμείς/εγώ (έγινε κόμμα αστικό και αρχηγικό). Κατήργησε το λεγόμενο «ηθικό πλεονέκτημα» της Αριστεράς (έβγαλε ευρωβουλευτές τον γιο του Κόκκαλη και τον «εραστή» δυτικών και βελγικών προαστίων Αλέξη Γεωργούλη)! Παρ’ όλα αυτά, στις εκλογές του Ιούλη 2019, λεηλάτησε εκλογικά όλη την Αριστερά και τη μισή ΑΝΤΑΡΣΥΑ και, το κυριότερο, έφερε στην κυβέρνηση τον Μητσοτάκη με 40%! Γιατί τώρα, όμως, έχασε από τη Ν.Δ. με 21 μονάδες διαφορά; Γιατί σε όλα τα προηγούμενα, παρ’ όλο που μεσολάβησε μια 4ετία δολοφονικής πολιτικής της Ν.Δ. (αστυνομοκρατία, υποκλοπές, έγκλημα Τεμπών κ.ά.), προστέθηκαν λειτουργώντας πολλαπλασιαστικά και τα εξής: 1. Ασκησε συναινετική «μαϊμού» αντιπολίτευση στη Ν.Δ. (2019-2023). Στην πανδημία πρότεινε κοινή υπουργό Υγείας την κ. Α. Λινού, έλεγε «θα λογαριαστούμε μετά». Εβαλε στον «πάγο» τα κινήματα. 2. Εβαλε εκλογικό στόχο «να φύγει η Δεξιά», αλλά να μείνει η δεξιά πολιτική (Ε.Ε., ΝΑΤΟ, βάσεις, εξοπλισμοί κ.ά.). 3. Αποπολιτικοποίησε την αντιπαράθεση με το εκλογικό δίλημμα: Τσίπρας ή Μητσοτάκης. 4. Είχε αλλοπρόσαλλη εκλογική τακτική: από τη νίκη του ΣΥΡΙΖΑ, σε προοδευτική συγκυβέρνηση με ΠΑΣΟΚ, ΜέΡΑ25 και ανοχή ΚΚΕ, σε κυβέρνηση «ηττημένων» αν βγαίνουν τα κουκιά, κυβέρνηση ανοχής, κυβέρνηση ειδικού σκοπού (κάθαρσης για τις υποκλοπές). 5. Δυσφήμησε την έννοια της απλής αναλογικής με τον εκλογικό «κόφτη» του 3%, εκβιάζοντας τους ψηφοφόρους της Αριστεράς και γενικά των μικρών κομμάτων (θεώρησε ότι απλή αναλογική είναι μόνο η κατάργηση του μπόνους στη Ν.Δ.). 6. Εγινε κακέκτυπο - απομίμηση του παλιού παπανδρεϊκού ΠΑΣΟΚ. 7. Ξαναζέστανε τη σούπα της κακόφημης «αλλαγής» που έγινε αστική εναλλαγή, επί 40 χρόνια σε βάρος του λαού. 8. Βγήκε «από τα δεξιά» στο ΠΑΣΟΚ του Ν. Ανδρουλάκη, δίνοντας «συγχωροχάρτι» στους Καραμανλήδες και στην πολιτική τους (υποψηφιότητες τύπου Αντώναρου, Παχατουρίδη για δήμαρχο στο Περιστέρι, δηλώσεις Αρη Σπηλιωτόπουλου κ.ά.). 9. Αναζήτησε ψήφους από τα ορφανά της Χρυσής Αυγής, ήρθε έτσι σε αντίθεση με τα πλατιά αντιφασιστικά αισθήματα του λαού. 10. Εβαλε, την παραμονή των εκλογών, το τελευταίο «αυτογκόλ» με τον χειρισμό της υπόθεσης Κατρούγκαλου, χωρίς να πει κουβέντα για τις 59 φοροαπαλλαγές στους εφοπλιστές και το αφορολόγητο της Εκκλησίας. Οσο για την περιβόητη, μυθοποιημένη και πολυπληθή «μεσαία τάξη», αυτή ροκανίζει τα δισ. ευρώ των «μη επιστρεπτέων» επιδοτήσεων και του Ταμείου Ανάκαμψης της Ε.Ε., απολαμβάνει διακομματική φορολογική ασυλία (δηλώνει εισόδημα κάτω από 10.000 ευρώ) και, επιπλέον, σκούζει για φορομπηξία! Γι’ αυτό ψηφίζει χειροπόδαρα Ν.Δ. (ποσοστό 55%, 40 μονάδες διαφορά από τον ΣΥΡΙΖΑ)! Ολους τους φόρους (έμμεσους και άμεσους) τους πληρώνουν η εργατική τάξη, οι εργαζόμενοι και οι συνταξιούχοι, που απαιτούν δίκαιη και προοδευτική φορολογική πολιτική και όχι επιδόματα εξευτελισμού και ελεημοσύνης! * Μέλος της Π.Ε. του ΝΑΡ Για την Κομμουνιστική Απελευθέρωση'"
            ],
            "application/vnd.google.colaboratory.intrinsic+json": {
              "type": "string"
            }
          },
          "metadata": {},
          "execution_count": 20
        }
      ]
    },
    {
      "cell_type": "markdown",
      "source": [
        "Είμαστε έτοιμοι να μαζέψουμε όλα τα άρθρα.\n",
        "\n",
        "Αλλά, εκτός από τον τίτλο, την κατηγορία, την ημερομηνία, τον συντάκτη και το πλήρες κείμενο, θα θέλαμε στο dataframe που θα φτιάξουμε να βάλουμε και το όνομα του site καθώς και το url του."
      ],
      "metadata": {
        "id": "TSAfjWt0QcMQ"
      }
    },
    {
      "cell_type": "markdown",
      "source": [
        "**Url**\n",
        "\n",
        "Αφού τα links των άρθρων τα έχουμε στο dataframe με τα teaser articles, από το οποίο θα τα παίρνουμε για να κατεβάζουμε ένα ένα τα άρθρα, θα παίρνουμε από εκεί το link."
      ],
      "metadata": {
        "id": "sBtVL_71NR4E"
      }
    },
    {
      "cell_type": "markdown",
      "source": [
        "**Website**\n",
        "\n",
        "Το όνομα του site είναι fix για όλα τα άρθρα και θα το γράφουμε κι αυτό κατευθείαν στο λεξικό του κάθε άρθρου."
      ],
      "metadata": {
        "id": "SwADGF7eQSZq"
      }
    },
    {
      "cell_type": "markdown",
      "source": [
        "\n",
        "\n",
        "---\n",
        "\n"
      ],
      "metadata": {
        "id": "CjJ5_Ha7sCwT"
      }
    },
    {
      "cell_type": "markdown",
      "source": [
        "## **ΒΗΜΑ 6**: Φέρτε σε ένα dataframe το csv των teaser άρθρων που αποθηκεύσατε προηγουμένως."
      ],
      "metadata": {
        "id": "0ZHAFZeXk7H6"
      }
    },
    {
      "cell_type": "markdown",
      "source": [
        "Φέρνουμε σε dataframe το csv που σώσαμε με τα urls των άρθρων που συλλέξαμε από τις σελίδες των teaser articles."
      ],
      "metadata": {
        "id": "-6vrRNEEUVDD"
      }
    },
    {
      "cell_type": "code",
      "source": [
        "efsyn_teasers_df = pd.read_csv('/content/drive/MyDrive/2023/teaching python/Lesson 8/efsyn_teasers_ekloges_2023_28-29_5_2023.csv')\n",
        "efsyn_teasers_df.head()"
      ],
      "metadata": {
        "colab": {
          "base_uri": "https://localhost:8080/",
          "height": 206
        },
        "id": "GyvCC_eiUz7f",
        "outputId": "293dd694-538a-4cce-91c3-c351f5e069fe"
      },
      "execution_count": null,
      "outputs": [
        {
          "output_type": "execute_result",
          "data": {
            "text/plain": [
              "                                                 url\n",
              "0  https://www.efsyn.gr/stiles/apopseis/392002_o-...\n",
              "1  https://www.efsyn.gr/stiles/apopseis/392005_om...\n",
              "2  https://www.efsyn.gr/politiki/kybernisi/391977...\n",
              "3  https://www.efsyn.gr/politiki/kybernisi/391970...\n",
              "4  https://www.efsyn.gr/politiki/antipoliteysi/39..."
            ],
            "text/html": [
              "\n",
              "  <div id=\"df-39b95d93-a836-4333-bdca-ad23458cce38\">\n",
              "    <div class=\"colab-df-container\">\n",
              "      <div>\n",
              "<style scoped>\n",
              "    .dataframe tbody tr th:only-of-type {\n",
              "        vertical-align: middle;\n",
              "    }\n",
              "\n",
              "    .dataframe tbody tr th {\n",
              "        vertical-align: top;\n",
              "    }\n",
              "\n",
              "    .dataframe thead th {\n",
              "        text-align: right;\n",
              "    }\n",
              "</style>\n",
              "<table border=\"1\" class=\"dataframe\">\n",
              "  <thead>\n",
              "    <tr style=\"text-align: right;\">\n",
              "      <th></th>\n",
              "      <th>url</th>\n",
              "    </tr>\n",
              "  </thead>\n",
              "  <tbody>\n",
              "    <tr>\n",
              "      <th>0</th>\n",
              "      <td>https://www.efsyn.gr/stiles/apopseis/392002_o-...</td>\n",
              "    </tr>\n",
              "    <tr>\n",
              "      <th>1</th>\n",
              "      <td>https://www.efsyn.gr/stiles/apopseis/392005_om...</td>\n",
              "    </tr>\n",
              "    <tr>\n",
              "      <th>2</th>\n",
              "      <td>https://www.efsyn.gr/politiki/kybernisi/391977...</td>\n",
              "    </tr>\n",
              "    <tr>\n",
              "      <th>3</th>\n",
              "      <td>https://www.efsyn.gr/politiki/kybernisi/391970...</td>\n",
              "    </tr>\n",
              "    <tr>\n",
              "      <th>4</th>\n",
              "      <td>https://www.efsyn.gr/politiki/antipoliteysi/39...</td>\n",
              "    </tr>\n",
              "  </tbody>\n",
              "</table>\n",
              "</div>\n",
              "      <button class=\"colab-df-convert\" onclick=\"convertToInteractive('df-39b95d93-a836-4333-bdca-ad23458cce38')\"\n",
              "              title=\"Convert this dataframe to an interactive table.\"\n",
              "              style=\"display:none;\">\n",
              "        \n",
              "  <svg xmlns=\"http://www.w3.org/2000/svg\" height=\"24px\"viewBox=\"0 0 24 24\"\n",
              "       width=\"24px\">\n",
              "    <path d=\"M0 0h24v24H0V0z\" fill=\"none\"/>\n",
              "    <path d=\"M18.56 5.44l.94 2.06.94-2.06 2.06-.94-2.06-.94-.94-2.06-.94 2.06-2.06.94zm-11 1L8.5 8.5l.94-2.06 2.06-.94-2.06-.94L8.5 2.5l-.94 2.06-2.06.94zm10 10l.94 2.06.94-2.06 2.06-.94-2.06-.94-.94-2.06-.94 2.06-2.06.94z\"/><path d=\"M17.41 7.96l-1.37-1.37c-.4-.4-.92-.59-1.43-.59-.52 0-1.04.2-1.43.59L10.3 9.45l-7.72 7.72c-.78.78-.78 2.05 0 2.83L4 21.41c.39.39.9.59 1.41.59.51 0 1.02-.2 1.41-.59l7.78-7.78 2.81-2.81c.8-.78.8-2.07 0-2.86zM5.41 20L4 18.59l7.72-7.72 1.47 1.35L5.41 20z\"/>\n",
              "  </svg>\n",
              "      </button>\n",
              "      \n",
              "  <style>\n",
              "    .colab-df-container {\n",
              "      display:flex;\n",
              "      flex-wrap:wrap;\n",
              "      gap: 12px;\n",
              "    }\n",
              "\n",
              "    .colab-df-convert {\n",
              "      background-color: #E8F0FE;\n",
              "      border: none;\n",
              "      border-radius: 50%;\n",
              "      cursor: pointer;\n",
              "      display: none;\n",
              "      fill: #1967D2;\n",
              "      height: 32px;\n",
              "      padding: 0 0 0 0;\n",
              "      width: 32px;\n",
              "    }\n",
              "\n",
              "    .colab-df-convert:hover {\n",
              "      background-color: #E2EBFA;\n",
              "      box-shadow: 0px 1px 2px rgba(60, 64, 67, 0.3), 0px 1px 3px 1px rgba(60, 64, 67, 0.15);\n",
              "      fill: #174EA6;\n",
              "    }\n",
              "\n",
              "    [theme=dark] .colab-df-convert {\n",
              "      background-color: #3B4455;\n",
              "      fill: #D2E3FC;\n",
              "    }\n",
              "\n",
              "    [theme=dark] .colab-df-convert:hover {\n",
              "      background-color: #434B5C;\n",
              "      box-shadow: 0px 1px 3px 1px rgba(0, 0, 0, 0.15);\n",
              "      filter: drop-shadow(0px 1px 2px rgba(0, 0, 0, 0.3));\n",
              "      fill: #FFFFFF;\n",
              "    }\n",
              "  </style>\n",
              "\n",
              "      <script>\n",
              "        const buttonEl =\n",
              "          document.querySelector('#df-39b95d93-a836-4333-bdca-ad23458cce38 button.colab-df-convert');\n",
              "        buttonEl.style.display =\n",
              "          google.colab.kernel.accessAllowed ? 'block' : 'none';\n",
              "\n",
              "        async function convertToInteractive(key) {\n",
              "          const element = document.querySelector('#df-39b95d93-a836-4333-bdca-ad23458cce38');\n",
              "          const dataTable =\n",
              "            await google.colab.kernel.invokeFunction('convertToInteractive',\n",
              "                                                     [key], {});\n",
              "          if (!dataTable) return;\n",
              "\n",
              "          const docLinkHtml = 'Like what you see? Visit the ' +\n",
              "            '<a target=\"_blank\" href=https://colab.research.google.com/notebooks/data_table.ipynb>data table notebook</a>'\n",
              "            + ' to learn more about interactive tables.';\n",
              "          element.innerHTML = '';\n",
              "          dataTable['output_type'] = 'display_data';\n",
              "          await google.colab.output.renderOutput(dataTable, element);\n",
              "          const docLink = document.createElement('div');\n",
              "          docLink.innerHTML = docLinkHtml;\n",
              "          element.appendChild(docLink);\n",
              "        }\n",
              "      </script>\n",
              "    </div>\n",
              "  </div>\n",
              "  "
            ]
          },
          "metadata": {},
          "execution_count": 70
        }
      ]
    },
    {
      "cell_type": "markdown",
      "source": [
        "\n",
        "\n",
        "---\n",
        "\n"
      ],
      "metadata": {
        "id": "AXcVFy-ksBSZ"
      }
    },
    {
      "cell_type": "markdown",
      "source": [
        "\n",
        "\n",
        "## **ΒΗΜΑ 7**: Φτιάξτε μια for loop που θα λουπάρει σε όλα τα links των teaser άρθρων, και θα τρέχει για κάθε link, τον scraper της σελίδας του άρθρου. Φτιάξτε το dataframe με τα full-articles και αποθηκεύστε το σαν csv στο gdrive σας (π.χ. efsyn_full_articles_28-30_5_2023.csv).\n"
      ],
      "metadata": {
        "id": "fNP9CRT2krPJ"
      }
    },
    {
      "cell_type": "markdown",
      "source": [
        "Τα urls των άρθρων βρίσκονται στη στήλη url του dataframe efsyn_teasers_df."
      ],
      "metadata": {
        "id": "ghkxbn_dT7uX"
      }
    },
    {
      "cell_type": "markdown",
      "source": [
        "### **Note**:\n",
        "\n",
        "Όπως και στον κώδικα της λούπας για τα teasers, δώστε κι εδώ τις δικές σας τιμές στο **website**, το **article**, το **title**, το **section**, τον **author**, το **time** και το **full_text** (αν χρειάζεται - στις περισσότερες περιπτώσεις θα δουλέψει ο ίδιος κώδικας)"
      ],
      "metadata": {
        "id": "lDNtKXmeWTkm"
      }
    },
    {
      "cell_type": "code",
      "source": [
        "full_articles_list = []\n",
        "\n",
        "for article_url in efsyn_teasers_df['url']:\n",
        "  response = requests.get(article_url)\n",
        "  doc = BeautifulSoup(response.text, 'html.parser')\n",
        "\n",
        "  #*** ΔΩΣΤΕ ΤΗ ΔΙΚΗ ΣΑΣ ΤΙΜΗ στo article που βρήκατε παραπάνω***\n",
        "  article = doc.find('section', {'class': 'article__main'})\n",
        "\n",
        "  full_article_dict = {}\n",
        "  \n",
        "  # website\n",
        "  full_article_dict['site'] = \"efsyn.gr\"\n",
        "  \n",
        "  # url\n",
        "  full_article_dict['url'] = article_url\n",
        "\n",
        "  #section\n",
        "  try:\n",
        "    section = doc.find('a', {'class': 'article__category'}).text\n",
        "    full_article_dict['section'] = section\n",
        "  except:\n",
        "    full_article_dict['section'] = ''\n",
        "    pass\n",
        "\n",
        "  #title\n",
        "  try:\n",
        "    title = title = article.find('h1').text\n",
        "    full_article_dict['title'] = title\n",
        "  except:\n",
        "    full_article_dict['title'] = '' \n",
        "    pass\n",
        "\n",
        "  # date\n",
        "  try:\n",
        "    date = article.find('time')['datetime']  \n",
        "    full_article_dict['date'] = date\n",
        "  except:\n",
        "    full_article_dict['date'] = ''\n",
        "    pass\n",
        "\n",
        "  # author\n",
        "  try:\n",
        "    author = article.find('div', {'class', \"article__author\"}).span.text\n",
        "    full_article_dict['author'] = author\n",
        "  except:\n",
        "    full_article_dict['author'] = ''\n",
        "    pass\n",
        "\n",
        "  # full_text\n",
        "  try:\n",
        "    p_texts_list = []                      \n",
        "    paragraphs = article.find_all('p')    \n",
        "    for p in paragraphs:                  \n",
        "      p_texts_list.append(p.text)      \n",
        "    full_text = ' '.join(p_texts_list)  \n",
        "    full_text = \"\".join(full_text.splitlines())\n",
        "    full_article_dict['full_text'] = full_text  \n",
        "  except:\n",
        "    full_article_dict['full_text'] = '' \n",
        "    pass\n",
        "\n",
        "  full_articles_list.append(full_article_dict)\n",
        "  time.sleep(1)"
      ],
      "metadata": {
        "id": "yx_mk82sHeT4"
      },
      "execution_count": null,
      "outputs": []
    },
    {
      "cell_type": "code",
      "source": [
        "efsyn_full_articles_df = pd.DataFrame(full_articles_list)\n",
        "efsyn_full_articles_df"
      ],
      "metadata": {
        "colab": {
          "base_uri": "https://localhost:8080/",
          "height": 424
        },
        "id": "7ydaXnzteg6q",
        "outputId": "3f35f62c-61fc-4579-983b-b95799a02b5e"
      },
      "execution_count": null,
      "outputs": [
        {
          "output_type": "execute_result",
          "data": {
            "text/plain": [
              "        site                                                url  \\\n",
              "0   efsyn.gr  https://www.efsyn.gr/stiles/apopseis/392002_o-...   \n",
              "1   efsyn.gr  https://www.efsyn.gr/stiles/apopseis/392005_om...   \n",
              "2   efsyn.gr  https://www.efsyn.gr/politiki/kybernisi/391977...   \n",
              "3   efsyn.gr  https://www.efsyn.gr/politiki/kybernisi/391970...   \n",
              "4   efsyn.gr  https://www.efsyn.gr/politiki/antipoliteysi/39...   \n",
              "..       ...                                                ...   \n",
              "67  efsyn.gr  https://www.efsyn.gr/politiki/antipoliteysi/39...   \n",
              "68  efsyn.gr  https://www.efsyn.gr/politiki/antipoliteysi/39...   \n",
              "69  efsyn.gr  https://www.efsyn.gr/politiki/antipoliteysi/39...   \n",
              "70  efsyn.gr  https://www.efsyn.gr/politiki/391587_tetraetia...   \n",
              "71  efsyn.gr  https://www.efsyn.gr/politiki/boyli/391585_liv...   \n",
              "\n",
              "          section                                              title  \\\n",
              "0         ΑΠΟΨΕΙΣ                            Ο εξατομικευμένος φόβος   \n",
              "1         ΑΠΟΨΕΙΣ                                     Ομως κατέβηκε…   \n",
              "2       ΚΥΒΕΡΝΗΣΗ  Με όπλο την «φορο – τρομοκρατία» στις εκλογές ...   \n",
              "3       ΚΥΒΕΡΝΗΣΗ  Από υποσχέσεις άλλο τίποτα ο Μητσοτάκης στον Μ...   \n",
              "4   ΑΝΤΙΠΟΛΙΤΕΥΣΗ  Με εκδηλώσεις ξεκινά η πολιτική εξόρμηση της Α...   \n",
              "..            ...                                                ...   \n",
              "67  ΑΝΤΙΠΟΛΙΤΕΥΣΗ  Σβίγκου: «Θα διεκδικήσουμε κάθε πιθανότητα για...   \n",
              "68  ΑΝΤΙΠΟΛΙΤΕΥΣΗ  Τα μηνύματα Κουτσούμπα στην «πρεμιέρα» της Κ.Ο...   \n",
              "69  ΑΝΤΙΠΟΛΙΤΕΥΣΗ  «Από πόρτα σε πόρτα» το ΜέΡΑ25 για τις κρίσιμε...   \n",
              "70       ΠΟΛΙΤΙΚΗ  Τετραετία «πολύ μεγάλων αλλαγών» ετοιμάζει ο Μ...   \n",
              "71          ΒΟΥΛΗ    Live η ορκωμοσία για τη «Βουλή της μιας ημέρας»   \n",
              "\n",
              "                date                           author  \\\n",
              "0   2023-05-31 16:00             Δημοσθένης Δαγκλής*    \n",
              "1   2023-05-31 16:00              Ελένη Καρασαββίδου    \n",
              "2   2023-05-31 14:43   Επιμέλεια: Χρήστος Καλλιμάνης    \n",
              "3   2023-05-31 14:03                        efsyn.gr    \n",
              "4   2023-05-31 13:00                        efsyn.gr    \n",
              "..               ...                              ...   \n",
              "67  2023-05-28 20:37                        efsyn.gr    \n",
              "68  2023-05-28 19:40                        efsyn.gr    \n",
              "69  2023-05-28 19:36                        efsyn.gr    \n",
              "70  2023-05-28 18:22                        efsyn.gr    \n",
              "71  2023-05-28 18:14                        efsyn.gr    \n",
              "\n",
              "                                            full_text  \n",
              "0   Ακολουθεί αποσπασματική και συνοπτική συμμετοχ...  \n",
              "1   Κι όμως! Παραπάνω από τα μισά μέτρα που θεωρού...  \n",
              "2   Σύμπτωση επαναλαμβανόμενη παύει να είναι σύμπτ...  \n",
              "3   Πιστός στο γνωστό αφήγημα περί σταθερής κυβέρν...  \n",
              "4   Στη Θεσσαλονίκη, Πέμπτη 1/6, 7.30μμ ΕΔΟΘ (Πρ. ...  \n",
              "..                                                ...  \n",
              "67  Την πρόθεση να διεκδικήσει ο ΣΥΡΙΖΑ-ΠΣ κάθε ψή...  \n",
              "68  Κάλεσμα περαιτέρω ενίσχυσης του ΚΚΕ στις εκλογ...  \n",
              "69  Λίγο κάτω από το όριο του 3% (που δίνει παρουσ...  \n",
              "70  Ο πρόεδρος της Νέας Δημοκρατίας δεν έκρυψε τη ...  \n",
              "71  Ξεκίνησαν οι διαδικασίες για την σύγκλιση της ...  \n",
              "\n",
              "[72 rows x 7 columns]"
            ],
            "text/html": [
              "\n",
              "  <div id=\"df-4c234e93-480a-4ab1-a568-49448b21bf47\">\n",
              "    <div class=\"colab-df-container\">\n",
              "      <div>\n",
              "<style scoped>\n",
              "    .dataframe tbody tr th:only-of-type {\n",
              "        vertical-align: middle;\n",
              "    }\n",
              "\n",
              "    .dataframe tbody tr th {\n",
              "        vertical-align: top;\n",
              "    }\n",
              "\n",
              "    .dataframe thead th {\n",
              "        text-align: right;\n",
              "    }\n",
              "</style>\n",
              "<table border=\"1\" class=\"dataframe\">\n",
              "  <thead>\n",
              "    <tr style=\"text-align: right;\">\n",
              "      <th></th>\n",
              "      <th>site</th>\n",
              "      <th>url</th>\n",
              "      <th>section</th>\n",
              "      <th>title</th>\n",
              "      <th>date</th>\n",
              "      <th>author</th>\n",
              "      <th>full_text</th>\n",
              "    </tr>\n",
              "  </thead>\n",
              "  <tbody>\n",
              "    <tr>\n",
              "      <th>0</th>\n",
              "      <td>efsyn.gr</td>\n",
              "      <td>https://www.efsyn.gr/stiles/apopseis/392002_o-...</td>\n",
              "      <td>ΑΠΟΨΕΙΣ</td>\n",
              "      <td>Ο εξατομικευμένος φόβος</td>\n",
              "      <td>2023-05-31 16:00</td>\n",
              "      <td>Δημοσθένης Δαγκλής*</td>\n",
              "      <td>Ακολουθεί αποσπασματική και συνοπτική συμμετοχ...</td>\n",
              "    </tr>\n",
              "    <tr>\n",
              "      <th>1</th>\n",
              "      <td>efsyn.gr</td>\n",
              "      <td>https://www.efsyn.gr/stiles/apopseis/392005_om...</td>\n",
              "      <td>ΑΠΟΨΕΙΣ</td>\n",
              "      <td>Ομως κατέβηκε…</td>\n",
              "      <td>2023-05-31 16:00</td>\n",
              "      <td>Ελένη Καρασαββίδου</td>\n",
              "      <td>Κι όμως! Παραπάνω από τα μισά μέτρα που θεωρού...</td>\n",
              "    </tr>\n",
              "    <tr>\n",
              "      <th>2</th>\n",
              "      <td>efsyn.gr</td>\n",
              "      <td>https://www.efsyn.gr/politiki/kybernisi/391977...</td>\n",
              "      <td>ΚΥΒΕΡΝΗΣΗ</td>\n",
              "      <td>Με όπλο την «φορο – τρομοκρατία» στις εκλογές ...</td>\n",
              "      <td>2023-05-31 14:43</td>\n",
              "      <td>Επιμέλεια: Χρήστος Καλλιμάνης</td>\n",
              "      <td>Σύμπτωση επαναλαμβανόμενη παύει να είναι σύμπτ...</td>\n",
              "    </tr>\n",
              "    <tr>\n",
              "      <th>3</th>\n",
              "      <td>efsyn.gr</td>\n",
              "      <td>https://www.efsyn.gr/politiki/kybernisi/391970...</td>\n",
              "      <td>ΚΥΒΕΡΝΗΣΗ</td>\n",
              "      <td>Από υποσχέσεις άλλο τίποτα ο Μητσοτάκης στον Μ...</td>\n",
              "      <td>2023-05-31 14:03</td>\n",
              "      <td>efsyn.gr</td>\n",
              "      <td>Πιστός στο γνωστό αφήγημα περί σταθερής κυβέρν...</td>\n",
              "    </tr>\n",
              "    <tr>\n",
              "      <th>4</th>\n",
              "      <td>efsyn.gr</td>\n",
              "      <td>https://www.efsyn.gr/politiki/antipoliteysi/39...</td>\n",
              "      <td>ΑΝΤΙΠΟΛΙΤΕΥΣΗ</td>\n",
              "      <td>Με εκδηλώσεις ξεκινά η πολιτική εξόρμηση της Α...</td>\n",
              "      <td>2023-05-31 13:00</td>\n",
              "      <td>efsyn.gr</td>\n",
              "      <td>Στη Θεσσαλονίκη, Πέμπτη 1/6, 7.30μμ ΕΔΟΘ (Πρ. ...</td>\n",
              "    </tr>\n",
              "    <tr>\n",
              "      <th>...</th>\n",
              "      <td>...</td>\n",
              "      <td>...</td>\n",
              "      <td>...</td>\n",
              "      <td>...</td>\n",
              "      <td>...</td>\n",
              "      <td>...</td>\n",
              "      <td>...</td>\n",
              "    </tr>\n",
              "    <tr>\n",
              "      <th>67</th>\n",
              "      <td>efsyn.gr</td>\n",
              "      <td>https://www.efsyn.gr/politiki/antipoliteysi/39...</td>\n",
              "      <td>ΑΝΤΙΠΟΛΙΤΕΥΣΗ</td>\n",
              "      <td>Σβίγκου: «Θα διεκδικήσουμε κάθε πιθανότητα για...</td>\n",
              "      <td>2023-05-28 20:37</td>\n",
              "      <td>efsyn.gr</td>\n",
              "      <td>Την πρόθεση να διεκδικήσει ο ΣΥΡΙΖΑ-ΠΣ κάθε ψή...</td>\n",
              "    </tr>\n",
              "    <tr>\n",
              "      <th>68</th>\n",
              "      <td>efsyn.gr</td>\n",
              "      <td>https://www.efsyn.gr/politiki/antipoliteysi/39...</td>\n",
              "      <td>ΑΝΤΙΠΟΛΙΤΕΥΣΗ</td>\n",
              "      <td>Τα μηνύματα Κουτσούμπα στην «πρεμιέρα» της Κ.Ο...</td>\n",
              "      <td>2023-05-28 19:40</td>\n",
              "      <td>efsyn.gr</td>\n",
              "      <td>Κάλεσμα περαιτέρω ενίσχυσης του ΚΚΕ στις εκλογ...</td>\n",
              "    </tr>\n",
              "    <tr>\n",
              "      <th>69</th>\n",
              "      <td>efsyn.gr</td>\n",
              "      <td>https://www.efsyn.gr/politiki/antipoliteysi/39...</td>\n",
              "      <td>ΑΝΤΙΠΟΛΙΤΕΥΣΗ</td>\n",
              "      <td>«Από πόρτα σε πόρτα» το ΜέΡΑ25 για τις κρίσιμε...</td>\n",
              "      <td>2023-05-28 19:36</td>\n",
              "      <td>efsyn.gr</td>\n",
              "      <td>Λίγο κάτω από το όριο του 3% (που δίνει παρουσ...</td>\n",
              "    </tr>\n",
              "    <tr>\n",
              "      <th>70</th>\n",
              "      <td>efsyn.gr</td>\n",
              "      <td>https://www.efsyn.gr/politiki/391587_tetraetia...</td>\n",
              "      <td>ΠΟΛΙΤΙΚΗ</td>\n",
              "      <td>Τετραετία «πολύ μεγάλων αλλαγών» ετοιμάζει ο Μ...</td>\n",
              "      <td>2023-05-28 18:22</td>\n",
              "      <td>efsyn.gr</td>\n",
              "      <td>Ο πρόεδρος της Νέας Δημοκρατίας δεν έκρυψε τη ...</td>\n",
              "    </tr>\n",
              "    <tr>\n",
              "      <th>71</th>\n",
              "      <td>efsyn.gr</td>\n",
              "      <td>https://www.efsyn.gr/politiki/boyli/391585_liv...</td>\n",
              "      <td>ΒΟΥΛΗ</td>\n",
              "      <td>Live η ορκωμοσία για τη «Βουλή της μιας ημέρας»</td>\n",
              "      <td>2023-05-28 18:14</td>\n",
              "      <td>efsyn.gr</td>\n",
              "      <td>Ξεκίνησαν οι διαδικασίες για την σύγκλιση της ...</td>\n",
              "    </tr>\n",
              "  </tbody>\n",
              "</table>\n",
              "<p>72 rows × 7 columns</p>\n",
              "</div>\n",
              "      <button class=\"colab-df-convert\" onclick=\"convertToInteractive('df-4c234e93-480a-4ab1-a568-49448b21bf47')\"\n",
              "              title=\"Convert this dataframe to an interactive table.\"\n",
              "              style=\"display:none;\">\n",
              "        \n",
              "  <svg xmlns=\"http://www.w3.org/2000/svg\" height=\"24px\"viewBox=\"0 0 24 24\"\n",
              "       width=\"24px\">\n",
              "    <path d=\"M0 0h24v24H0V0z\" fill=\"none\"/>\n",
              "    <path d=\"M18.56 5.44l.94 2.06.94-2.06 2.06-.94-2.06-.94-.94-2.06-.94 2.06-2.06.94zm-11 1L8.5 8.5l.94-2.06 2.06-.94-2.06-.94L8.5 2.5l-.94 2.06-2.06.94zm10 10l.94 2.06.94-2.06 2.06-.94-2.06-.94-.94-2.06-.94 2.06-2.06.94z\"/><path d=\"M17.41 7.96l-1.37-1.37c-.4-.4-.92-.59-1.43-.59-.52 0-1.04.2-1.43.59L10.3 9.45l-7.72 7.72c-.78.78-.78 2.05 0 2.83L4 21.41c.39.39.9.59 1.41.59.51 0 1.02-.2 1.41-.59l7.78-7.78 2.81-2.81c.8-.78.8-2.07 0-2.86zM5.41 20L4 18.59l7.72-7.72 1.47 1.35L5.41 20z\"/>\n",
              "  </svg>\n",
              "      </button>\n",
              "      \n",
              "  <style>\n",
              "    .colab-df-container {\n",
              "      display:flex;\n",
              "      flex-wrap:wrap;\n",
              "      gap: 12px;\n",
              "    }\n",
              "\n",
              "    .colab-df-convert {\n",
              "      background-color: #E8F0FE;\n",
              "      border: none;\n",
              "      border-radius: 50%;\n",
              "      cursor: pointer;\n",
              "      display: none;\n",
              "      fill: #1967D2;\n",
              "      height: 32px;\n",
              "      padding: 0 0 0 0;\n",
              "      width: 32px;\n",
              "    }\n",
              "\n",
              "    .colab-df-convert:hover {\n",
              "      background-color: #E2EBFA;\n",
              "      box-shadow: 0px 1px 2px rgba(60, 64, 67, 0.3), 0px 1px 3px 1px rgba(60, 64, 67, 0.15);\n",
              "      fill: #174EA6;\n",
              "    }\n",
              "\n",
              "    [theme=dark] .colab-df-convert {\n",
              "      background-color: #3B4455;\n",
              "      fill: #D2E3FC;\n",
              "    }\n",
              "\n",
              "    [theme=dark] .colab-df-convert:hover {\n",
              "      background-color: #434B5C;\n",
              "      box-shadow: 0px 1px 3px 1px rgba(0, 0, 0, 0.15);\n",
              "      filter: drop-shadow(0px 1px 2px rgba(0, 0, 0, 0.3));\n",
              "      fill: #FFFFFF;\n",
              "    }\n",
              "  </style>\n",
              "\n",
              "      <script>\n",
              "        const buttonEl =\n",
              "          document.querySelector('#df-4c234e93-480a-4ab1-a568-49448b21bf47 button.colab-df-convert');\n",
              "        buttonEl.style.display =\n",
              "          google.colab.kernel.accessAllowed ? 'block' : 'none';\n",
              "\n",
              "        async function convertToInteractive(key) {\n",
              "          const element = document.querySelector('#df-4c234e93-480a-4ab1-a568-49448b21bf47');\n",
              "          const dataTable =\n",
              "            await google.colab.kernel.invokeFunction('convertToInteractive',\n",
              "                                                     [key], {});\n",
              "          if (!dataTable) return;\n",
              "\n",
              "          const docLinkHtml = 'Like what you see? Visit the ' +\n",
              "            '<a target=\"_blank\" href=https://colab.research.google.com/notebooks/data_table.ipynb>data table notebook</a>'\n",
              "            + ' to learn more about interactive tables.';\n",
              "          element.innerHTML = '';\n",
              "          dataTable['output_type'] = 'display_data';\n",
              "          await google.colab.output.renderOutput(dataTable, element);\n",
              "          const docLink = document.createElement('div');\n",
              "          docLink.innerHTML = docLinkHtml;\n",
              "          element.appendChild(docLink);\n",
              "        }\n",
              "      </script>\n",
              "    </div>\n",
              "  </div>\n",
              "  "
            ]
          },
          "metadata": {},
          "execution_count": 22
        }
      ]
    },
    {
      "cell_type": "code",
      "source": [
        "efsyn_full_articles_df.to_csv('/content/drive/MyDrive/Colab Notebooks/efsyn_full_articles_ekloges_2023_28-29_5_2023.csv', index=False)"
      ],
      "metadata": {
        "id": "_FpeGh6Ai-Px"
      },
      "execution_count": null,
      "outputs": []
    },
    {
      "cell_type": "markdown",
      "source": [
        "\n",
        "\n",
        "---\n",
        "\n"
      ],
      "metadata": {
        "id": "ALKXEwSqi7vo"
      }
    },
    {
      "cell_type": "markdown",
      "source": [
        "\n",
        "## **ΒΗΜΑ 8**: Δείτε τα δεδομένα σας και καθαρίστε τα (με replace) αν χρειάζεται."
      ],
      "metadata": {
        "id": "1X-_fnA4l3NI"
      }
    },
    {
      "cell_type": "code",
      "source": [
        "efsyn_full_articles_df.loc[0, 'full_text']"
      ],
      "metadata": {
        "colab": {
          "base_uri": "https://localhost:8080/",
          "height": 269
        },
        "id": "CKu_qvSsegMH",
        "outputId": "f6a72366-60b7-4c27-e3e0-37c203f472eb"
      },
      "execution_count": null,
      "outputs": [
        {
          "output_type": "execute_result",
          "data": {
            "text/plain": [
              "'Ακολουθεί αποσπασματική και συνοπτική συμμετοχή στον πληθωρισμό απόψεων και σκέψεων για το εκλογικό αποτέλεσμα της 21ης Μαΐου. Καθοριστική εξηγητική συνισταμένη είναι «ο φόβος» που, ως γνωστόν, εξουδετερώνει και την οργή. Φόβος που εξειδικεύεται και εξατομικεύεται σε μυριάδες περιπτώσεις. Φόβος που πηγάζει από αντίστοιχες καταστάσεις επιδείνωσης των υλικών συνθηκών επι- και δια-βίωσης των πολλών (εργασία, ακρίβεια, υγεία, παιδεία κ.λπ.), ενώ στα εξωτερικά προέρχεται από τις διεθνείς προκλήσεις που σε εμάς είναι κυρίως τα ελληνοτουρκικά. Φόβος που εύκολα οδηγεί σε (α)πολίτικο ραγιαδισμό, όπου «Τούρκοι» είναι σήμερα οι πλουτοκράτες και το άτομο υιοθετεί με σημαία τη «σταθερότητα» έναν καταστροφικό ρεαλισμό. Το εφησυχαστικό αφήγημα της κυρίαρχης τάξης, δηλαδή της κυβέρνησης, με τα ψίχουλα, επιδόματα κ.λπ. από τη μια μεριά και από την άλλη με τους φράχτες, τις φρεγάτες, τα Ραφάλ κ.λπ., περνάει χωρίς πολλή σκέψη. Ο εξατομικευμένος φόβος βασίζεται βέβαια στον ατομικισμό (individualism) που έχει καθιερωθεί παντού διεθνώς. Η πάντα γενικόλογη επίκληση δημοκρατίας και δικαιοσύνης μπορεί να δονεί μεγάλες συγκεντρώσεις και ολόμεστα στάδια, αλλά αδυνατεί να εσωτερικευτεί από το άτομο ως άξια αντίπαλος αυτού του φόβου. Τα «φοιτητικά γρασίδια» δεν επαρκούν. Η έλλειψη επίσης ουσιαστικού πνεύματος κομματικής συλλογικότητας, πολλώ δε μάλλον… συντροφικότητας, αλλά και αυτό που επισημαίνεται από πολλούς ως απουσία «κοινωνικής γείωσης» είναι καταλυτικά. Η αποτελεσματική γείωση με in vivo παρέμβαση σε εργατικά σωματεία, σε εργασιακούς και αγροτικούς χώρους κ.λπ. είναι εκ των ων ουκ άνευ, αν και δυστυχώς θεωρούμε ότι εδώ δεν μπορούμε να είμαστε πολύ αισιόδοξοι(!). Παράλληλα, όπλο κατά του φόβου είναι βέβαια η αληθινή και πλήρης ενημέρωση π.χ. με συνεχή λειτουργία τουλάχιστον ενός πλήρως οργανωμένου τηλεοπτικού σταθμού πανελλήνιας εμβέλειας. Ο στόχος αυτός δεν εγκαταλείπεται ποτέ πάση θυσία! Μια συνεχής αντικειμενική ενημέρωση μπορεί να μετριάζει τη μοναξιά και τη σκοτεινιά του ατομοκεντρισμού και τον φόβο. Ο εξατομικευμένος αυτός φόβος που φαίνεται να ενισχύεται συνεχώς στην εποχή μας, στέκεται εμπόδιο στη δημοκρατία και ενίοτε μπορεί να ανέχεται απολυταρχικές, ακόμα και φασιστικές μορφές εξουσίας, που επιδιώκουν να επιβάλουν οι κυρίαρχες ελίτ διεθνώς. Οσον αφορά την εξηγητική ψυχολογική θεωρία του «συνδρόμου της Στοκχόλμης», όπου το θύμα συμπαθεί μετά και υποστηρίζει τον θύτη του, ίσως λειτουργεί σε ελάχιστες μεμονωμένες περιπτώσεις αλλά είναι εδώ ανεπαρκής. Επίσης ωραιοποιεί και άρα συγκαλύπτει τις όποιες αδυναμίες και σφάλματα του κόμματος. Βέβαια «έχουν οι καιροί γυρίσματα», όμως επίσης «συν Αθηνά και χείρα κίνει» όπου το δεύτερο αφορά όλους αλλά κυρίως τον ΣΥΡΙΖΑ ως οργανωμένο κομματικό όλο. *δρ Φιλοσοφίας, Φυσικού '"
            ],
            "application/vnd.google.colaboratory.intrinsic+json": {
              "type": "string"
            }
          },
          "metadata": {},
          "execution_count": 23
        }
      ]
    },
    {
      "cell_type": "markdown",
      "source": [
        "Αν τυχόν δείτε κάτι περίεργο, π.χ. στο τέλος σε κάθε full_text υπάρχει η φράση \"Διαβάστε περισσότερα...\", μπορείτε να το αφαιρέσετε έτσι:"
      ],
      "metadata": {
        "id": "ON2j7ZQUneJv"
      }
    },
    {
      "cell_type": "code",
      "source": [
        "#efsyn_full_articles_df['clean_text'] = efsyn_full_articles_df['full_text'].str.replace(\"Διαβάστε περισσότερα...\", \"\")"
      ],
      "metadata": {
        "id": "Mdss18MqncGQ"
      },
      "execution_count": null,
      "outputs": []
    },
    {
      "cell_type": "markdown",
      "source": [
        "\n",
        "\n",
        "---\n",
        "\n"
      ],
      "metadata": {
        "id": "GvzexuVyr_C3"
      }
    },
    {
      "cell_type": "markdown",
      "source": [
        "## **ΒΗΜΑ 9**: Μετατρέψτε την ημερομηνία σε datetime."
      ],
      "metadata": {
        "id": "JyMumWIfmKS3"
      }
    },
    {
      "cell_type": "code",
      "source": [
        "efsyn_full_articles_df.loc[0, 'date']"
      ],
      "metadata": {
        "colab": {
          "base_uri": "https://localhost:8080/",
          "height": 35
        },
        "id": "57Ke0cmkofRq",
        "outputId": "e7b8268f-1e9d-41e9-a30d-28c72e0da3ff"
      },
      "execution_count": null,
      "outputs": [
        {
          "output_type": "execute_result",
          "data": {
            "text/plain": [
              "'2023-05-31 16:00'"
            ],
            "application/vnd.google.colaboratory.intrinsic+json": {
              "type": "string"
            }
          },
          "metadata": {},
          "execution_count": 24
        }
      ]
    },
    {
      "cell_type": "markdown",
      "source": [
        "Τους κωδικούς για το datetime format θα τους βρείτε εδώ: https://docs.python.org/3/library/datetime.html#strftime-and-strptime-behavior\n"
      ],
      "metadata": {
        "id": "NjwKMvfdo3Mg"
      }
    },
    {
      "cell_type": "code",
      "source": [
        "efsyn_full_articles_df['datetime'] = pd.to_datetime(efsyn_full_articles_df['date'], format='%Y-%m-%d %H:%M')\n",
        "efsyn_full_articles_df.head()"
      ],
      "metadata": {
        "colab": {
          "base_uri": "https://localhost:8080/",
          "height": 250
        },
        "id": "l2zePRmEo5Tr",
        "outputId": "3b247e46-444c-4faa-e9eb-9764bfbd5b59"
      },
      "execution_count": null,
      "outputs": [
        {
          "output_type": "execute_result",
          "data": {
            "text/plain": [
              "       site                                                url        section  \\\n",
              "0  efsyn.gr  https://www.efsyn.gr/stiles/apopseis/392002_o-...        ΑΠΟΨΕΙΣ   \n",
              "1  efsyn.gr  https://www.efsyn.gr/stiles/apopseis/392005_om...        ΑΠΟΨΕΙΣ   \n",
              "2  efsyn.gr  https://www.efsyn.gr/politiki/kybernisi/391977...      ΚΥΒΕΡΝΗΣΗ   \n",
              "3  efsyn.gr  https://www.efsyn.gr/politiki/kybernisi/391970...      ΚΥΒΕΡΝΗΣΗ   \n",
              "4  efsyn.gr  https://www.efsyn.gr/politiki/antipoliteysi/39...  ΑΝΤΙΠΟΛΙΤΕΥΣΗ   \n",
              "\n",
              "                                               title              date  \\\n",
              "0                            Ο εξατομικευμένος φόβος  2023-05-31 16:00   \n",
              "1                                     Ομως κατέβηκε…  2023-05-31 16:00   \n",
              "2  Με όπλο την «φορο – τρομοκρατία» στις εκλογές ...  2023-05-31 14:43   \n",
              "3  Από υποσχέσεις άλλο τίποτα ο Μητσοτάκης στον Μ...  2023-05-31 14:03   \n",
              "4  Με εκδηλώσεις ξεκινά η πολιτική εξόρμηση της Α...  2023-05-31 13:00   \n",
              "\n",
              "                            author  \\\n",
              "0             Δημοσθένης Δαγκλής*    \n",
              "1              Ελένη Καρασαββίδου    \n",
              "2   Επιμέλεια: Χρήστος Καλλιμάνης    \n",
              "3                        efsyn.gr    \n",
              "4                        efsyn.gr    \n",
              "\n",
              "                                           full_text            datetime  \n",
              "0  Ακολουθεί αποσπασματική και συνοπτική συμμετοχ... 2023-05-31 16:00:00  \n",
              "1  Κι όμως! Παραπάνω από τα μισά μέτρα που θεωρού... 2023-05-31 16:00:00  \n",
              "2  Σύμπτωση επαναλαμβανόμενη παύει να είναι σύμπτ... 2023-05-31 14:43:00  \n",
              "3  Πιστός στο γνωστό αφήγημα περί σταθερής κυβέρν... 2023-05-31 14:03:00  \n",
              "4  Στη Θεσσαλονίκη, Πέμπτη 1/6, 7.30μμ ΕΔΟΘ (Πρ. ... 2023-05-31 13:00:00  "
            ],
            "text/html": [
              "\n",
              "  <div id=\"df-f1277a83-6bf4-4916-a0a6-6bd8faeea48e\">\n",
              "    <div class=\"colab-df-container\">\n",
              "      <div>\n",
              "<style scoped>\n",
              "    .dataframe tbody tr th:only-of-type {\n",
              "        vertical-align: middle;\n",
              "    }\n",
              "\n",
              "    .dataframe tbody tr th {\n",
              "        vertical-align: top;\n",
              "    }\n",
              "\n",
              "    .dataframe thead th {\n",
              "        text-align: right;\n",
              "    }\n",
              "</style>\n",
              "<table border=\"1\" class=\"dataframe\">\n",
              "  <thead>\n",
              "    <tr style=\"text-align: right;\">\n",
              "      <th></th>\n",
              "      <th>site</th>\n",
              "      <th>url</th>\n",
              "      <th>section</th>\n",
              "      <th>title</th>\n",
              "      <th>date</th>\n",
              "      <th>author</th>\n",
              "      <th>full_text</th>\n",
              "      <th>datetime</th>\n",
              "    </tr>\n",
              "  </thead>\n",
              "  <tbody>\n",
              "    <tr>\n",
              "      <th>0</th>\n",
              "      <td>efsyn.gr</td>\n",
              "      <td>https://www.efsyn.gr/stiles/apopseis/392002_o-...</td>\n",
              "      <td>ΑΠΟΨΕΙΣ</td>\n",
              "      <td>Ο εξατομικευμένος φόβος</td>\n",
              "      <td>2023-05-31 16:00</td>\n",
              "      <td>Δημοσθένης Δαγκλής*</td>\n",
              "      <td>Ακολουθεί αποσπασματική και συνοπτική συμμετοχ...</td>\n",
              "      <td>2023-05-31 16:00:00</td>\n",
              "    </tr>\n",
              "    <tr>\n",
              "      <th>1</th>\n",
              "      <td>efsyn.gr</td>\n",
              "      <td>https://www.efsyn.gr/stiles/apopseis/392005_om...</td>\n",
              "      <td>ΑΠΟΨΕΙΣ</td>\n",
              "      <td>Ομως κατέβηκε…</td>\n",
              "      <td>2023-05-31 16:00</td>\n",
              "      <td>Ελένη Καρασαββίδου</td>\n",
              "      <td>Κι όμως! Παραπάνω από τα μισά μέτρα που θεωρού...</td>\n",
              "      <td>2023-05-31 16:00:00</td>\n",
              "    </tr>\n",
              "    <tr>\n",
              "      <th>2</th>\n",
              "      <td>efsyn.gr</td>\n",
              "      <td>https://www.efsyn.gr/politiki/kybernisi/391977...</td>\n",
              "      <td>ΚΥΒΕΡΝΗΣΗ</td>\n",
              "      <td>Με όπλο την «φορο – τρομοκρατία» στις εκλογές ...</td>\n",
              "      <td>2023-05-31 14:43</td>\n",
              "      <td>Επιμέλεια: Χρήστος Καλλιμάνης</td>\n",
              "      <td>Σύμπτωση επαναλαμβανόμενη παύει να είναι σύμπτ...</td>\n",
              "      <td>2023-05-31 14:43:00</td>\n",
              "    </tr>\n",
              "    <tr>\n",
              "      <th>3</th>\n",
              "      <td>efsyn.gr</td>\n",
              "      <td>https://www.efsyn.gr/politiki/kybernisi/391970...</td>\n",
              "      <td>ΚΥΒΕΡΝΗΣΗ</td>\n",
              "      <td>Από υποσχέσεις άλλο τίποτα ο Μητσοτάκης στον Μ...</td>\n",
              "      <td>2023-05-31 14:03</td>\n",
              "      <td>efsyn.gr</td>\n",
              "      <td>Πιστός στο γνωστό αφήγημα περί σταθερής κυβέρν...</td>\n",
              "      <td>2023-05-31 14:03:00</td>\n",
              "    </tr>\n",
              "    <tr>\n",
              "      <th>4</th>\n",
              "      <td>efsyn.gr</td>\n",
              "      <td>https://www.efsyn.gr/politiki/antipoliteysi/39...</td>\n",
              "      <td>ΑΝΤΙΠΟΛΙΤΕΥΣΗ</td>\n",
              "      <td>Με εκδηλώσεις ξεκινά η πολιτική εξόρμηση της Α...</td>\n",
              "      <td>2023-05-31 13:00</td>\n",
              "      <td>efsyn.gr</td>\n",
              "      <td>Στη Θεσσαλονίκη, Πέμπτη 1/6, 7.30μμ ΕΔΟΘ (Πρ. ...</td>\n",
              "      <td>2023-05-31 13:00:00</td>\n",
              "    </tr>\n",
              "  </tbody>\n",
              "</table>\n",
              "</div>\n",
              "      <button class=\"colab-df-convert\" onclick=\"convertToInteractive('df-f1277a83-6bf4-4916-a0a6-6bd8faeea48e')\"\n",
              "              title=\"Convert this dataframe to an interactive table.\"\n",
              "              style=\"display:none;\">\n",
              "        \n",
              "  <svg xmlns=\"http://www.w3.org/2000/svg\" height=\"24px\"viewBox=\"0 0 24 24\"\n",
              "       width=\"24px\">\n",
              "    <path d=\"M0 0h24v24H0V0z\" fill=\"none\"/>\n",
              "    <path d=\"M18.56 5.44l.94 2.06.94-2.06 2.06-.94-2.06-.94-.94-2.06-.94 2.06-2.06.94zm-11 1L8.5 8.5l.94-2.06 2.06-.94-2.06-.94L8.5 2.5l-.94 2.06-2.06.94zm10 10l.94 2.06.94-2.06 2.06-.94-2.06-.94-.94-2.06-.94 2.06-2.06.94z\"/><path d=\"M17.41 7.96l-1.37-1.37c-.4-.4-.92-.59-1.43-.59-.52 0-1.04.2-1.43.59L10.3 9.45l-7.72 7.72c-.78.78-.78 2.05 0 2.83L4 21.41c.39.39.9.59 1.41.59.51 0 1.02-.2 1.41-.59l7.78-7.78 2.81-2.81c.8-.78.8-2.07 0-2.86zM5.41 20L4 18.59l7.72-7.72 1.47 1.35L5.41 20z\"/>\n",
              "  </svg>\n",
              "      </button>\n",
              "      \n",
              "  <style>\n",
              "    .colab-df-container {\n",
              "      display:flex;\n",
              "      flex-wrap:wrap;\n",
              "      gap: 12px;\n",
              "    }\n",
              "\n",
              "    .colab-df-convert {\n",
              "      background-color: #E8F0FE;\n",
              "      border: none;\n",
              "      border-radius: 50%;\n",
              "      cursor: pointer;\n",
              "      display: none;\n",
              "      fill: #1967D2;\n",
              "      height: 32px;\n",
              "      padding: 0 0 0 0;\n",
              "      width: 32px;\n",
              "    }\n",
              "\n",
              "    .colab-df-convert:hover {\n",
              "      background-color: #E2EBFA;\n",
              "      box-shadow: 0px 1px 2px rgba(60, 64, 67, 0.3), 0px 1px 3px 1px rgba(60, 64, 67, 0.15);\n",
              "      fill: #174EA6;\n",
              "    }\n",
              "\n",
              "    [theme=dark] .colab-df-convert {\n",
              "      background-color: #3B4455;\n",
              "      fill: #D2E3FC;\n",
              "    }\n",
              "\n",
              "    [theme=dark] .colab-df-convert:hover {\n",
              "      background-color: #434B5C;\n",
              "      box-shadow: 0px 1px 3px 1px rgba(0, 0, 0, 0.15);\n",
              "      filter: drop-shadow(0px 1px 2px rgba(0, 0, 0, 0.3));\n",
              "      fill: #FFFFFF;\n",
              "    }\n",
              "  </style>\n",
              "\n",
              "      <script>\n",
              "        const buttonEl =\n",
              "          document.querySelector('#df-f1277a83-6bf4-4916-a0a6-6bd8faeea48e button.colab-df-convert');\n",
              "        buttonEl.style.display =\n",
              "          google.colab.kernel.accessAllowed ? 'block' : 'none';\n",
              "\n",
              "        async function convertToInteractive(key) {\n",
              "          const element = document.querySelector('#df-f1277a83-6bf4-4916-a0a6-6bd8faeea48e');\n",
              "          const dataTable =\n",
              "            await google.colab.kernel.invokeFunction('convertToInteractive',\n",
              "                                                     [key], {});\n",
              "          if (!dataTable) return;\n",
              "\n",
              "          const docLinkHtml = 'Like what you see? Visit the ' +\n",
              "            '<a target=\"_blank\" href=https://colab.research.google.com/notebooks/data_table.ipynb>data table notebook</a>'\n",
              "            + ' to learn more about interactive tables.';\n",
              "          element.innerHTML = '';\n",
              "          dataTable['output_type'] = 'display_data';\n",
              "          await google.colab.output.renderOutput(dataTable, element);\n",
              "          const docLink = document.createElement('div');\n",
              "          docLink.innerHTML = docLinkHtml;\n",
              "          element.appendChild(docLink);\n",
              "        }\n",
              "      </script>\n",
              "    </div>\n",
              "  </div>\n",
              "  "
            ]
          },
          "metadata": {},
          "execution_count": 25
        }
      ]
    },
    {
      "cell_type": "markdown",
      "source": [
        "### **Note**: \n",
        "Αν σας χτυπάει ο κώδικας όταν πάτε να κάνετε μετατροπή σε datetime, διαβάστε τι γράφει το 'error'. Είναι πιθανόν, κάποια ημερομηνία να μην ακολουθεί το format που βάλατε στις παραμέτρους.\n",
        "\n",
        "Αυτό μπορεί να συμβεί μόνο αν πήρατε την ημερομηνία από το text του ```<time>```. Καμιά φορά υπάρχει στην αρχή το \"Upd\" ή μπορεί να γράφει \"Τελευταία ενημέρωση\". Σ' αυτές τις περιπτώσεις πρέπει να το καθαρίσετε με replace.\n",
        "\n",
        "Γι' αυτό προτιμάμε να παίρνουμε το datetime= που είναι πάντα καθαρό. Αν υπάρχει.\n",
        "\n"
      ],
      "metadata": {
        "id": "kERZOE0np5DE"
      }
    },
    {
      "cell_type": "markdown",
      "source": [
        "\n",
        "\n",
        "---\n",
        "\n"
      ],
      "metadata": {
        "id": "k1a4mukptTwv"
      }
    },
    {
      "cell_type": "markdown",
      "source": [
        "Για το wordcloud, θα ακολουθήσετε τη διαδικασία που υπάρχει στο notebook εδώ: https://github.com/datajour-gr/DataJournalism/blob/main/Bachelor%20Lessons%202023/Lesson%207/Process_efsyn_article_texts.ipynb\n",
        "\n",
        "### **Note**: \n",
        "Μην χρησιμοποιήσετε τον κώδικα για το πρώτο wordcloud. Αυτός δεν έχει stopwords. Υπάρχει εκεί για εκπαιδευτικούς λόγους. Ο κώδικας για το δεύτερο wordcloud λαμβάνει υπόψη του τα ελληνικά stopwords και ο κώδικας για το 3ο wordcloud χρησιμοποιεί τις lematized λέξεις. Μπορείτε να κάνετε και το 2ο και το 3ο wordcloud και να δείτε ποιο σας δίνει καλύτερα αποτελέσματα.\n",
        "\n",
        "**Για να σώσετε το wordcloud**, αμέσως μετά το γράφημα, γράψτε:"
      ],
      "metadata": {
        "id": "cTgkEW7-tWCZ"
      }
    },
    {
      "cell_type": "code",
      "source": [
        "#wordcloud.to_file('<το path>/<το όνομα που θα δώσετε στο γράφημα>.png')"
      ],
      "metadata": {
        "id": "6V4PY1nMvv0i"
      },
      "execution_count": null,
      "outputs": []
    }
  ]
}