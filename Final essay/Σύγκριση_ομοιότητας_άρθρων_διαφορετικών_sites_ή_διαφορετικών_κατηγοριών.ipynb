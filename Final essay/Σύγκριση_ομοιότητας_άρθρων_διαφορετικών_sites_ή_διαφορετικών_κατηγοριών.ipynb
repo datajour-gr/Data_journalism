{
  "nbformat": 4,
  "nbformat_minor": 0,
  "metadata": {
    "colab": {
      "provenance": []
    },
    "kernelspec": {
      "name": "python3",
      "display_name": "Python 3"
    },
    "language_info": {
      "name": "python"
    }
  },
  "cells": [
    {
      "cell_type": "markdown",
      "source": [
        "**Περιγραφή**\n",
        "\n",
        "Σ' αυτό το notebook περιγράφεται ένας τρόπος με τον οποίο μπορούμε να συγκρίνουμε κείμενα από δύο διαφορετικά sites ή από διαφορετικές κατηγορίες.\n",
        "\n",
        "Φυσικά με τον ίδιο τρόπο μπορούμε να συγκρίνουμε και περισσότερα από 2 sites ή κατηγορίες.\n",
        "\n",
        "### **Αυτό το notebook δεν θα τρέχει γιατί τα csvs που διαβάζει και φτιάχνει τα dataframes βρίσκονται στο δικό μου drive**\n",
        "\n",
        "**Για να τρέξει πρέπει να βάλετε στο path των csvs το δικό σας path. Tα csvs είναι από datasets που σας έχουν δοθεί και βρίσκονται εδώ**: https://drive.google.com/drive/folders/1jcZN8He4T3TzOg1J68-aQZh2BmktOI6d"
      ],
      "metadata": {
        "id": "aURqpSCI9NAi"
      }
    },
    {
      "cell_type": "markdown",
      "source": [
        "### 1. Εισαγωγή βιβλιοθηκών"
      ],
      "metadata": {
        "id": "Q_xeJqLy961R"
      }
    },
    {
      "cell_type": "markdown",
      "source": [
        "Επειδή θέλουμε να χρησιμοποιήσουμε τα ελληνικά stopwords, αρχικά κατεβάζουμε το (μικρό) λεξικό της ελληνικής γλώσσας.\n",
        "\n",
        "Όταν ολοκληρωθεί το download, μπορούμε να σβήσουμε το output και να κάνουμε την εντολή comment (βάζοντας μπροστά το `#`), ώστε να μην ξανακατέβει το λεξικό αν χρειαστεί να κάνουμε restart το runtime και να ξανατρέξουμε το notebook."
      ],
      "metadata": {
        "id": "5in9hbu6-DwP"
      }
    },
    {
      "cell_type": "code",
      "source": [
        "#!python -m spacy download el_core_news_sm"
      ],
      "metadata": {
        "id": "02Z65XDO2xo-"
      },
      "execution_count": null,
      "outputs": []
    },
    {
      "cell_type": "markdown",
      "source": [
        "Εισάγουμε τις βιβλιοθήκες και τα πακέτα που θα χρειαστούμε:\n",
        "- τα pandas, για να φτιάχνουμε dataframes\n",
        "- τη spacy, για να έχουμε nlp (θα χρειαστούμε τα stopwords)\n",
        "- τον TfidfVectorizer, για να διανυσματοποιήσουμε τα κείμενα\n",
        "- το cosine_similarity, για να υπολογίσουμε το βαθμό ομοιότητας των κειμένων\n",
        "- τη matplotlib.pyplot και τη seaborn, για να φτιάξουμε το γράφημα της ομοιότητας (heatmap)\n",
        "- από το google.colab το drive, για να διαβάζουμε τα csvs των δεδομένων μας και να αποθηκεύουμε τα γραφήματα (ή/και dataframes που φτιάχνουμε σαν csvs)"
      ],
      "metadata": {
        "id": "q5UbXgnw_o2C"
      }
    },
    {
      "cell_type": "code",
      "execution_count": 1,
      "metadata": {
        "id": "VIwk3kSH2sED"
      },
      "outputs": [],
      "source": [
        "import pandas as pd\n",
        "import spacy\n",
        "from sklearn.feature_extraction.text import TfidfVectorizer\n",
        "from sklearn.metrics.pairwise import cosine_similarity\n",
        "import matplotlib.pyplot as plt\n",
        "import seaborn as sns"
      ]
    },
    {
      "cell_type": "code",
      "source": [
        "from google.colab import drive\n",
        "drive.mount('/content/gdrive')"
      ],
      "metadata": {
        "colab": {
          "base_uri": "https://localhost:8080/"
        },
        "id": "maNz5Z5U3now",
        "outputId": "3a2141d4-7344-4842-bd47-e1afdede6fe1"
      },
      "execution_count": 2,
      "outputs": [
        {
          "output_type": "stream",
          "name": "stdout",
          "text": [
            "Drive already mounted at /content/gdrive; to attempt to forcibly remount, call drive.mount(\"/content/gdrive\", force_remount=True).\n"
          ]
        }
      ]
    },
    {
      "cell_type": "markdown",
      "source": [
        "Δημιουργούμε την nlp της ελληνικής γλώσσας για να την έχουμε έτοιμη όταν τη χρειαστούμε (στα stopwords)"
      ],
      "metadata": {
        "id": "vdhRBM52ByeV"
      }
    },
    {
      "cell_type": "code",
      "source": [
        "nlp = spacy.load('el_core_news_sm')"
      ],
      "metadata": {
        "id": "HcZyS3BnCeBg"
      },
      "execution_count": 3,
      "outputs": []
    },
    {
      "cell_type": "markdown",
      "source": [
        "### 2. Εισαγωγή δεδομένων (τα csvs με τα κείμενα των άρθρων)"
      ],
      "metadata": {
        "id": "bP_P7eRxCkp_"
      }
    },
    {
      "cell_type": "markdown",
      "source": [
        "Φτιάχνουμε ένα dataframe για το πρώτο site διαβάζοντας το csv από το path του στο drive.\n",
        "\n",
        "- το δικό σας path και όνομα του csv θα διαφέρει από αυτό που φαίνεται εδώ\n",
        "- **αν τρέξετε το παρακάτω κελί δεν θα δουλέψει γιατί το path είναι στο δικό μου gdrive**\n",
        "- μπορείτε να διαβάσετε μόνο csvs που βρίσκονται στο δικό σας drive"
      ],
      "metadata": {
        "id": "7Lse3WaiC8jL"
      }
    },
    {
      "cell_type": "code",
      "source": [
        "ertnews_df = pd.read_csv('/content/gdrive/MyDrive/2023/teaching python/Lesson 9/datasets_MAY23_6_sites/ertnews.gr-MAY23.csv')\n",
        "ertnews_df.head()"
      ],
      "metadata": {
        "colab": {
          "base_uri": "https://localhost:8080/",
          "height": 206
        },
        "id": "WQ0rWOtE3aRQ",
        "outputId": "bdc68c2e-eb84-445b-ae5d-fa1939ca72e2"
      },
      "execution_count": 4,
      "outputs": [
        {
          "output_type": "execute_result",
          "data": {
            "text/plain": [
              "         site                                                url        date  \\\n",
              "0  ertnews.gr  https://www.ertnews.gr/eidiseis/o-santiago-pen...  2023-05-01   \n",
              "1  ertnews.gr  https://www.ertnews.gr/roi-idiseon/synantisi-t...  2023-05-01   \n",
              "2  ertnews.gr  https://www.ertnews.gr/eidiseis/diethni/rosia-...  2023-05-01   \n",
              "3  ertnews.gr  https://www.ertnews.gr/eidiseis/katastrafike-k...  2023-05-01   \n",
              "4  ertnews.gr  https://www.ertnews.gr/eidiseis/diethni/tourki...  2023-05-01   \n",
              "\n",
              "   section                                              title  \\\n",
              "0  Αμερική     Ο Σαντιάγο Πένια, νέος πρόεδρος της Παραγουάης   \n",
              "1   ΔΙΕΘΝΗ  Συνάντηση του αρχηγού του ουκρανικού στρατού μ...   \n",
              "2   ΔΙΕΘΝΗ  Ρωσία: Απεβίωσε σε ηλικία 85 ετών ο διάσημος σ...   \n",
              "3   ΕΛΛΑΔΑ  Καταστράφηκε καφετέρια στην Αρτέμιδα απο πυρκαγιά   \n",
              "4   ΔΙΕΘΝΗ  Τουρκία: Ο «φερόμενος ηγέτης» του Ισλαμικού Κρ...   \n",
              "\n",
              "                        author  \\\n",
              "0  Συντακτική ομάδα ertnews.gr   \n",
              "1  Συντακτική ομάδα ertnews.gr   \n",
              "2  Συντακτική Ομάδα ertnews.gr   \n",
              "3  Συντακτική ομάδα ertnews.gr   \n",
              "4  Συντακτική Ομάδα ertnews.gr   \n",
              "\n",
              "                                                text  \n",
              "0  Ο Σαντιάγο Πένια, ο υποψήφιος του κυβερνώντος ...  \n",
              "1  Εν μέσω προετοιμασιών για την πολυσυζητημένη ο...  \n",
              "2  Απεβίωσε σε ηλικία 85 ετών ο διάσημος Ρώσος σχ...  \n",
              "3  Ολοσχερώς καταστράφηκε καφετέρια στην Αρτέμιδα...  \n",
              "4  Ο «φερόμενος ηγέτης» της τζιχαντιστικής οργάνω...  "
            ],
            "text/html": [
              "\n",
              "  <div id=\"df-c0a1c63b-5a8d-4f17-9aa1-45207d69120e\">\n",
              "    <div class=\"colab-df-container\">\n",
              "      <div>\n",
              "<style scoped>\n",
              "    .dataframe tbody tr th:only-of-type {\n",
              "        vertical-align: middle;\n",
              "    }\n",
              "\n",
              "    .dataframe tbody tr th {\n",
              "        vertical-align: top;\n",
              "    }\n",
              "\n",
              "    .dataframe thead th {\n",
              "        text-align: right;\n",
              "    }\n",
              "</style>\n",
              "<table border=\"1\" class=\"dataframe\">\n",
              "  <thead>\n",
              "    <tr style=\"text-align: right;\">\n",
              "      <th></th>\n",
              "      <th>site</th>\n",
              "      <th>url</th>\n",
              "      <th>date</th>\n",
              "      <th>section</th>\n",
              "      <th>title</th>\n",
              "      <th>author</th>\n",
              "      <th>text</th>\n",
              "    </tr>\n",
              "  </thead>\n",
              "  <tbody>\n",
              "    <tr>\n",
              "      <th>0</th>\n",
              "      <td>ertnews.gr</td>\n",
              "      <td>https://www.ertnews.gr/eidiseis/o-santiago-pen...</td>\n",
              "      <td>2023-05-01</td>\n",
              "      <td>Αμερική</td>\n",
              "      <td>Ο Σαντιάγο Πένια, νέος πρόεδρος της Παραγουάης</td>\n",
              "      <td>Συντακτική ομάδα ertnews.gr</td>\n",
              "      <td>Ο Σαντιάγο Πένια, ο υποψήφιος του κυβερνώντος ...</td>\n",
              "    </tr>\n",
              "    <tr>\n",
              "      <th>1</th>\n",
              "      <td>ertnews.gr</td>\n",
              "      <td>https://www.ertnews.gr/roi-idiseon/synantisi-t...</td>\n",
              "      <td>2023-05-01</td>\n",
              "      <td>ΔΙΕΘΝΗ</td>\n",
              "      <td>Συνάντηση του αρχηγού του ουκρανικού στρατού μ...</td>\n",
              "      <td>Συντακτική ομάδα ertnews.gr</td>\n",
              "      <td>Εν μέσω προετοιμασιών για την πολυσυζητημένη ο...</td>\n",
              "    </tr>\n",
              "    <tr>\n",
              "      <th>2</th>\n",
              "      <td>ertnews.gr</td>\n",
              "      <td>https://www.ertnews.gr/eidiseis/diethni/rosia-...</td>\n",
              "      <td>2023-05-01</td>\n",
              "      <td>ΔΙΕΘΝΗ</td>\n",
              "      <td>Ρωσία: Απεβίωσε σε ηλικία 85 ετών ο διάσημος σ...</td>\n",
              "      <td>Συντακτική Ομάδα ertnews.gr</td>\n",
              "      <td>Απεβίωσε σε ηλικία 85 ετών ο διάσημος Ρώσος σχ...</td>\n",
              "    </tr>\n",
              "    <tr>\n",
              "      <th>3</th>\n",
              "      <td>ertnews.gr</td>\n",
              "      <td>https://www.ertnews.gr/eidiseis/katastrafike-k...</td>\n",
              "      <td>2023-05-01</td>\n",
              "      <td>ΕΛΛΑΔΑ</td>\n",
              "      <td>Καταστράφηκε καφετέρια στην Αρτέμιδα απο πυρκαγιά</td>\n",
              "      <td>Συντακτική ομάδα ertnews.gr</td>\n",
              "      <td>Ολοσχερώς καταστράφηκε καφετέρια στην Αρτέμιδα...</td>\n",
              "    </tr>\n",
              "    <tr>\n",
              "      <th>4</th>\n",
              "      <td>ertnews.gr</td>\n",
              "      <td>https://www.ertnews.gr/eidiseis/diethni/tourki...</td>\n",
              "      <td>2023-05-01</td>\n",
              "      <td>ΔΙΕΘΝΗ</td>\n",
              "      <td>Τουρκία: Ο «φερόμενος ηγέτης» του Ισλαμικού Κρ...</td>\n",
              "      <td>Συντακτική Ομάδα ertnews.gr</td>\n",
              "      <td>Ο «φερόμενος ηγέτης» της τζιχαντιστικής οργάνω...</td>\n",
              "    </tr>\n",
              "  </tbody>\n",
              "</table>\n",
              "</div>\n",
              "      <button class=\"colab-df-convert\" onclick=\"convertToInteractive('df-c0a1c63b-5a8d-4f17-9aa1-45207d69120e')\"\n",
              "              title=\"Convert this dataframe to an interactive table.\"\n",
              "              style=\"display:none;\">\n",
              "        \n",
              "  <svg xmlns=\"http://www.w3.org/2000/svg\" height=\"24px\"viewBox=\"0 0 24 24\"\n",
              "       width=\"24px\">\n",
              "    <path d=\"M0 0h24v24H0V0z\" fill=\"none\"/>\n",
              "    <path d=\"M18.56 5.44l.94 2.06.94-2.06 2.06-.94-2.06-.94-.94-2.06-.94 2.06-2.06.94zm-11 1L8.5 8.5l.94-2.06 2.06-.94-2.06-.94L8.5 2.5l-.94 2.06-2.06.94zm10 10l.94 2.06.94-2.06 2.06-.94-2.06-.94-.94-2.06-.94 2.06-2.06.94z\"/><path d=\"M17.41 7.96l-1.37-1.37c-.4-.4-.92-.59-1.43-.59-.52 0-1.04.2-1.43.59L10.3 9.45l-7.72 7.72c-.78.78-.78 2.05 0 2.83L4 21.41c.39.39.9.59 1.41.59.51 0 1.02-.2 1.41-.59l7.78-7.78 2.81-2.81c.8-.78.8-2.07 0-2.86zM5.41 20L4 18.59l7.72-7.72 1.47 1.35L5.41 20z\"/>\n",
              "  </svg>\n",
              "      </button>\n",
              "      \n",
              "  <style>\n",
              "    .colab-df-container {\n",
              "      display:flex;\n",
              "      flex-wrap:wrap;\n",
              "      gap: 12px;\n",
              "    }\n",
              "\n",
              "    .colab-df-convert {\n",
              "      background-color: #E8F0FE;\n",
              "      border: none;\n",
              "      border-radius: 50%;\n",
              "      cursor: pointer;\n",
              "      display: none;\n",
              "      fill: #1967D2;\n",
              "      height: 32px;\n",
              "      padding: 0 0 0 0;\n",
              "      width: 32px;\n",
              "    }\n",
              "\n",
              "    .colab-df-convert:hover {\n",
              "      background-color: #E2EBFA;\n",
              "      box-shadow: 0px 1px 2px rgba(60, 64, 67, 0.3), 0px 1px 3px 1px rgba(60, 64, 67, 0.15);\n",
              "      fill: #174EA6;\n",
              "    }\n",
              "\n",
              "    [theme=dark] .colab-df-convert {\n",
              "      background-color: #3B4455;\n",
              "      fill: #D2E3FC;\n",
              "    }\n",
              "\n",
              "    [theme=dark] .colab-df-convert:hover {\n",
              "      background-color: #434B5C;\n",
              "      box-shadow: 0px 1px 3px 1px rgba(0, 0, 0, 0.15);\n",
              "      filter: drop-shadow(0px 1px 2px rgba(0, 0, 0, 0.3));\n",
              "      fill: #FFFFFF;\n",
              "    }\n",
              "  </style>\n",
              "\n",
              "      <script>\n",
              "        const buttonEl =\n",
              "          document.querySelector('#df-c0a1c63b-5a8d-4f17-9aa1-45207d69120e button.colab-df-convert');\n",
              "        buttonEl.style.display =\n",
              "          google.colab.kernel.accessAllowed ? 'block' : 'none';\n",
              "\n",
              "        async function convertToInteractive(key) {\n",
              "          const element = document.querySelector('#df-c0a1c63b-5a8d-4f17-9aa1-45207d69120e');\n",
              "          const dataTable =\n",
              "            await google.colab.kernel.invokeFunction('convertToInteractive',\n",
              "                                                     [key], {});\n",
              "          if (!dataTable) return;\n",
              "\n",
              "          const docLinkHtml = 'Like what you see? Visit the ' +\n",
              "            '<a target=\"_blank\" href=https://colab.research.google.com/notebooks/data_table.ipynb>data table notebook</a>'\n",
              "            + ' to learn more about interactive tables.';\n",
              "          element.innerHTML = '';\n",
              "          dataTable['output_type'] = 'display_data';\n",
              "          await google.colab.output.renderOutput(dataTable, element);\n",
              "          const docLink = document.createElement('div');\n",
              "          docLink.innerHTML = docLinkHtml;\n",
              "          element.appendChild(docLink);\n",
              "        }\n",
              "      </script>\n",
              "    </div>\n",
              "  </div>\n",
              "  "
            ]
          },
          "metadata": {},
          "execution_count": 4
        }
      ]
    },
    {
      "cell_type": "markdown",
      "source": [
        "Φτιάχνουμε ένα dataframe για το δεύτερο site διαβάζοντας το csv από το path του στο drive."
      ],
      "metadata": {
        "id": "I34f0Kt3K3Ac"
      }
    },
    {
      "cell_type": "code",
      "source": [
        "in_df = pd.read_csv('/content/gdrive/MyDrive/2023/teaching python/Lesson 9/datasets_MAY23_6_sites/in.gr-MAY23.csv')\n",
        "in_df.head()"
      ],
      "metadata": {
        "colab": {
          "base_uri": "https://localhost:8080/",
          "height": 206
        },
        "id": "SQo8NHnx3jl1",
        "outputId": "8b79aae2-3358-43da-9194-195510fc342c"
      },
      "execution_count": 5,
      "outputs": [
        {
          "output_type": "execute_result",
          "data": {
            "text/plain": [
              "    site                                                url        date  \\\n",
              "0  in.gr  https://www.in.gr/2023/05/01/world/oukrania-sy...  2023-05-01   \n",
              "1  in.gr  https://www.in.gr/2023/05/01/greece/kairos-vro...  2023-05-01   \n",
              "2  in.gr  https://www.in.gr/2023/05/01/sports/on-field/o...  2023-05-01   \n",
              "3  in.gr  https://www.in.gr/2023/05/01/world/paragouai-n...  2023-05-01   \n",
              "4  in.gr  https://www.in.gr/2023/05/01/world/tagip-ernto...  2023-05-01   \n",
              "\n",
              "    section                                              title  \\\n",
              "0   Κόσμος   Ουκρανία: Συνάντηση με ΝΑΤΟ για τις ανάγκες τη...   \n",
              "1   Ελλάδα   Καιρός: Με βροχές και καταιγίδες η επιστροφή τ...   \n",
              "2  On Field           Ο μύθος του Γουέμπλεϊ έγινε εκατό χρόνων   \n",
              "3   Κόσμος   Παραγουάη: Νέος πρόεδρος εκλέγεται ο δεξιός Σα...   \n",
              "4   Κόσμος   Ταγίπ Ερντογάν: Ο φερόμενος ως ηγέτης του Ισλα...   \n",
              "\n",
              "             author                                               text  \n",
              "0        Σύνταξη ΙΝ  Εν μέσω προετοιμασιών για την πολυσυζητημένη ο...  \n",
              "1        Σύνταξη ΙΝ  Με άστατο καιρό θα πραγματοποιηθεί η επιστροφή...  \n",
              "2   Γιώργος Νασμής   Είναι εμβληματικό, σημείο αναφοράς, το μέρος π...  \n",
              "3        Σύνταξη ΙΝ  Ο οικονομολόγος Σαντιάγο Πένια, ο υποψήφιος το...  \n",
              "4        Σύνταξη ΙΝ  Ο «φερόμενος ως ηγέτης» της τζιχαντιστικής οργ...  "
            ],
            "text/html": [
              "\n",
              "  <div id=\"df-b85931d8-84a7-49d5-b756-15799e1eec0e\">\n",
              "    <div class=\"colab-df-container\">\n",
              "      <div>\n",
              "<style scoped>\n",
              "    .dataframe tbody tr th:only-of-type {\n",
              "        vertical-align: middle;\n",
              "    }\n",
              "\n",
              "    .dataframe tbody tr th {\n",
              "        vertical-align: top;\n",
              "    }\n",
              "\n",
              "    .dataframe thead th {\n",
              "        text-align: right;\n",
              "    }\n",
              "</style>\n",
              "<table border=\"1\" class=\"dataframe\">\n",
              "  <thead>\n",
              "    <tr style=\"text-align: right;\">\n",
              "      <th></th>\n",
              "      <th>site</th>\n",
              "      <th>url</th>\n",
              "      <th>date</th>\n",
              "      <th>section</th>\n",
              "      <th>title</th>\n",
              "      <th>author</th>\n",
              "      <th>text</th>\n",
              "    </tr>\n",
              "  </thead>\n",
              "  <tbody>\n",
              "    <tr>\n",
              "      <th>0</th>\n",
              "      <td>in.gr</td>\n",
              "      <td>https://www.in.gr/2023/05/01/world/oukrania-sy...</td>\n",
              "      <td>2023-05-01</td>\n",
              "      <td>Κόσμος</td>\n",
              "      <td>Ουκρανία: Συνάντηση με ΝΑΤΟ για τις ανάγκες τη...</td>\n",
              "      <td>Σύνταξη ΙΝ</td>\n",
              "      <td>Εν μέσω προετοιμασιών για την πολυσυζητημένη ο...</td>\n",
              "    </tr>\n",
              "    <tr>\n",
              "      <th>1</th>\n",
              "      <td>in.gr</td>\n",
              "      <td>https://www.in.gr/2023/05/01/greece/kairos-vro...</td>\n",
              "      <td>2023-05-01</td>\n",
              "      <td>Ελλάδα</td>\n",
              "      <td>Καιρός: Με βροχές και καταιγίδες η επιστροφή τ...</td>\n",
              "      <td>Σύνταξη ΙΝ</td>\n",
              "      <td>Με άστατο καιρό θα πραγματοποιηθεί η επιστροφή...</td>\n",
              "    </tr>\n",
              "    <tr>\n",
              "      <th>2</th>\n",
              "      <td>in.gr</td>\n",
              "      <td>https://www.in.gr/2023/05/01/sports/on-field/o...</td>\n",
              "      <td>2023-05-01</td>\n",
              "      <td>On Field</td>\n",
              "      <td>Ο μύθος του Γουέμπλεϊ έγινε εκατό χρόνων</td>\n",
              "      <td>Γιώργος Νασμής</td>\n",
              "      <td>Είναι εμβληματικό, σημείο αναφοράς, το μέρος π...</td>\n",
              "    </tr>\n",
              "    <tr>\n",
              "      <th>3</th>\n",
              "      <td>in.gr</td>\n",
              "      <td>https://www.in.gr/2023/05/01/world/paragouai-n...</td>\n",
              "      <td>2023-05-01</td>\n",
              "      <td>Κόσμος</td>\n",
              "      <td>Παραγουάη: Νέος πρόεδρος εκλέγεται ο δεξιός Σα...</td>\n",
              "      <td>Σύνταξη ΙΝ</td>\n",
              "      <td>Ο οικονομολόγος Σαντιάγο Πένια, ο υποψήφιος το...</td>\n",
              "    </tr>\n",
              "    <tr>\n",
              "      <th>4</th>\n",
              "      <td>in.gr</td>\n",
              "      <td>https://www.in.gr/2023/05/01/world/tagip-ernto...</td>\n",
              "      <td>2023-05-01</td>\n",
              "      <td>Κόσμος</td>\n",
              "      <td>Ταγίπ Ερντογάν: Ο φερόμενος ως ηγέτης του Ισλα...</td>\n",
              "      <td>Σύνταξη ΙΝ</td>\n",
              "      <td>Ο «φερόμενος ως ηγέτης» της τζιχαντιστικής οργ...</td>\n",
              "    </tr>\n",
              "  </tbody>\n",
              "</table>\n",
              "</div>\n",
              "      <button class=\"colab-df-convert\" onclick=\"convertToInteractive('df-b85931d8-84a7-49d5-b756-15799e1eec0e')\"\n",
              "              title=\"Convert this dataframe to an interactive table.\"\n",
              "              style=\"display:none;\">\n",
              "        \n",
              "  <svg xmlns=\"http://www.w3.org/2000/svg\" height=\"24px\"viewBox=\"0 0 24 24\"\n",
              "       width=\"24px\">\n",
              "    <path d=\"M0 0h24v24H0V0z\" fill=\"none\"/>\n",
              "    <path d=\"M18.56 5.44l.94 2.06.94-2.06 2.06-.94-2.06-.94-.94-2.06-.94 2.06-2.06.94zm-11 1L8.5 8.5l.94-2.06 2.06-.94-2.06-.94L8.5 2.5l-.94 2.06-2.06.94zm10 10l.94 2.06.94-2.06 2.06-.94-2.06-.94-.94-2.06-.94 2.06-2.06.94z\"/><path d=\"M17.41 7.96l-1.37-1.37c-.4-.4-.92-.59-1.43-.59-.52 0-1.04.2-1.43.59L10.3 9.45l-7.72 7.72c-.78.78-.78 2.05 0 2.83L4 21.41c.39.39.9.59 1.41.59.51 0 1.02-.2 1.41-.59l7.78-7.78 2.81-2.81c.8-.78.8-2.07 0-2.86zM5.41 20L4 18.59l7.72-7.72 1.47 1.35L5.41 20z\"/>\n",
              "  </svg>\n",
              "      </button>\n",
              "      \n",
              "  <style>\n",
              "    .colab-df-container {\n",
              "      display:flex;\n",
              "      flex-wrap:wrap;\n",
              "      gap: 12px;\n",
              "    }\n",
              "\n",
              "    .colab-df-convert {\n",
              "      background-color: #E8F0FE;\n",
              "      border: none;\n",
              "      border-radius: 50%;\n",
              "      cursor: pointer;\n",
              "      display: none;\n",
              "      fill: #1967D2;\n",
              "      height: 32px;\n",
              "      padding: 0 0 0 0;\n",
              "      width: 32px;\n",
              "    }\n",
              "\n",
              "    .colab-df-convert:hover {\n",
              "      background-color: #E2EBFA;\n",
              "      box-shadow: 0px 1px 2px rgba(60, 64, 67, 0.3), 0px 1px 3px 1px rgba(60, 64, 67, 0.15);\n",
              "      fill: #174EA6;\n",
              "    }\n",
              "\n",
              "    [theme=dark] .colab-df-convert {\n",
              "      background-color: #3B4455;\n",
              "      fill: #D2E3FC;\n",
              "    }\n",
              "\n",
              "    [theme=dark] .colab-df-convert:hover {\n",
              "      background-color: #434B5C;\n",
              "      box-shadow: 0px 1px 3px 1px rgba(0, 0, 0, 0.15);\n",
              "      filter: drop-shadow(0px 1px 2px rgba(0, 0, 0, 0.3));\n",
              "      fill: #FFFFFF;\n",
              "    }\n",
              "  </style>\n",
              "\n",
              "      <script>\n",
              "        const buttonEl =\n",
              "          document.querySelector('#df-b85931d8-84a7-49d5-b756-15799e1eec0e button.colab-df-convert');\n",
              "        buttonEl.style.display =\n",
              "          google.colab.kernel.accessAllowed ? 'block' : 'none';\n",
              "\n",
              "        async function convertToInteractive(key) {\n",
              "          const element = document.querySelector('#df-b85931d8-84a7-49d5-b756-15799e1eec0e');\n",
              "          const dataTable =\n",
              "            await google.colab.kernel.invokeFunction('convertToInteractive',\n",
              "                                                     [key], {});\n",
              "          if (!dataTable) return;\n",
              "\n",
              "          const docLinkHtml = 'Like what you see? Visit the ' +\n",
              "            '<a target=\"_blank\" href=https://colab.research.google.com/notebooks/data_table.ipynb>data table notebook</a>'\n",
              "            + ' to learn more about interactive tables.';\n",
              "          element.innerHTML = '';\n",
              "          dataTable['output_type'] = 'display_data';\n",
              "          await google.colab.output.renderOutput(dataTable, element);\n",
              "          const docLink = document.createElement('div');\n",
              "          docLink.innerHTML = docLinkHtml;\n",
              "          element.appendChild(docLink);\n",
              "        }\n",
              "      </script>\n",
              "    </div>\n",
              "  </div>\n",
              "  "
            ]
          },
          "metadata": {},
          "execution_count": 5
        }
      ]
    },
    {
      "cell_type": "markdown",
      "source": [
        "### 3. Σύγκριση ομοιότητας όλων των άρθρων των δύο sites\n",
        "\n",
        "Φυσικά μπορείτε να συγκρίνετε περισσότερα από δύο sites ακολουθώντας την ίδια διαδικασία"
      ],
      "metadata": {
        "id": "7Mz86ANHElXH"
      }
    },
    {
      "cell_type": "markdown",
      "source": [
        "**Η λογική είναι η εξής**:\n",
        "\n",
        "Η σύγκριση γίνεται μεταξύ κειμένων. Εφόσον θέλουμε να συγκρίνουμε την ομοιότητα όλης της αρθρογραφίας ενός site μέ εκείνη ενός άλλου και εφόσον στο dataframe του κάθε site έχουμε τα άρθρα ξεχωριστά, πρέπει να συνενώσουμε τα κείμενα των άρθρων κάθε site σε ένα text.\n",
        "\n",
        "Έτσι θα έχουμε 2 texts, ένα για κάθε site και θα τα συγκρίνουμε μεταξύ τους."
      ],
      "metadata": {
        "id": "xzDqSuZQFF1U"
      }
    },
    {
      "cell_type": "code",
      "source": [
        "# φτιάχνω ένα text για τo ertnews.gr με συνένωση των κειμένων ολων των άρθρων του\n",
        "ertnews_text = ertnews_df['text'].str.cat(sep = ' ')\n",
        "ertnews_text[:665] # με το [:665] θα δω τους 665 πρώτους χαρακτήρες του συνενωμένου κειμένου"
      ],
      "metadata": {
        "colab": {
          "base_uri": "https://localhost:8080/",
          "height": 89
        },
        "id": "mHrP9v3C3Qqj",
        "outputId": "954cf5e6-f60c-47e8-c8ab-c2c08fd3ca1b"
      },
      "execution_count": 6,
      "outputs": [
        {
          "output_type": "execute_result",
          "data": {
            "text/plain": [
              "'Ο Σαντιάγο Πένια, ο υποψήφιος του κυβερνώντος κόμματος Colorado (δεξιά) –στην εξουσία επί σχεδόν οκτώ δεκαετίες στην Παραγουάη–, εξελέγη πρόεδρος της χώρας επικρατώντας του βασικού αντιπάλου του, του κεντροαριστερού Εφραίν Αλέγκρε, σύμφωνα με τα επίσημα αποτελέσματα. Ο κ. Πένια, οικονομολόγος 44 ετών, άλλοτε υπουργός Οικονομικών (2015-2017) της κυβέρνησης του προέδρου Οράσιο Καρτές (2013-2018), ανακηρύχθηκε νικητής από το εκλογοδικείο (την εθνική εφορευτική επιτροπή), καθώς συγκέντρωνε το 42% και πλέον των ψήφων, έναντι 27,5% του εξηντάρη κ. Αλέγκρε, με το 96% των ψηφοδελτίων να έχει καταμετρηθεί. Θα διαδεχθεί τον Αύγουστο τον Μάριο Άμπντο Μπενίτες. Η προεδ'"
            ],
            "application/vnd.google.colaboratory.intrinsic+json": {
              "type": "string"
            }
          },
          "metadata": {},
          "execution_count": 6
        }
      ]
    },
    {
      "cell_type": "code",
      "source": [
        "# φτιάχνω ένα text για το in.gr με συνένωση των κειμένων ολων των άρθρων του\n",
        "in_text = in_df['text'].str.cat(sep = ' ')\n",
        "in_text[:665]"
      ],
      "metadata": {
        "colab": {
          "base_uri": "https://localhost:8080/",
          "height": 89
        },
        "id": "9HI_Ankd4Zj9",
        "outputId": "dc7ed3a6-11bb-43b1-aedd-52d2173ab2fa"
      },
      "execution_count": 7,
      "outputs": [
        {
          "output_type": "execute_result",
          "data": {
            "text/plain": [
              "'Εν μέσω προετοιμασιών για την πολυσυζητημένη ουκρανική αντεπίθεση προκειμένου να ανακαταληφθούν εδάφη που κατέχουν οι ρωσικές ένοπλες δυνάμεις στην ανατολική Ουκρανία, ο επικεφαλής των ουκρανικών ένοπλων δυνάμεων Βάλερι Ζαλούζνι συναντήθηκε με τον διοικητή των δυνάμεων του NATO αμερικανό στρατηγό Κρίστοφερ Καβόλι για να συζητήσουν την κατάσταση στα μέτωπα (στη φωτογραφία του Reuters/Carlos Barria, επάνω, ο μικρός Μιχαήλ σπαράζει δίπλα στα φέρετρα της αδερφής του Σοφίας και του αδερφού του Κίρυλου, που σκοτώθηκαν κατά τη ρωσική πυραυλική επίθεση στην πόλη Ουμάν). «Ν’ αντιμετωπιστούν οι προκλήσεις»«Περιέγραψα τα πιθανά σενάρια, τις απειλές και τις προϋποθέσει'"
            ],
            "application/vnd.google.colaboratory.intrinsic+json": {
              "type": "string"
            }
          },
          "metadata": {},
          "execution_count": 7
        }
      ]
    },
    {
      "cell_type": "markdown",
      "source": [
        "Φτιάχνω ένα df με τα 2 texts"
      ],
      "metadata": {
        "id": "GWSFbMcGMiVX"
      }
    },
    {
      "cell_type": "code",
      "source": [
        "two_sites_list = [] # φτιάχνω μια λίστα για να βάλω μέσα τα dictionaries που φτιάχνω παρακάτω\n",
        "ertnewsD = {'site' : 'ertnews.gr', 'text' : ertnews_text} # φτιάχνω dictionary για τo ertnews.gr\n",
        "two_sites_list.append(ertnewsD) # βάζω το dictionary στη λίστα\n",
        "inD = {'site' : 'in.gr', 'text' : in_text} # φτιάχνω dictionary για το in.gr\n",
        "two_sites_list.append(inD) # βάζω το dictionary στη λίστα\n",
        "two_sites_df = pd.DataFrame(two_sites_list) # φτιάχνω dataframe από τη λίστα με τα δύο dictionaries\n",
        "two_sites_df"
      ],
      "metadata": {
        "colab": {
          "base_uri": "https://localhost:8080/",
          "height": 112
        },
        "id": "3g6F6qiB4i7z",
        "outputId": "6f9d3305-8796-41a1-fc02-64ee1fc8f5df"
      },
      "execution_count": 8,
      "outputs": [
        {
          "output_type": "execute_result",
          "data": {
            "text/plain": [
              "         site                                               text\n",
              "0  ertnews.gr  Ο Σαντιάγο Πένια, ο υποψήφιος του κυβερνώντος ...\n",
              "1       in.gr  Εν μέσω προετοιμασιών για την πολυσυζητημένη ο..."
            ],
            "text/html": [
              "\n",
              "  <div id=\"df-9ff69c09-5daa-4a56-9467-5f54badf4ffa\">\n",
              "    <div class=\"colab-df-container\">\n",
              "      <div>\n",
              "<style scoped>\n",
              "    .dataframe tbody tr th:only-of-type {\n",
              "        vertical-align: middle;\n",
              "    }\n",
              "\n",
              "    .dataframe tbody tr th {\n",
              "        vertical-align: top;\n",
              "    }\n",
              "\n",
              "    .dataframe thead th {\n",
              "        text-align: right;\n",
              "    }\n",
              "</style>\n",
              "<table border=\"1\" class=\"dataframe\">\n",
              "  <thead>\n",
              "    <tr style=\"text-align: right;\">\n",
              "      <th></th>\n",
              "      <th>site</th>\n",
              "      <th>text</th>\n",
              "    </tr>\n",
              "  </thead>\n",
              "  <tbody>\n",
              "    <tr>\n",
              "      <th>0</th>\n",
              "      <td>ertnews.gr</td>\n",
              "      <td>Ο Σαντιάγο Πένια, ο υποψήφιος του κυβερνώντος ...</td>\n",
              "    </tr>\n",
              "    <tr>\n",
              "      <th>1</th>\n",
              "      <td>in.gr</td>\n",
              "      <td>Εν μέσω προετοιμασιών για την πολυσυζητημένη ο...</td>\n",
              "    </tr>\n",
              "  </tbody>\n",
              "</table>\n",
              "</div>\n",
              "      <button class=\"colab-df-convert\" onclick=\"convertToInteractive('df-9ff69c09-5daa-4a56-9467-5f54badf4ffa')\"\n",
              "              title=\"Convert this dataframe to an interactive table.\"\n",
              "              style=\"display:none;\">\n",
              "        \n",
              "  <svg xmlns=\"http://www.w3.org/2000/svg\" height=\"24px\"viewBox=\"0 0 24 24\"\n",
              "       width=\"24px\">\n",
              "    <path d=\"M0 0h24v24H0V0z\" fill=\"none\"/>\n",
              "    <path d=\"M18.56 5.44l.94 2.06.94-2.06 2.06-.94-2.06-.94-.94-2.06-.94 2.06-2.06.94zm-11 1L8.5 8.5l.94-2.06 2.06-.94-2.06-.94L8.5 2.5l-.94 2.06-2.06.94zm10 10l.94 2.06.94-2.06 2.06-.94-2.06-.94-.94-2.06-.94 2.06-2.06.94z\"/><path d=\"M17.41 7.96l-1.37-1.37c-.4-.4-.92-.59-1.43-.59-.52 0-1.04.2-1.43.59L10.3 9.45l-7.72 7.72c-.78.78-.78 2.05 0 2.83L4 21.41c.39.39.9.59 1.41.59.51 0 1.02-.2 1.41-.59l7.78-7.78 2.81-2.81c.8-.78.8-2.07 0-2.86zM5.41 20L4 18.59l7.72-7.72 1.47 1.35L5.41 20z\"/>\n",
              "  </svg>\n",
              "      </button>\n",
              "      \n",
              "  <style>\n",
              "    .colab-df-container {\n",
              "      display:flex;\n",
              "      flex-wrap:wrap;\n",
              "      gap: 12px;\n",
              "    }\n",
              "\n",
              "    .colab-df-convert {\n",
              "      background-color: #E8F0FE;\n",
              "      border: none;\n",
              "      border-radius: 50%;\n",
              "      cursor: pointer;\n",
              "      display: none;\n",
              "      fill: #1967D2;\n",
              "      height: 32px;\n",
              "      padding: 0 0 0 0;\n",
              "      width: 32px;\n",
              "    }\n",
              "\n",
              "    .colab-df-convert:hover {\n",
              "      background-color: #E2EBFA;\n",
              "      box-shadow: 0px 1px 2px rgba(60, 64, 67, 0.3), 0px 1px 3px 1px rgba(60, 64, 67, 0.15);\n",
              "      fill: #174EA6;\n",
              "    }\n",
              "\n",
              "    [theme=dark] .colab-df-convert {\n",
              "      background-color: #3B4455;\n",
              "      fill: #D2E3FC;\n",
              "    }\n",
              "\n",
              "    [theme=dark] .colab-df-convert:hover {\n",
              "      background-color: #434B5C;\n",
              "      box-shadow: 0px 1px 3px 1px rgba(0, 0, 0, 0.15);\n",
              "      filter: drop-shadow(0px 1px 2px rgba(0, 0, 0, 0.3));\n",
              "      fill: #FFFFFF;\n",
              "    }\n",
              "  </style>\n",
              "\n",
              "      <script>\n",
              "        const buttonEl =\n",
              "          document.querySelector('#df-9ff69c09-5daa-4a56-9467-5f54badf4ffa button.colab-df-convert');\n",
              "        buttonEl.style.display =\n",
              "          google.colab.kernel.accessAllowed ? 'block' : 'none';\n",
              "\n",
              "        async function convertToInteractive(key) {\n",
              "          const element = document.querySelector('#df-9ff69c09-5daa-4a56-9467-5f54badf4ffa');\n",
              "          const dataTable =\n",
              "            await google.colab.kernel.invokeFunction('convertToInteractive',\n",
              "                                                     [key], {});\n",
              "          if (!dataTable) return;\n",
              "\n",
              "          const docLinkHtml = 'Like what you see? Visit the ' +\n",
              "            '<a target=\"_blank\" href=https://colab.research.google.com/notebooks/data_table.ipynb>data table notebook</a>'\n",
              "            + ' to learn more about interactive tables.';\n",
              "          element.innerHTML = '';\n",
              "          dataTable['output_type'] = 'display_data';\n",
              "          await google.colab.output.renderOutput(dataTable, element);\n",
              "          const docLink = document.createElement('div');\n",
              "          docLink.innerHTML = docLinkHtml;\n",
              "          element.appendChild(docLink);\n",
              "        }\n",
              "      </script>\n",
              "    </div>\n",
              "  </div>\n",
              "  "
            ]
          },
          "metadata": {},
          "execution_count": 8
        }
      ]
    },
    {
      "cell_type": "markdown",
      "source": [
        "Mε τον tfidf_vectorizer, φτιάχνω τα vectors των texts που είναι στη στήλη `text` του `two_sites_df`. Με το `max_features=500` ζητάω τα vectors να περιλαμβάνουν μόνο τις 500 συχνότερες λέξεις."
      ],
      "metadata": {
        "id": "DcJtQW8hIIM2"
      }
    },
    {
      "cell_type": "code",
      "source": [
        "tfidf_vectorizer = TfidfVectorizer(stop_words= list(nlp.Defaults.stop_words), max_features=500)\n",
        "tfidf_matrix_train = tfidf_vectorizer.fit_transform(two_sites_df['text'])"
      ],
      "metadata": {
        "id": "dPHhJihvHZwc"
      },
      "execution_count": 9,
      "outputs": []
    },
    {
      "cell_type": "markdown",
      "source": [
        "Φτιάχνω το array της ομοιότητας με το cosine_similarity"
      ],
      "metadata": {
        "id": "nGW-vCv1ONou"
      }
    },
    {
      "cell_type": "code",
      "source": [
        "arr = cosine_similarity(tfidf_matrix_train, tfidf_matrix_train)\n",
        "print(\"cosine scores ==> \", arr)"
      ],
      "metadata": {
        "colab": {
          "base_uri": "https://localhost:8080/"
        },
        "id": "-qiWRJtYKoWg",
        "outputId": "b93c42c0-1105-43ea-b382-83bc608b8877"
      },
      "execution_count": 10,
      "outputs": [
        {
          "output_type": "stream",
          "name": "stdout",
          "text": [
            "cosine scores ==>  [[1.         0.77569182]\n",
            " [0.77569182 1.        ]]\n"
          ]
        }
      ]
    },
    {
      "cell_type": "markdown",
      "source": [
        "Φτιάχνω το heatmap\n",
        "\n",
        "**Note**: η τελευταία εντολή στο παρακάτω cell σώζει την εικόνα του γραφήματος - θα πρέπει να βάλετε το path για το δικό σας drive"
      ],
      "metadata": {
        "id": "0aJyxgk0OahM"
      }
    },
    {
      "cell_type": "code",
      "source": [
        "plt.figure(figsize=(10, 10))\n",
        "plt.title('Βαθμός ομοιότητας των άρθρων από το ertnews.gr και το in.gr (Μάϊος 2023)', y=1.02, fontweight='bold') # το y ορίζει την απόσταση του τίτλου από το γράφημα\n",
        "sns.heatmap(data=arr, annot=True, vmin=0.05, vmax=0.98, cmap=\"PiYG\") # το vmin και το vmax ορίζουν πάνω και κάτω από ποιο αριθμό ομοιότητας θα εμφανίζεται το ντεγκραντέ των δύο ακραίων χρωμάτων\n",
        "plt.xticks([0, 1], ['ertnews.gr', 'in.gr']) # ορίζω να εμφανίζονται τα ονόματα των sites αντί για το 0 και 1 του index, στον άξονα x\n",
        "plt.yticks([0, 1], ['ertnews.gr', 'in.gr'], rotation=0) # ορίζω να εμφανίζονται τα ονόματα των sites αντί για το 0 και 1 του index, στον άξονα y - με το rotation=0 κάνω τα ονόματα των sites στον άξονα y να εμφανίζονται οριζόντια\n",
        "#plt.savefig('/content/gdrive/MyDrive/2023/teaching python/Lesson 9/datasets_MAY23_6_sites/ertnews_in_heatmap.png') # αποθηκεύω την εικόνα του γραφήματος στο drive\n"
      ],
      "metadata": {
        "colab": {
          "base_uri": "https://localhost:8080/",
          "height": 922
        },
        "id": "-FpWu9C849gt",
        "outputId": "eedac8b8-f7bf-4955-f915-fa69e2a98113"
      },
      "execution_count": 11,
      "outputs": [
        {
          "output_type": "execute_result",
          "data": {
            "text/plain": [
              "([<matplotlib.axis.YTick at 0x7f825af66950>,\n",
              "  <matplotlib.axis.YTick at 0x7f825af67f70>],\n",
              " [Text(0, 0, 'ertnews.gr'), Text(0, 1, 'in.gr')])"
            ]
          },
          "metadata": {},
          "execution_count": 11
        },
        {
          "output_type": "display_data",
          "data": {
            "text/plain": [
              "<Figure size 1000x1000 with 2 Axes>"
            ],
            "image/png": "[encoded data removed]"
          },
          "metadata": {}
        }
      ]
    },
    {
      "cell_type": "code",
      "source": [],
      "metadata": {
        "id": "bEujVkBGGpmN"
      },
      "execution_count": null,
      "outputs": []
    }
  ]
}