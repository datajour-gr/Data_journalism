{
 "cells": [
  {
   "cell_type": "markdown",
   "metadata": {},
   "source": [
    "##  Εισαγωγή στα γραφήματα\n",
    "\n",
    "Αρχικά κατεβάζουμε τα δεδομένα μας από την σιτοσελίδα της Ε.Ε: http://appsso.eurostat.ec.europa.eu/nui/show.do?dataset=une_rt_a&lang=en\n",
    "\n",
    "(αυτή τη φορά τα κατεβάσαμε ήδη για εσάς)"
   ]
  },
  {
   "cell_type": "code",
   "execution_count": null,
   "metadata": {},
   "outputs": [],
   "source": [
    "import pandas as pd\n",
    "import numpy as np\n",
    "%matplotlib inline"
   ]
  },
  {
   "cell_type": "code",
   "execution_count": null,
   "metadata": {},
   "outputs": [],
   "source": [
    "df = pd.read_csv(\"EE_unemployment.csv\")"
   ]
  },
  {
   "cell_type": "code",
   "execution_count": null,
   "metadata": {},
   "outputs": [],
   "source": [
    "df.head()"
   ]
  },
  {
   "cell_type": "code",
   "execution_count": null,
   "metadata": {},
   "outputs": [],
   "source": [
    "df.tail()"
   ]
  },
  {
   "cell_type": "code",
   "execution_count": null,
   "metadata": {},
   "outputs": [],
   "source": [
    "df.plot()"
   ]
  },
  {
   "cell_type": "code",
   "execution_count": null,
   "metadata": {},
   "outputs": [],
   "source": [
    "df[41:46]"
   ]
  },
  {
   "cell_type": "markdown",
   "metadata": {
    "collapsed": true
   },
   "source": [
    "Θα δοκιμάσουμε να υπολογίσουμε το δείκτη ανεργίας, αλλά θα μας βγάλει error!"
   ]
  },
  {
   "cell_type": "code",
   "execution_count": null,
   "metadata": {},
   "outputs": [],
   "source": [
    "df.groupby('GEO').Value.mean()  "
   ]
  },
  {
   "cell_type": "markdown",
   "metadata": {},
   "source": [
    "No numeric types to aggregate ???\n",
    "\n",
    "Ας δούμε τι τύπος είναι τα δεδομένα που προσπαθούμε να επεξεργαστούμε.\n"
   ]
  },
  {
   "cell_type": "code",
   "execution_count": null,
   "metadata": {},
   "outputs": [],
   "source": [
    "df.dtypes"
   ]
  },
  {
   "cell_type": "code",
   "execution_count": null,
   "metadata": {},
   "outputs": [],
   "source": [
    "df.Value.astype(float)"
   ]
  },
  {
   "cell_type": "markdown",
   "metadata": {},
   "source": [
    "Ούτε αυτό δουλεύει γιατί όπως βλέπετε δεν υπάρχουν μόνο αριθμοί, αλλά και : στην στήλη αυτή.\n",
    "    Για να δούμε που είναι αυτό το :"
   ]
  },
  {
   "cell_type": "code",
   "execution_count": null,
   "metadata": {},
   "outputs": [],
   "source": [
    "df[df['Value'] == ':']"
   ]
  },
  {
   "cell_type": "markdown",
   "metadata": {},
   "source": [
    "Ας μετατρέψουμε το : σε κάτι που μπορούμε εύκολα να εξαιρέσουμε ή να ξεφορτωθούμε μετά."
   ]
  },
  {
   "cell_type": "code",
   "execution_count": null,
   "metadata": {},
   "outputs": [],
   "source": [
    "df['Value'].replace(':',np.nan, inplace = True)"
   ]
  },
  {
   "cell_type": "code",
   "execution_count": null,
   "metadata": {},
   "outputs": [],
   "source": [
    "df.Value.astype(float)"
   ]
  },
  {
   "cell_type": "markdown",
   "metadata": {},
   "source": [
    "Πρέπει να αλλάξουμε και το κόμμα!"
   ]
  },
  {
   "cell_type": "code",
   "execution_count": null,
   "metadata": {},
   "outputs": [],
   "source": [
    "df['Value'] = df['Value'].str.replace(',', '')"
   ]
  },
  {
   "cell_type": "code",
   "execution_count": null,
   "metadata": {},
   "outputs": [],
   "source": [
    "df['Value'] = df.Value.astype(float)"
   ]
  },
  {
   "cell_type": "code",
   "execution_count": null,
   "metadata": {},
   "outputs": [],
   "source": [
    "df.dtypes"
   ]
  },
  {
   "cell_type": "markdown",
   "metadata": {},
   "source": [
    "## Γραφήματα"
   ]
  },
  {
   "cell_type": "markdown",
   "metadata": {},
   "source": [
    "Ας φέρουμε ένα ακόμα αρχείο για την ανεργία"
   ]
  },
  {
   "cell_type": "code",
   "execution_count": null,
   "metadata": {},
   "outputs": [],
   "source": [
    "df = pd.read_csv(\"unemployment.csv\")"
   ]
  },
  {
   "cell_type": "code",
   "execution_count": null,
   "metadata": {},
   "outputs": [],
   "source": [
    "df.groupby('country').unemployment.mean().plot(kind='bar')"
   ]
  },
  {
   "cell_type": "code",
   "execution_count": null,
   "metadata": {},
   "outputs": [],
   "source": []
  },
  {
   "cell_type": "code",
   "execution_count": null,
   "metadata": {},
   "outputs": [],
   "source": [
    "df.plot(x='year', y='unemployment')  "
   ]
  },
  {
   "cell_type": "code",
   "execution_count": null,
   "metadata": {},
   "outputs": [],
   "source": [
    "df.groupby('country').plot(x='year', y='unemployment')"
   ]
  },
  {
   "cell_type": "code",
   "execution_count": null,
   "metadata": {},
   "outputs": [],
   "source": [
    "import matplotlib.pyplot as plt\n",
    "\n",
    "fig, ax = plt.subplots()\n",
    "\n",
    "df.groupby('country').plot(x='year', y='unemployment', ax=ax)"
   ]
  },
  {
   "cell_type": "code",
   "execution_count": null,
   "metadata": {},
   "outputs": [],
   "source": [
    "\n",
    "fig = plt.figure() \n",
    "\n",
    "ax = fig.add_subplot(211)\n",
    "ax2 = fig.add_subplot(212)\n",
    "df.groupby('country').plot(x='year', y='unemployment', ax=ax, legend=False)\n",
    "df.groupby('country').plot(x='year', y='unemployment', ax=ax2,legend=False)\n",
    "#111 means 1x1 grid, give me the 1st one which is the entire "
   ]
  },
  {
   "cell_type": "code",
   "execution_count": null,
   "metadata": {},
   "outputs": [],
   "source": [
    "\n",
    "fig = plt.figure() \n",
    "\n",
    "ax = fig.add_subplot(121)\n",
    "ax2 = fig.add_subplot(122)\n",
    "df.groupby('country').plot(x='year', y='unemployment', ax=ax, legend=False)\n",
    "df.groupby('country').plot(x='year', y='unemployment', ax=ax2,legend=False)\n",
    "#111 means 1x1 grid, give me the 1st one which is the entire "
   ]
  },
  {
   "cell_type": "code",
   "execution_count": null,
   "metadata": {},
   "outputs": [],
   "source": []
  },
  {
   "cell_type": "code",
   "execution_count": null,
   "metadata": {},
   "outputs": [],
   "source": [
    "fig = plt.figure() \n",
    "\n",
    "ax = fig.add_subplot(211)\n",
    "ax2 = fig.add_subplot(224)\n",
    "df.groupby('country').plot(x='year', y='unemployment', ax=ax, legend=False)\n",
    "df.groupby('country').plot(x='year', y='unemployment', ax=ax2,legend=False)\n",
    "#111 means 1x1 grid, give me the 1st one which is the entire "
   ]
  },
  {
   "cell_type": "code",
   "execution_count": null,
   "metadata": {},
   "outputs": [],
   "source": [
    "fig, ax = plt.subplots()\n",
    "\n",
    "df.plot(x='year', y='unemployment', ax=ax)"
   ]
  },
  {
   "cell_type": "code",
   "execution_count": null,
   "metadata": {},
   "outputs": [],
   "source": [
    "fig, ax = plt.subplots()\n",
    "\n",
    "\n",
    "#df.plot(x='year', y='unemployment', ax=ax) \n",
    "ax.plot(df.year, df.unemployment, marker= 'o', )"
   ]
  },
  {
   "cell_type": "code",
   "execution_count": null,
   "metadata": {},
   "outputs": [],
   "source": [
    "fig, ax = plt.subplots()\n",
    "\n",
    "\n",
    "#df.plot(x='year', y='unemployment', ax=ax) \n",
    "ax.scatter(df.year, df.unemployment, marker= 'o')"
   ]
  },
  {
   "cell_type": "code",
   "execution_count": null,
   "metadata": {},
   "outputs": [],
   "source": [
    "fig, ax = plt.subplots()\n",
    "\n",
    "\n",
    "for country, group_df in df.groupby('country'):\n",
    "    group_df.plot(x='year', y='unemployment', ax=ax)\n",
    "    #ax.plot(group_df['year'], group_df['unemployment'], ax=ax, label=country)\n",
    "    #print(country)\n",
    "#.plot(x='year', y='unemployment', ax=ax)"
   ]
  },
  {
   "cell_type": "code",
   "execution_count": null,
   "metadata": {},
   "outputs": [],
   "source": [
    "fig, ax = plt.subplots()\n",
    "\n",
    "colors= {\n",
    "    \n",
    "    'Australia': 'red',\n",
    "    'Germany': 'purple',\n",
    "    'Japan': 'pink',\n",
    "    'USA': 'orange'\n",
    "    \n",
    "}\n",
    "\n",
    "\n",
    "for country, group_df in df.groupby('country'):\n",
    "    line_color = colors[country]\n",
    "    group_df.plot(x='year', y='unemployment', ax=ax, color=line_color, label=country)\n",
    "    #ax.plot(group_df['year'], group_df['unemployment'], ax=ax, label=country)\n",
    "    #print(country)\n",
    "#.plot(x='year', y='unemployment', ax=ax)"
   ]
  },
  {
   "cell_type": "code",
   "execution_count": null,
   "metadata": {},
   "outputs": [],
   "source": []
  }
 ],
 "metadata": {
  "kernelspec": {
   "display_name": "Python 3 (ipykernel)",
   "language": "python",
   "name": "python3"
  },
  "language_info": {
   "codemirror_mode": {
    "name": "ipython",
    "version": 3
   },
   "file_extension": ".py",
   "mimetype": "text/x-python",
   "name": "python",
   "nbconvert_exporter": "python",
   "pygments_lexer": "ipython3",
   "version": "3.10.4"
  }
 },
 "nbformat": 4,
 "nbformat_minor": 2
}
