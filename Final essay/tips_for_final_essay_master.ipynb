{
  "nbformat": 4,
  "nbformat_minor": 0,
  "metadata": {
    "colab": {
      "provenance": []
    },
    "kernelspec": {
      "name": "python3",
      "display_name": "Python 3"
    },
    "language_info": {
      "name": "python"
    }
  },
  "cells": [
    {
      "cell_type": "markdown",
      "source": [
        "# **Συμβουλές για την τελική σας εργασία**"
      ],
      "metadata": {
        "id": "nLDqvZ4lAxix"
      }
    },
    {
      "cell_type": "markdown",
      "source": [
        "Η τελική σας εργασία είναι να δημιουργήσετε μια ενδιαφέρουσα ιστορία δεδομένων.\n",
        "\n",
        "Περισσότερα για τις ιστορίες δεδομένων, μπορείτε να διαβάσετε ΕΔΩ: https://calypso.media.uoa.gr/datastories/dos-and-donts-in-data-storytelling/"
      ],
      "metadata": {
        "id": "h9L7hvoT8qPr"
      }
    },
    {
      "cell_type": "markdown",
      "source": [
        "# Τι είναι αυτό το κείμενο;\n",
        "\n",
        "Σκοπός του κειμένου που ακολουθεί είναι να σας βοηθήσει να οργανώσετε τον τρόπο που θα δουλέψετε για την τελική σας εργασία.\n",
        "\n",
        "Είναι αυτονόητο ότι ο καθένας/καθεμιά έχει το δικό του τρόπο οργάνωσης και αυτόν πρέπει να ακολουθήσει. Από όσα γράφονται εδώ μπορείτε να κρατήσετε ότι θέλετε ή και τίποτα."
      ],
      "metadata": {
        "id": "9HJ6Ps3rfN0K"
      }
    },
    {
      "cell_type": "markdown",
      "source": [
        "### Τι μάθαμε"
      ],
      "metadata": {
        "id": "jyo761esSYWn"
      }
    },
    {
      "cell_type": "markdown",
      "source": [
        "Στα μαθήματα που έχουν προηγηθεί είδαμε πώς μπορούμε να κάνουμε κάποια βασικά πράγματα για τη συλλογή και ανάλυση κειμένων με τη γλώσσα προγραμματισμού python.\n",
        "\n",
        "Πιο συγκεκριμένα και πέρα από τα βασικά της python, είδαμε:\n",
        "- πώς να φτιάχνουμε έναν **scrapper** για τη συλλογή δεδομένων από το διαδίκτυο\n",
        "- πώς να φτιάχνουμε **wordclouds**\n",
        "- πώς να χρησιμοποιούμε εργαλεία της βιβλιοθήκης **spacy** για την επεξεργασία της φυσικής γλώσσας (nlp)\n",
        "- πώς να μετράμε λέξεις μέσα στα κείμενα και να διανυσματοποιούμε τα κείμενα με τον **CountVectorizer**\n",
        "- πώς να βρίσκουμε το βαθμό ομοιότητας των κειμένων με το **cosine_similarity**\n",
        "- πώς να χρησιμοποιούμε τον CountVectorizer σε συνδυασμό με το EmoLex για να κάνουμε **sentiment analysis**"
      ],
      "metadata": {
        "id": "cpTJxeJxMPy5"
      }
    },
    {
      "cell_type": "markdown",
      "source": [
        "### Τι υλικό έχουμε στα χέρια μας"
      ],
      "metadata": {
        "id": "g0K-Ofd4SfRn"
      }
    },
    {
      "cell_type": "markdown",
      "source": [
        "Όλα τα παραπάνω καλύφθηκαν σε μια σειρά από notebooks, των οποίων ο σκοπός ήταν εκπαιδευτικός. Αυτό σημαίνει ότι ακολουθούσαν μια συγκεκριμένη ροή με σκοπό την κατανόηση του εκάστοτε κώδικα. Κατά συνέπεια, αυτά τα notebooks περιέχουν κομμάτια κώδικα που μπορείτε να χρησιμοποιήσετε για να πετύχετε το εκάστοτε ζητούμενο, **ΑΛΛΑ**...\n",
        "\n",
        "Αυτό επίσης σημαίνει ότι δεν αποτελούν έναν οδηγό βημάτων που θα πρέπει να χρησιμοποιείτε για τις εργασίες ή τα projects σας. Δηλαδή, για παράδειγμα, όταν θέλετε να κάνετε ένα wordcloud δεν χρειάζεται να το φτιάξετε **και χωρίς** stopwords **και** με stopwords επειδή έτσι είναι στο notebook του μαθήματος. To ίδιο και με τον CountVectorizer: δεν χρειάζεται να φτιάξετε vectorizer χωρίς καμία παράμετρο - αυτός είναι στο notebook του μαθήματος για να δείτε και να καταλάβετε τη σημασία των παραμέτρων."
      ],
      "metadata": {
        "id": "-GbNm-MpPuQE"
      }
    },
    {
      "cell_type": "markdown",
      "source": [
        "### Ένα, δύο, τρία, πολλά notebooks"
      ],
      "metadata": {
        "id": "b_RPLbhjZt4M"
      }
    },
    {
      "cell_type": "markdown",
      "source": [
        "Επίσης, όταν δουλεύουμε για ένα project, **δεν πιάνουμε** ένα notebook και τα κάνουμε όλα εκεί, από το scraping των teasers pages έως το sentiment analysis για όλα τα sites ή τα σώματα κειμένων μας.\n",
        "\n",
        "O λόγος είναι ότι, αν τα κάνουμε όλα σε ένα notebook, κάθε φορά που θα θέλουμε να συνεχίσουμε τη δουλειά (π.χ. κάναμε τα wordclouds και την επόμενη μέρα θέλουμε να κάνουμε sentiment analysis), θα πρέπει να τρέχουμε το notebook απ' την αρχή, δηλαδή να ξανακάνουμε scraping!!! (**δεν το θέλουμε αυτό**)"
      ],
      "metadata": {
        "id": "oOW4P-qVZ1bZ"
      }
    },
    {
      "cell_type": "markdown",
      "source": [
        "### Πώς οργανώνουμε/διαχειριζόμαστε μια εργασία"
      ],
      "metadata": {
        "id": "lnuVLtGRSNUE"
      }
    },
    {
      "cell_type": "markdown",
      "source": [
        "Για την τελική σας εργασία καλείστε να συγκεντρώσετε ένα σημαντικό σε μέγεθος πλήθος δεδομένων για ένα θέμα που σας ενδιαφέρει να καλύψετε δημοσιογραφικά σαν ερευνητές.\n",
        "\n",
        "Η εργασία μπορεί να χωριστεί σε διακριτά στάδια:\n",
        "1. προσδιορίζουμε το θέμα που μας ενδιαφέρει και εντοπίζουμε τα δεδομένα που θέλουμε να έχουμε στη διάθεσή μας για να το καλύψουμε\n",
        "\n",
        "2. οργανώνουμε τα στάδια της δουλειάς μας με την python - για κάθε στάδιο και κάθε πηγή δεδομένων, φτιάχνουμε διαφορετικό notebook\n",
        "\n",
        "3. καθώς προχωράμε, αποθηκεύουμε τα dfs των δεδομένων και των αποτελεσμάτων σαν csvs και τα γραφήματα σαν εικόνες png\n",
        "\n",
        "4. γράφουμε το κείμενό μας σαν post στο datastories (που είναι ένα wordpress site) και το εμπλουτίζουμε με τις εικόνες που έχουμε δημιουργήσει"
      ],
      "metadata": {
        "id": "cQWRW4gbRoG3"
      }
    },
    {
      "cell_type": "markdown",
      "source": [
        "### **Παράδειγμα**"
      ],
      "metadata": {
        "id": "wVvB8G0xn6oe"
      }
    },
    {
      "cell_type": "markdown",
      "source": [
        "Θέλω να ερευνήσω τον τρόπο με τον οποίο καλύπτεται το ζήτημα των ναυαγών προσφύγων και μεταναστών από τα 2 μεγάλα κόμματα και 2 ειδησεογραφικά sites (ένα φιλοκυβερνητικό κι ένα αντιπολιτευτικό) .\n",
        "\n",
        "- Αρχικά, αναζητώ όσα περισσότερα επίσημα στοιχεία μπορώ να βρω (π.χ. χρονοσειρά περιστατικών, πλήθος συμβάντων, κλπ): ψάχνω στο υπουργειο μεταναστευτικής πολιτικής, στο λιμενικό, στην Ε.Ε. κλπ.\n",
        "\n",
        "- Στη συνέχεια ψάχνω για σχετικά δεδομένα σε επίσημα προγράμματα, δηλώσεις, δελτία τύπου και ανακοινώσεις, στα sites των 2 κομμάτων.\n",
        "\n",
        "- Στη συνέχεια αναζητώ άρθρα που να αναφέρονται στο θέμα, σε φιλοκυβερνητικά και αντιπολιτευτικά ειδησεογραφικά sites. Kαταγράφω το χρονικό διάστημα που καλύπτουν αυτά τα άρθρα, καθώς και το πλήθος τους στο κάθε site. Απορρίπτω εξ αρχής τα sites που στο τέλος των σελίδων της αναζήτησης δεν υπάρχει pagination (γιατί δεν θα μπορώ να κάνω δουλειά με το requests).\n",
        "\n",
        "- Καταλήγω στα sites και στο χρονικό διάστημα που θα μελετήσω. Θέλω το χρονικό εύρος να καλύπτεται και από τις 3 πηγές μου (επίσημα στοιχεία, κόμματα, sites) ώστε τα δεδομένα μου να είναι συγκρίσιμα.\n",
        "\n",
        "- Φτιάχνω πίνακες και γραφήματα από τα επίσημα στοιχεία (αν τα τυχόν διαθέσιμα από τους επίσημους οργανισμούς δεν είναι επαρκή ή θέλω να φτιάξω δικά μου για να δείξω κάτι που δεν δείχνουν τα διαθέσιμα στοιχεία).\n",
        "\n",
        "- Κάνω το scraping των sites και των δεδομένων που βρίσκω στα sites των κομμάτων και αποθηκεύω τα δεδομένα μου σε csvs.\n",
        "\n",
        "- Φορτώνω τα csvs σε νέα notebooks για να κάνω τις αναλύσεις και τις συγκρίσεις που θέλω. Ο στόχος είναι να φτιάξω ωραία γραφήματα που να αποτυπώνουν τα ευρήματά μου και να τα αποθηκεύσω σαν png.\n",
        "\n",
        "- Οργανώνω τη δομή του δημοσιογραφικού μου κειμένου και τις εικόνες με τις οποίες θα το εμπλουτίσω. **Χρησιμοποιήσω εικόνες από το διαδίκτυο, μόνο εφόσον είναι ελεύθερες από πνευματικά δικαιώματα** (συνήθως διατίθενται με άδεια creative commons).\n",
        "\n",
        "- Για οποιοδήποτε υλικό χρησιμοποιώ στο άρθρο μου, που δεν είναι δικό μου, κάνω αναφορά στην πηγή.\n",
        "\n",
        "- Φτιάχνω το post της εργασίας μου στο site του μαθήματος (https://calypso.media.uoa.gr/datastories/)"
      ],
      "metadata": {
        "id": "t3cmPtK2bRUM"
      }
    },
    {
      "cell_type": "markdown",
      "source": [
        "### **Για τη δημιουργία του post της εργασίας σας στο datastories, παρακαλούμε να ακολουθήσετε όλα τα βήματα που περιγράφονται ΕΔΩ**: https://calypso.media.uoa.gr/datastories/rythmiseis-tou-post-ths-ergasias-sas/"
      ],
      "metadata": {
        "id": "4D73pOYgnhDx"
      }
    },
    {
      "cell_type": "markdown",
      "source": [
        "\n",
        "\n",
        "---\n",
        "\n"
      ],
      "metadata": {
        "id": "s0EZPK9Xt5jn"
      }
    },
    {
      "cell_type": "markdown",
      "source": [
        "# Δουλεύοντας με την python, διαχείριση notebooks"
      ],
      "metadata": {
        "id": "Al8aGAoco5t4"
      }
    },
    {
      "cell_type": "markdown",
      "source": [
        "## **Scraping**"
      ],
      "metadata": {
        "id": "o_l9jhWUpM0B"
      }
    },
    {
      "cell_type": "markdown",
      "source": [
        "Μια \"νοικοκυρεμένη\" στρατηγική θα μπορούσε να είναι η εξής:\n",
        "\n",
        "1. δουλεύω σε ένα notebook πειραματισμών (π.χ. scraping_builder_requests.ipynb) για να κάνω τα πειράματά μου: για να βρω τα html tags και τα classes για τα δεδομένα που χρειάζομαι από τις σελίδες του/των sites που με ενδιαφέρουν και να βεβαιωθώ ότι οι scrappers που φτιάχνω δουλεύουν, δοκιμάζοντάς τους σε έναν περιορισμένο αριθμό σελίδων και άρθρων.\n",
        "\n",
        "2. αντιγράφω μόνο τον \"παραγωγικό\" κώδικα σε ένα νέο notebook, στο οποίο δίνω το ανάλογο όνομα (π.χ. efsyn_scraper.ipynb). Χρησιμοποιώ αυτό το notebook για να κατεβάσω όλα τα δεδομένα που θέλω από το συγκεκριμένο site.\n",
        "\n",
        "3. επιστρέφω στο notebook των πειραματισμών και τροποποιώντας τον ήδη υπάρχοντα κώδικα χτίζω έναν νέο scraper για ένα άλλο site απ' το οποίο θέλω να πάρω δεδομένα\n",
        "\n",
        "(repeat as needed)\n",
        "\n",
        "Συμπέρασμα: **φτιάχνω ένα ξεχωριστό notebook για κάθε scraper που χρειάζομαι**"
      ],
      "metadata": {
        "id": "guIeTE54psIr"
      }
    },
    {
      "cell_type": "markdown",
      "source": [
        "### **Παράδειγμα ενός τελικού notebook για scraping** (efsyn_scrapper_ekloges2023.ipynb)"
      ],
      "metadata": {
        "id": "Ej0L5dI1pVtC"
      }
    },
    {
      "cell_type": "code",
      "source": [
        "# για το scraping\n",
        "import requests\n",
        "from bs4 import BeautifulSoup\n",
        "import pandas as pd\n",
        "import time"
      ],
      "metadata": {
        "id": "iTvHyBfQpD55"
      },
      "execution_count": null,
      "outputs": []
    },
    {
      "cell_type": "code",
      "source": [
        "# σύνδεση με το gdrive\n",
        "from google.colab import drive\n",
        "drive.mount('/content/drive')"
      ],
      "metadata": {
        "colab": {
          "base_uri": "https://localhost:8080/"
        },
        "id": "ZmdPmNbTxZbn",
        "outputId": "e6a7075c-6aae-4e83-d426-416e1933e7c4"
      },
      "execution_count": null,
      "outputs": [
        {
          "output_type": "stream",
          "name": "stdout",
          "text": [
            "Mounted at /content/drive\n"
          ]
        }
      ]
    },
    {
      "cell_type": "code",
      "execution_count": null,
      "metadata": {
        "id": "8DBjdrG6LiMX"
      },
      "outputs": [],
      "source": [
        "# βασικό url του site\n",
        "main_url = 'https://www.efsyn.gr'\n",
        "# αρχικό url των teaser pages\n",
        "start_url = 'https://www.efsyn.gr/ekloges-2023?page='\n",
        "# εύρος σελίδων\n",
        "start_page = 2\n",
        "end_page = 2"
      ]
    },
    {
      "cell_type": "code",
      "source": [
        "# scraping των teasers pages για να μαζέψω τα urls των άρθρων\n",
        "teasers_list = []\n",
        "\n",
        "for page_num in range(start_page, end_page+1):\n",
        "  page_url = start_url + str(page_num)\n",
        "  response = requests.get(page_url)\n",
        "  doc = BeautifulSoup(response.text, 'html.parser')\n",
        "\n",
        "  teaser_articles_list = doc.find('div', {'class': 'default-teaser triple'}).find_all('article')\n",
        "\n",
        "  for teaser in teaser_articles_list:\n",
        "      story_dict = {}\n",
        "      try:\n",
        "        link = teaser.find('a', {'class': 'full-link'})['href']\n",
        "        if link.startswith(\"http\"):\n",
        "          story_dict['url'] = link\n",
        "        else:\n",
        "          story_dict['url'] = main_url + link\n",
        "      except:\n",
        "        story_dict['url'] = ''\n",
        "        pass\n",
        "      teasers_list.append(story_dict)\n",
        "\n",
        "  time.sleep(1)\n",
        "efsyn_teasers_df = pd.DataFrame(teasers_list)"
      ],
      "metadata": {
        "id": "NUfSnfXIvLfR"
      },
      "execution_count": null,
      "outputs": []
    },
    {
      "cell_type": "code",
      "source": [
        "# scraping των full_articles\n",
        "full_articles_list = []\n",
        "\n",
        "for article_url in efsyn_teasers_df['url']:\n",
        "  response = requests.get(article_url)\n",
        "  doc = BeautifulSoup(response.text, 'html.parser')\n",
        "  article = doc.find('section', {'class': 'article__main'})\n",
        "  full_article_dict = {}\n",
        "\n",
        "  # website\n",
        "  full_article_dict['site'] = \"efsyn.gr\"\n",
        "\n",
        "  # url\n",
        "  full_article_dict['url'] = article_url\n",
        "\n",
        "  #section\n",
        "  try:\n",
        "    section = doc.find('a', {'class': 'article__category'}).text\n",
        "    full_article_dict['section'] = section\n",
        "  except:\n",
        "    full_article_dict['section'] = ''\n",
        "    pass\n",
        "\n",
        "  #title\n",
        "  try:\n",
        "    title = title = article.find('h1').text\n",
        "    full_article_dict['title'] = title\n",
        "  except:\n",
        "    full_article_dict['title'] = ''\n",
        "    pass\n",
        "\n",
        "  # date\n",
        "  try:\n",
        "    date = article.find('time')['datetime']\n",
        "    full_article_dict['date'] = date\n",
        "  except:\n",
        "    full_article_dict['date'] = ''\n",
        "    pass\n",
        "\n",
        "  # author\n",
        "  try:\n",
        "    author = article.find('div', {'class', \"article__author\"}).span.text\n",
        "    full_article_dict['author'] = author\n",
        "  except:\n",
        "    full_article_dict['author'] = ''\n",
        "    pass\n",
        "\n",
        "  # full_text\n",
        "  try:\n",
        "    p_texts_list = []\n",
        "    paragraphs = article.find_all('p')\n",
        "    for p in paragraphs:\n",
        "      p_texts_list.append(p.text)\n",
        "    full_text = ' '.join(p_texts_list)\n",
        "    full_text = \"\".join(full_text.splitlines())\n",
        "    full_article_dict['full_text'] = full_text\n",
        "  except:\n",
        "    full_article_dict['full_text'] = ''\n",
        "    pass\n",
        "\n",
        "  full_articles_list.append(full_article_dict)\n",
        "  time.sleep(1)\n",
        "efsyn_full_articles_df = pd.DataFrame(full_articles_list)\n",
        "efsyn_full_articles_df"
      ],
      "metadata": {
        "colab": {
          "base_uri": "https://localhost:8080/",
          "height": 426
        },
        "id": "8D3izFgZyeey",
        "outputId": "3a172f03-e622-4165-90b8-23303ebb4a91"
      },
      "execution_count": null,
      "outputs": [
        {
          "output_type": "execute_result",
          "data": {
            "text/plain": [
              "        site                                                url       section  \\\n",
              "0   efsyn.gr  https://www.efsyn.gr/stiles/apopseis/393746_an...       ΑΠΟΨΕΙΣ   \n",
              "1   efsyn.gr  https://www.efsyn.gr/stiles/apopseis/393753_er...       ΑΠΟΨΕΙΣ   \n",
              "2   efsyn.gr  https://www.efsyn.gr/stiles/hronografima/39375...  ΧΡΟΝΟΓΡΑΦΗΜΑ   \n",
              "3   efsyn.gr  https://www.efsyn.gr/stiles/apopseis/393759_ot...       ΑΠΟΨΕΙΣ   \n",
              "4   efsyn.gr  https://www.efsyn.gr/stiles/triti-matia/393760...   ΤΡΙΤΗ ΜΑΤΙΑ   \n",
              "5   efsyn.gr  https://www.efsyn.gr/politiki/393696_toys-krem...      ΠΟΛΙΤΙΚΗ   \n",
              "6   efsyn.gr  https://www.efsyn.gr/politiki/paraskinia/39367...    ΠΑΡΑΣΚΗΝΙΑ   \n",
              "7   efsyn.gr  https://www.efsyn.gr/politiki/synenteyxeis/393...  ΣΥΝΕΝΤΕΥΞΕΙΣ   \n",
              "8   efsyn.gr  https://www.efsyn.gr/politiki/393676_apostomon...      ΠΟΛΙΤΙΚΗ   \n",
              "9   efsyn.gr  https://www.efsyn.gr/politiki/393724_me-galazi...      ΠΟΛΙΤΙΚΗ   \n",
              "10  efsyn.gr  https://www.efsyn.gr/politiki/393748_i-simasia...      ΠΟΛΙΤΙΚΗ   \n",
              "11  efsyn.gr  https://www.efsyn.gr/politiki/393662_epikindyn...      ΠΟΛΙΤΙΚΗ   \n",
              "\n",
              "                                                title              date  \\\n",
              "0   Αντιπολίτευση μπορεί να γίνει μόνο «εκτός του ...  2023-06-14 16:00   \n",
              "1                          Ερμηνείες και παρερμηνείες  2023-06-14 16:00   \n",
              "2                            Κι οι άλλοι χτενίζονται…  2023-06-14 16:00   \n",
              "3   Οταν η Αθήνα μιλά για τη Θράκη, καλύτερα... κλ...  2023-06-14 16:00   \n",
              "4                                   Απέναντι στο κιτς  2023-06-14 16:00   \n",
              "5   Τους κρεμάει στα μανταλάκια για τη Ροδόπη -άθε...  2023-06-14 11:55   \n",
              "6                         Bεντέτα Τσίπρα - Ανδρουλάκη  2023-06-14 11:06   \n",
              "7   Στέλιος Κούλογλου: «Ο ΣΥΡΙΖΑ έχασε την ταυτότη...  2023-06-14 10:48   \n",
              "8       Αποστομώνει τη Ν.Δ. ο Βενιζέλος για τη Ροδόπη  2023-06-14 09:48   \n",
              "9   Με το γαλάζιο αφήγημα συντάσσονται Λοβέρδος - ...  2023-06-14 06:00   \n",
              "10                  Η σημασία της Κρήτης για το ΠΑΣΟΚ  2023-06-14 06:00   \n",
              "11    Επικίνδυνα παιχνίδια για τις ψήφους της Ροδόπης  2023-06-14 06:00   \n",
              "\n",
              "                      author  \\\n",
              "0       Αντώνης Δραγανίγος*    \n",
              "1    Γιώργος Μπουλμπασάκος*    \n",
              "2           Πέτρος Μανταίος    \n",
              "3         Ανδρέας Καφετζής*    \n",
              "4           Πέπη Ρηγοπούλου    \n",
              "5                  efsyn.gr    \n",
              "6             Χάρης Ιωάννου    \n",
              "7          Γιώργος Μπόσκος*    \n",
              "8                  efsyn.gr    \n",
              "9    Δημήτρης Κουκλουμπέρης    \n",
              "10   Δημήτρης Κουκλουμπέρης    \n",
              "11        Γιάννης Μπασκάκης    \n",
              "\n",
              "                                            full_text  \n",
              "0   Η «εποχή των άκρων» απαιτεί «ακραίες απαντήσει...  \n",
              "1   Θα συμφωνήσω με την άποψη του κ. Μητσοτάκη ότι...  \n",
              "2   Αντιγράφω από σκόρπιες σημειώσεις τελευταίων η...  \n",
              "3   Ηταν 2010 στην Κομοτηνή, στο βιβλιοπωλείο παρο...  \n",
              "4   Το κιτς, έχοντας απολέσει την αθωότητά του, φο...  \n",
              "5   Δεν έχουν τέλος τα ψέματα και η υποκρισία των ...  \n",
              "6   Ευτυχώς που δεν έπεσαν ο ένας πάνω στον άλλο, ...  \n",
              "7   Ο Στέλιος Κούλογλου, ευρωβουλευτής του ΣΥΡΙΖΑ,...  \n",
              "8   Φωτογραφία αρχείου Τα πράγματα στη θέση τους έ...  \n",
              "9   Σε μια μονόπλευρη τοποθέτηση, που θεωρήθηκε ότ...  \n",
              "10  Περιφέρεια-ορόσημο για το ΠΑΣΟΚ και τον στόχο ...  \n",
              "11  Στιγμιότυπο από τη συνέντευξη του Κυριάκου Μητ...  "
            ],
            "text/html": [
              "\n",
              "  <div id=\"df-d69d1e31-0907-4e6c-b9c9-61fcf78284c5\">\n",
              "    <div class=\"colab-df-container\">\n",
              "      <div>\n",
              "<style scoped>\n",
              "    .dataframe tbody tr th:only-of-type {\n",
              "        vertical-align: middle;\n",
              "    }\n",
              "\n",
              "    .dataframe tbody tr th {\n",
              "        vertical-align: top;\n",
              "    }\n",
              "\n",
              "    .dataframe thead th {\n",
              "        text-align: right;\n",
              "    }\n",
              "</style>\n",
              "<table border=\"1\" class=\"dataframe\">\n",
              "  <thead>\n",
              "    <tr style=\"text-align: right;\">\n",
              "      <th></th>\n",
              "      <th>site</th>\n",
              "      <th>url</th>\n",
              "      <th>section</th>\n",
              "      <th>title</th>\n",
              "      <th>date</th>\n",
              "      <th>author</th>\n",
              "      <th>full_text</th>\n",
              "    </tr>\n",
              "  </thead>\n",
              "  <tbody>\n",
              "    <tr>\n",
              "      <th>0</th>\n",
              "      <td>efsyn.gr</td>\n",
              "      <td>https://www.efsyn.gr/stiles/apopseis/393746_an...</td>\n",
              "      <td>ΑΠΟΨΕΙΣ</td>\n",
              "      <td>Αντιπολίτευση μπορεί να γίνει μόνο «εκτός του ...</td>\n",
              "      <td>2023-06-14 16:00</td>\n",
              "      <td>Αντώνης Δραγανίγος*</td>\n",
              "      <td>Η «εποχή των άκρων» απαιτεί «ακραίες απαντήσει...</td>\n",
              "    </tr>\n",
              "    <tr>\n",
              "      <th>1</th>\n",
              "      <td>efsyn.gr</td>\n",
              "      <td>https://www.efsyn.gr/stiles/apopseis/393753_er...</td>\n",
              "      <td>ΑΠΟΨΕΙΣ</td>\n",
              "      <td>Ερμηνείες και παρερμηνείες</td>\n",
              "      <td>2023-06-14 16:00</td>\n",
              "      <td>Γιώργος Μπουλμπασάκος*</td>\n",
              "      <td>Θα συμφωνήσω με την άποψη του κ. Μητσοτάκη ότι...</td>\n",
              "    </tr>\n",
              "    <tr>\n",
              "      <th>2</th>\n",
              "      <td>efsyn.gr</td>\n",
              "      <td>https://www.efsyn.gr/stiles/hronografima/39375...</td>\n",
              "      <td>ΧΡΟΝΟΓΡΑΦΗΜΑ</td>\n",
              "      <td>Κι οι άλλοι χτενίζονται…</td>\n",
              "      <td>2023-06-14 16:00</td>\n",
              "      <td>Πέτρος Μανταίος</td>\n",
              "      <td>Αντιγράφω από σκόρπιες σημειώσεις τελευταίων η...</td>\n",
              "    </tr>\n",
              "    <tr>\n",
              "      <th>3</th>\n",
              "      <td>efsyn.gr</td>\n",
              "      <td>https://www.efsyn.gr/stiles/apopseis/393759_ot...</td>\n",
              "      <td>ΑΠΟΨΕΙΣ</td>\n",
              "      <td>Οταν η Αθήνα μιλά για τη Θράκη, καλύτερα... κλ...</td>\n",
              "      <td>2023-06-14 16:00</td>\n",
              "      <td>Ανδρέας Καφετζής*</td>\n",
              "      <td>Ηταν 2010 στην Κομοτηνή, στο βιβλιοπωλείο παρο...</td>\n",
              "    </tr>\n",
              "    <tr>\n",
              "      <th>4</th>\n",
              "      <td>efsyn.gr</td>\n",
              "      <td>https://www.efsyn.gr/stiles/triti-matia/393760...</td>\n",
              "      <td>ΤΡΙΤΗ ΜΑΤΙΑ</td>\n",
              "      <td>Απέναντι στο κιτς</td>\n",
              "      <td>2023-06-14 16:00</td>\n",
              "      <td>Πέπη Ρηγοπούλου</td>\n",
              "      <td>Το κιτς, έχοντας απολέσει την αθωότητά του, φο...</td>\n",
              "    </tr>\n",
              "    <tr>\n",
              "      <th>5</th>\n",
              "      <td>efsyn.gr</td>\n",
              "      <td>https://www.efsyn.gr/politiki/393696_toys-krem...</td>\n",
              "      <td>ΠΟΛΙΤΙΚΗ</td>\n",
              "      <td>Τους κρεμάει στα μανταλάκια για τη Ροδόπη -άθε...</td>\n",
              "      <td>2023-06-14 11:55</td>\n",
              "      <td>efsyn.gr</td>\n",
              "      <td>Δεν έχουν τέλος τα ψέματα και η υποκρισία των ...</td>\n",
              "    </tr>\n",
              "    <tr>\n",
              "      <th>6</th>\n",
              "      <td>efsyn.gr</td>\n",
              "      <td>https://www.efsyn.gr/politiki/paraskinia/39367...</td>\n",
              "      <td>ΠΑΡΑΣΚΗΝΙΑ</td>\n",
              "      <td>Bεντέτα Τσίπρα - Ανδρουλάκη</td>\n",
              "      <td>2023-06-14 11:06</td>\n",
              "      <td>Χάρης Ιωάννου</td>\n",
              "      <td>Ευτυχώς που δεν έπεσαν ο ένας πάνω στον άλλο, ...</td>\n",
              "    </tr>\n",
              "    <tr>\n",
              "      <th>7</th>\n",
              "      <td>efsyn.gr</td>\n",
              "      <td>https://www.efsyn.gr/politiki/synenteyxeis/393...</td>\n",
              "      <td>ΣΥΝΕΝΤΕΥΞΕΙΣ</td>\n",
              "      <td>Στέλιος Κούλογλου: «Ο ΣΥΡΙΖΑ έχασε την ταυτότη...</td>\n",
              "      <td>2023-06-14 10:48</td>\n",
              "      <td>Γιώργος Μπόσκος*</td>\n",
              "      <td>Ο Στέλιος Κούλογλου, ευρωβουλευτής του ΣΥΡΙΖΑ,...</td>\n",
              "    </tr>\n",
              "    <tr>\n",
              "      <th>8</th>\n",
              "      <td>efsyn.gr</td>\n",
              "      <td>https://www.efsyn.gr/politiki/393676_apostomon...</td>\n",
              "      <td>ΠΟΛΙΤΙΚΗ</td>\n",
              "      <td>Αποστομώνει τη Ν.Δ. ο Βενιζέλος για τη Ροδόπη</td>\n",
              "      <td>2023-06-14 09:48</td>\n",
              "      <td>efsyn.gr</td>\n",
              "      <td>Φωτογραφία αρχείου Τα πράγματα στη θέση τους έ...</td>\n",
              "    </tr>\n",
              "    <tr>\n",
              "      <th>9</th>\n",
              "      <td>efsyn.gr</td>\n",
              "      <td>https://www.efsyn.gr/politiki/393724_me-galazi...</td>\n",
              "      <td>ΠΟΛΙΤΙΚΗ</td>\n",
              "      <td>Με το γαλάζιο αφήγημα συντάσσονται Λοβέρδος - ...</td>\n",
              "      <td>2023-06-14 06:00</td>\n",
              "      <td>Δημήτρης Κουκλουμπέρης</td>\n",
              "      <td>Σε μια μονόπλευρη τοποθέτηση, που θεωρήθηκε ότ...</td>\n",
              "    </tr>\n",
              "    <tr>\n",
              "      <th>10</th>\n",
              "      <td>efsyn.gr</td>\n",
              "      <td>https://www.efsyn.gr/politiki/393748_i-simasia...</td>\n",
              "      <td>ΠΟΛΙΤΙΚΗ</td>\n",
              "      <td>Η σημασία της Κρήτης για το ΠΑΣΟΚ</td>\n",
              "      <td>2023-06-14 06:00</td>\n",
              "      <td>Δημήτρης Κουκλουμπέρης</td>\n",
              "      <td>Περιφέρεια-ορόσημο για το ΠΑΣΟΚ και τον στόχο ...</td>\n",
              "    </tr>\n",
              "    <tr>\n",
              "      <th>11</th>\n",
              "      <td>efsyn.gr</td>\n",
              "      <td>https://www.efsyn.gr/politiki/393662_epikindyn...</td>\n",
              "      <td>ΠΟΛΙΤΙΚΗ</td>\n",
              "      <td>Επικίνδυνα παιχνίδια για τις ψήφους της Ροδόπης</td>\n",
              "      <td>2023-06-14 06:00</td>\n",
              "      <td>Γιάννης Μπασκάκης</td>\n",
              "      <td>Στιγμιότυπο από τη συνέντευξη του Κυριάκου Μητ...</td>\n",
              "    </tr>\n",
              "  </tbody>\n",
              "</table>\n",
              "</div>\n",
              "      <button class=\"colab-df-convert\" onclick=\"convertToInteractive('df-d69d1e31-0907-4e6c-b9c9-61fcf78284c5')\"\n",
              "              title=\"Convert this dataframe to an interactive table.\"\n",
              "              style=\"display:none;\">\n",
              "        \n",
              "  <svg xmlns=\"http://www.w3.org/2000/svg\" height=\"24px\"viewBox=\"0 0 24 24\"\n",
              "       width=\"24px\">\n",
              "    <path d=\"M0 0h24v24H0V0z\" fill=\"none\"/>\n",
              "    <path d=\"M18.56 5.44l.94 2.06.94-2.06 2.06-.94-2.06-.94-.94-2.06-.94 2.06-2.06.94zm-11 1L8.5 8.5l.94-2.06 2.06-.94-2.06-.94L8.5 2.5l-.94 2.06-2.06.94zm10 10l.94 2.06.94-2.06 2.06-.94-2.06-.94-.94-2.06-.94 2.06-2.06.94z\"/><path d=\"M17.41 7.96l-1.37-1.37c-.4-.4-.92-.59-1.43-.59-.52 0-1.04.2-1.43.59L10.3 9.45l-7.72 7.72c-.78.78-.78 2.05 0 2.83L4 21.41c.39.39.9.59 1.41.59.51 0 1.02-.2 1.41-.59l7.78-7.78 2.81-2.81c.8-.78.8-2.07 0-2.86zM5.41 20L4 18.59l7.72-7.72 1.47 1.35L5.41 20z\"/>\n",
              "  </svg>\n",
              "      </button>\n",
              "      \n",
              "  <style>\n",
              "    .colab-df-container {\n",
              "      display:flex;\n",
              "      flex-wrap:wrap;\n",
              "      gap: 12px;\n",
              "    }\n",
              "\n",
              "    .colab-df-convert {\n",
              "      background-color: #E8F0FE;\n",
              "      border: none;\n",
              "      border-radius: 50%;\n",
              "      cursor: pointer;\n",
              "      display: none;\n",
              "      fill: #1967D2;\n",
              "      height: 32px;\n",
              "      padding: 0 0 0 0;\n",
              "      width: 32px;\n",
              "    }\n",
              "\n",
              "    .colab-df-convert:hover {\n",
              "      background-color: #E2EBFA;\n",
              "      box-shadow: 0px 1px 2px rgba(60, 64, 67, 0.3), 0px 1px 3px 1px rgba(60, 64, 67, 0.15);\n",
              "      fill: #174EA6;\n",
              "    }\n",
              "\n",
              "    [theme=dark] .colab-df-convert {\n",
              "      background-color: #3B4455;\n",
              "      fill: #D2E3FC;\n",
              "    }\n",
              "\n",
              "    [theme=dark] .colab-df-convert:hover {\n",
              "      background-color: #434B5C;\n",
              "      box-shadow: 0px 1px 3px 1px rgba(0, 0, 0, 0.15);\n",
              "      filter: drop-shadow(0px 1px 2px rgba(0, 0, 0, 0.3));\n",
              "      fill: #FFFFFF;\n",
              "    }\n",
              "  </style>\n",
              "\n",
              "      <script>\n",
              "        const buttonEl =\n",
              "          document.querySelector('#df-d69d1e31-0907-4e6c-b9c9-61fcf78284c5 button.colab-df-convert');\n",
              "        buttonEl.style.display =\n",
              "          google.colab.kernel.accessAllowed ? 'block' : 'none';\n",
              "\n",
              "        async function convertToInteractive(key) {\n",
              "          const element = document.querySelector('#df-d69d1e31-0907-4e6c-b9c9-61fcf78284c5');\n",
              "          const dataTable =\n",
              "            await google.colab.kernel.invokeFunction('convertToInteractive',\n",
              "                                                     [key], {});\n",
              "          if (!dataTable) return;\n",
              "\n",
              "          const docLinkHtml = 'Like what you see? Visit the ' +\n",
              "            '<a target=\"_blank\" href=https://colab.research.google.com/notebooks/data_table.ipynb>data table notebook</a>'\n",
              "            + ' to learn more about interactive tables.';\n",
              "          element.innerHTML = '';\n",
              "          dataTable['output_type'] = 'display_data';\n",
              "          await google.colab.output.renderOutput(dataTable, element);\n",
              "          const docLink = document.createElement('div');\n",
              "          docLink.innerHTML = docLinkHtml;\n",
              "          element.appendChild(docLink);\n",
              "        }\n",
              "      </script>\n",
              "    </div>\n",
              "  </div>\n",
              "  "
            ]
          },
          "metadata": {},
          "execution_count": 5
        }
      ]
    },
    {
      "cell_type": "code",
      "source": [
        "efsyn_full_articles_df.to_csv('/content/drive/MyDrive/2023/efsyn_full_articles_ekloges_2023_28-29_5_2023.csv', index=False)"
      ],
      "metadata": {
        "id": "d9B1f1nRzk4T"
      },
      "execution_count": null,
      "outputs": []
    },
    {
      "cell_type": "markdown",
      "source": [
        "**Help**:\n",
        "\n",
        "- Αναλυτικές οδηγίες για το scraping και την προετοιμασία του dataframe, θα βρείτε εδώ: https://github.com/datajour-gr/Data_journalism/blob/master/Final%20essay/%CE%91%CE%BD%CE%B1%CE%BB%CF%85%CF%84%CE%B9%CE%BA%CE%AD%CF%82_%CE%BF%CE%B4%CE%B7%CE%B3%CE%AF%CE%B5%CF%82_%CE%B3%CE%B9%CE%B1_scraping.ipynb\n",
        "\n",
        "- Tips για το πώς δουλεύουμε με τα κείμενα, τα wordclouds και τον vectorizer πηγαίνοντας μπρος πίσω, θα βρείτε εδώ: https://github.com/datajour-gr/Data_journalism/blob/master/Final%20essay/working_with_texts_wordclouds_and_vectorizers.ipynb"
      ],
      "metadata": {
        "id": "oTLTtTbd15cd"
      }
    },
    {
      "cell_type": "markdown",
      "source": [
        "## **Περιγραφή και ανάλυση του σώματος κειμένων**"
      ],
      "metadata": {
        "id": "wawlBcKg1Vti"
      }
    },
    {
      "cell_type": "markdown",
      "source": [
        "Σε ένα νέο notebook (π.χ. text_analysis_efsyn.ipynb), κάνουμε το τυχόν καθάρισμα και την ανάλυση του σώματος κειμένου.\n",
        "\n",
        "Εδώ περιλαμβάνονται:\n",
        "- η εισαγωγή του csvs των full-articles\n",
        "- η μετατροπή της ημερομηνίας σε datetime\n",
        "- η περιγραφή του σώματος κειμένων και η δημιουργία σχετικών γραφημάτων (π.χ. από πόσα άρθρα αποτελείται το σώμα κειμένων, ποιος είναι ο αριθμός των άρθρων ανά ημέρα, ποιος είναι ο μέσος όρος λέξεων των άρθρων ανά ημέρα ή μήνα (ανάλογα με το τι μας λένε τα δεδομένα), πόσα έχουν όνομα συντάκτη και ποιοι είναι οι πέντε πρώτοι συντάκτες σε αρθρογραφία)\n",
        "- το lemmatization των λέξεων για να πάρετε καλύτερα wordclouds\n",
        "- η δημιουργία wordclouds\n",
        "- το vectorization και η εύρεση των συχνότερα εμφανιζόμενων λέξεων ή φράσεων (ngrams)\n",
        "- η συναισθηματική ανάλυση των κειμένων\n",
        "- η κατασκευή χρονοσειρών με την εναλλαγή των συναισθημάτων\n",
        "\n",
        "**Συμβουλή**: μπορείτε να δείτε και να φτιάξετε γραφήματα για όσα metrics θέλετε, αλλά επιλέξτε να εντάξετε στο άρθρο σας μόνο όσα έχουν νόημα (π.χ. για το θέμα των ναυαγίων μάλλον δεν έχει νόημα να πείτε πόσα άρθρα δημοσιεύτηκαν ανά ώρα). Στα εκπαιδευτικά notebooks σας δείξαμε πώς μπορείτε να δείτε διαφορα metrics - δεν χρειάζεται να τα κάνετε όλα, όπως επίσης μπορεί να θέλετε να μετρήσετε και να δείξετε κάτι άλλο, που δεν περιέχεται στα notebooks - γίνεται όμως με παρόμοιο τρόπο)."
      ],
      "metadata": {
        "id": "Oi2dpLcv1kgk"
      }
    },
    {
      "cell_type": "markdown",
      "source": [
        "## **Συγκρίσεις**"
      ],
      "metadata": {
        "id": "D3NfybN96Z08"
      }
    },
    {
      "cell_type": "markdown",
      "source": [
        "Αφού κάνετε την παραπάνω ανάλυση για όλα τα σώματα κειμένων που θέλετε να συμπεριλάβετε στην έρευνά σας, απομένει το μάλλον σημαντικότερο κομμάτι για μια ενδιαφέρουσα ιστορία δεδομένων: η σύγκριση των δεδομένων από τις διάφορες πηγές και ο εμπλουτισμός της με παραδείγματα (πέρα από την παρουσίαση της γενικής εικόνας).\n",
        "\n",
        "Αφού έχετε δει τι κρύβεται στα δεδομένα σας και το έχετε αποκαλύψει με την έρευνα και την ανάλυση, κάντε συγκρίσεις:\n",
        "\n",
        "- πόσο μοιάζουν και πόσο διαφέρουν συνολικά τα δεδομένα από πηγή σε πηγή;\n",
        "- πόσο μοιάζουν ή διαφέρουν τα κείμενα μεταξύ τους;\n",
        "- ποια είναι τα κείμενα με τις μεγαλύτερες ομοιότητες / διαφορές;\n",
        "- ποια άρθρα/ανακοινώσεις/δηλώσεις/προγραμματικές θέσεις είναι περισσότερο φορτισμένα συναισθηματικά; προς ποια κατεύθυνση;\n",
        "- ποια φρασεολογία επικρατεί σε κάθε πηγή;\n",
        "\n",
        "Εντοπίστε συγκεκριμένα κείμενα και δώστε παραδείγματα.\n",
        "\n",
        "Γνωρίστε καλά τα ευρήματά σας και οργανώστε τα σε μια ενδιαφέρουσα αφήγηση.\n",
        "\n",
        "Μη δείξετε κάθε γράφημα που κάνατε (θα τα δούμε στα notebooks που θα επισυνάψετε).\n",
        "\n",
        "Στο post που θα γράψετε, εστιάστε στην αφήγηση, δηλαδή στην ποιότητα της πληροφορίας, στην τεκμηρίωσή της και στην εμπειρία που προσφέρετε στον αναγνώστη. Γι' αυτόν γίνονται όλα αυτά."
      ],
      "metadata": {
        "id": "yuV4obCG7sYA"
      }
    },
    {
      "cell_type": "markdown",
      "source": [
        "**Help**: έναν οδηγό για το πώς μπορείτε να κάνετε cosine_similarity σε κείμενα από δύο διαφορετικές πηγές, θα βρείτε **[ΕΔΩ](https://github.com/datajour-gr/Data_journalism/blob/master/Final%20essay/%CE%A3%CF%8D%CE%B3%CE%BA%CF%81%CE%B9%CF%83%CE%B7_%CE%BF%CE%BC%CE%BF%CE%B9%CF%8C%CF%84%CE%B7%CF%84%CE%B1%CF%82_%CE%AC%CF%81%CE%B8%CF%81%CF%89%CE%BD_%CE%B4%CE%B9%CE%B1%CF%86%CE%BF%CF%81%CE%B5%CF%84%CE%B9%CE%BA%CF%8E%CE%BD_sites_%CE%AE_%CE%B4%CE%B9%CE%B1%CF%86%CE%BF%CF%81%CE%B5%CF%84%CE%B9%CE%BA%CF%8E%CE%BD_%CE%BA%CE%B1%CF%84%CE%B7%CE%B3%CE%BF%CF%81%CE%B9%CF%8E%CE%BD.ipynb)**"
      ],
      "metadata": {
        "id": "QrPg4WJnBdxP"
      }
    },
    {
      "cell_type": "markdown",
      "source": [
        "**Tip**: στις εργασίες που έχετε ήδη κάνει έχετε φτιάξει scraper για τουλάχιστον ένα site. Χρησιμοποιήστε αυτόν για να φέρετε δεδομένα σχετικά με το θέμα σας, αν αυτό σας βολεύει. Φυσικά μπορείτε να χρησιμοποιήσετε και τους scrapers των notebooks των μαθημάτων (π.χ. news247, efsyn) ή να φτιάξετε και καινούριους για άλλα sites."
      ],
      "metadata": {
        "id": "0hhysD_PGMJa"
      }
    }
  ]
}