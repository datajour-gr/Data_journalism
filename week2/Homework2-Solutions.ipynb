{
 "cells": [
  {
   "cell_type": "markdown",
   "metadata": {},
   "source": [
    "## Homework: Dictionaries\n"
   ]
  },
  {
   "cell_type": "markdown",
   "metadata": {},
   "source": [
    "#1) Ας υποθέσουμε ότι είμαστε πολύ κακοί γιατροί και έχουμε έναν ασθενή. \n",
    "\n",
    "Ορίστε ένα λεξικό που να λέγεται patient και θα δουλεύει με τον παρακάτω κώδικα. "
   ]
  },
  {
   "cell_type": "code",
   "execution_count": 2,
   "metadata": {},
   "outputs": [
    {
     "name": "stdout",
     "output_type": "stream",
     "text": [
      "Γιατρέ, ο ασθενής παραπονιέται ότι έχει πυρετό\n"
     ]
    }
   ],
   "source": [
    "patient = {\n",
    "'name': '',\n",
    "'complaint':'πυρετό', \n",
    "}\n",
    "print(\"Γιατρέ, ο ασθενής παραπονιέται ότι έχει\", patient['complaint'])\n",
    "\n"
   ]
  },
  {
   "cell_type": "markdown",
   "metadata": {},
   "source": [
    "#2) Δεν δίνουμε πολύ σημασία στον ασθενή, αλλά όσο έρχονται νέα αποτελέσματα εξετάσεων, τα προσθέτουμε στο λεξικό του ασθενή:"
   ]
  },
  {
   "cell_type": "code",
   "execution_count": 3,
   "metadata": {},
   "outputs": [],
   "source": [
    "patient.update({'Heart rate': 70, 'Temperature': 98.6, 'Infection': 'No'}) "
   ]
  },
  {
   "cell_type": "markdown",
   "metadata": {},
   "source": [
    "Τυπώστε τα keys του λεξικού"
   ]
  },
  {
   "cell_type": "code",
   "execution_count": 8,
   "metadata": {},
   "outputs": [
    {
     "data": {
      "text/plain": [
       "dict_keys(['name', 'complaint', 'Heart rate', 'Temperature', 'Infection'])"
      ]
     },
     "execution_count": 8,
     "metadata": {},
     "output_type": "execute_result"
    }
   ],
   "source": [
    "patient.keys()\n",
    "#patient.values()"
   ]
  },
  {
   "cell_type": "markdown",
   "metadata": {},
   "source": [
    "#3) Τώρα ας γίνουμε γιατροί! Πρώτα πρέπει αν έχουν heart rate ίσο ή μεγαλύτερο από το 100, πρέπει να τους πούμε να ηρεμήσουν. \n",
    "\n",
    "Αποθηκεύστε τη διάγνωση σας σε ένα κλειδί (key) που θα λέγεται 'diagnosis'.\n"
   ]
  },
  {
   "cell_type": "code",
   "execution_count": 17,
   "metadata": {},
   "outputs": [
    {
     "name": "stdout",
     "output_type": "stream",
     "text": [
      "\n"
     ]
    }
   ],
   "source": [
    "patient.update({'diagnosis':''})\n",
    "if patient['Heart rate'] >= 100:\n",
    "    patient.update({'diagnosis':'Relax'})\n",
    "\n",
    "#print(patient['diagnosis'])  "
   ]
  },
  {
   "cell_type": "markdown",
   "metadata": {},
   "source": [
    "Αν έχουν temperature πάνω από 102, αλλά δεν έχουν infection, έχουν πάθει θερμοπληξία.\n",
    "\n",
    "Αν έχουν temperature πάνω από 102 και έχουν και infection, τότε έχουν γρίπη.\n",
    "\n",
    "Αν έχουν infection αλλά όχι temperature πάνω από 102 τότε είναι έχουν ένα απλό κρύωμα.\n",
    "\n",
    "Αν δεν έχουν τίποτα από τα παραπάνω πείτε τους να πάρουν μία ασπιρίνη και να σας τηλεφωνήσουν το πρωί."
   ]
  },
  {
   "cell_type": "markdown",
   "metadata": {},
   "source": [
    "Όταν τελειώσετε με την παραπάνω λούπα, τυπώστε: \"**Το όνομα του ασθενή από το λεξικό**, η διάγνωσή σου είναι  _______.\""
   ]
  },
  {
   "cell_type": "code",
   "execution_count": 19,
   "metadata": {},
   "outputs": [],
   "source": [
    "patients = [{'name': 'Dean', 'Heart rate': 67, 'Temperature': 109, 'Infection': 'No', 'complaint': 'pain'}, {'name': 'Mark', 'Heart rate': 70, 'Temperature': 98.6, 'Infection': 'No', 'complaint': 'pain'}, {'name': 'Susan', 'Heart rate': 110, 'Temperature': 105, 'Infection': 'Yes','complaint': 'pain'}] "
   ]
  },
  {
   "cell_type": "code",
   "execution_count": 20,
   "metadata": {},
   "outputs": [
    {
     "name": "stdout",
     "output_type": "stream",
     "text": [
      "Dean H diagnosi sou einai Thermoplixia\n",
      "Mark H diagnosi sou einai Pare Aspirini\n",
      "Susan H diagnosi sou einai Gripi\n"
     ]
    }
   ],
   "source": [
    "for patient in patients:\n",
    "    patient.update({'diagnosis':'Pare Aspirini'})\n",
    "    if patient['Temperature'] >102 :\n",
    "        if patient['Infection'] == 'No':\n",
    "            patient.update({'diagnosis':'Thermoplixia'})\n",
    "        else:\n",
    "            patient.update({'diagnosis':'Gripi'})\n",
    "    else:\n",
    "        if patient['Infection'] == 'Yes':\n",
    "            patient.update({'diagnosis':'Kryoma'})\n",
    "            \n",
    "for patient in patients:\n",
    "    print (patient['name'], 'H diagnosi sou einai' , patient['diagnosis'])\n",
    "    "
   ]
  },
  {
   "cell_type": "markdown",
   "metadata": {},
   "source": [
    "#5 Δεύτερο Λεξικό\n",
    "\n",
    "Τρέξτε την ίδια λούπα με τους επόμενους ασθενείς και πείτε τους τι ασθένεια έχουν."
   ]
  },
  {
   "cell_type": "code",
   "execution_count": 22,
   "metadata": {},
   "outputs": [],
   "source": [
    "patients_2 = [ {'name': 'Beast', 'Temperature': 99}, {'name': 'Simba', 'Temperature': 105}, {'name': 'Snowwhite', 'Temperature': 98}, {'name': 'Donald', 'Temperature': 99}, {'name': 'Bambi', 'Temperature': 100}, {'name': 'Aladdin', 'Temperature': 104}, {'name': 'Hercules', 'Temperature': 105}, {'name': 'Frollo', 'Temperature': 100}]"
   ]
  },
  {
   "cell_type": "code",
   "execution_count": 24,
   "metadata": {},
   "outputs": [
    {
     "name": "stdout",
     "output_type": "stream",
     "text": [
      "Beast H diagnosi sou einai Kryoma\n",
      "Simba H diagnosi sou einai Thermoplixia/Gripi\n",
      "Snowwhite H diagnosi sou einai Kryoma\n",
      "Donald H diagnosi sou einai Kryoma\n",
      "Bambi H diagnosi sou einai Kryoma\n",
      "Aladdin H diagnosi sou einai Thermoplixia/Gripi\n",
      "Hercules H diagnosi sou einai Thermoplixia/Gripi\n",
      "Frollo H diagnosi sou einai Kryoma\n"
     ]
    }
   ],
   "source": [
    "for patient in patients_2:\n",
    "    patient.update({'diagnosis':'Pare Aspirini'})\n",
    "    if patient['Temperature'] >102 :\n",
    "        patient.update({'diagnosis':'Thermoplixia/Gripi'})   #thermoplixia or gripi gt den kseroume to infection\n",
    "    else:\n",
    "        patient.update({'diagnosis':'Kryoma'})\n",
    "            \n",
    "for patient in patients_2:\n",
    "    print (patient['name'], 'H diagnosi sou einai' , patient['diagnosis'])\n",
    "    "
   ]
  },
  {
   "cell_type": "markdown",
   "metadata": {},
   "source": [
    "#6 Σώστε τις διαγνώσεις σε μια λίστα που θα λέγεται  records"
   ]
  },
  {
   "cell_type": "code",
   "execution_count": 27,
   "metadata": {},
   "outputs": [
    {
     "name": "stdout",
     "output_type": "stream",
     "text": [
      "{'name': 'Dean', 'diagnoisis': 'Thermoplixia'}\n",
      "{'name': 'Mark', 'diagnoisis': 'Pare Aspirini'}\n",
      "{'name': 'Susan', 'diagnoisis': 'Gripi'}\n",
      "{'name': 'Beast', 'diagnoisis': 'Kryoma'}\n",
      "{'name': 'Simba', 'diagnoisis': 'Thermoplixia/Gripi'}\n",
      "{'name': 'Snowwhite', 'diagnoisis': 'Kryoma'}\n",
      "{'name': 'Donald', 'diagnoisis': 'Kryoma'}\n",
      "{'name': 'Bambi', 'diagnoisis': 'Kryoma'}\n",
      "{'name': 'Aladdin', 'diagnoisis': 'Thermoplixia/Gripi'}\n",
      "{'name': 'Hercules', 'diagnoisis': 'Thermoplixia/Gripi'}\n",
      "{'name': 'Frollo', 'diagnoisis': 'Kryoma'}\n"
     ]
    }
   ],
   "source": [
    "records=[]\n",
    "for patient in patients:\n",
    "    newPatient={}\n",
    "    newPatient.update({'name' : patient['name'], 'diagnoisis' : patient['diagnosis']})\n",
    "    records.append(newPatient)\n",
    "    \n",
    "for patient in patients_2:\n",
    "    newPatient={}\n",
    "    newPatient.update({'name' : patient['name'], 'diagnoisis' : patient['diagnosis']})\n",
    "    records.append(newPatient)\n",
    "\n",
    "for record in records:\n",
    "    print (record)"
   ]
  },
  {
   "cell_type": "code",
   "execution_count": null,
   "metadata": {},
   "outputs": [],
   "source": []
  },
  {
   "cell_type": "code",
   "execution_count": null,
   "metadata": {},
   "outputs": [],
   "source": []
  }
 ],
 "metadata": {
  "kernelspec": {
   "display_name": "Python 3",
   "language": "python",
   "name": "python3"
  },
  "language_info": {
   "codemirror_mode": {
    "name": "ipython",
    "version": 3
   },
   "file_extension": ".py",
   "mimetype": "text/x-python",
   "name": "python",
   "nbconvert_exporter": "python",
   "pygments_lexer": "ipython3",
   "version": "3.7.2"
  }
 },
 "nbformat": 4,
 "nbformat_minor": 2
}
